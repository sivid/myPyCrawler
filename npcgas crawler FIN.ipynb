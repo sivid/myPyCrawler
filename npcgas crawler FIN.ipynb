{
 "metadata": {
  "name": ""
 },
 "nbformat": 3,
 "nbformat_minor": 0,
 "worksheets": [
  {
   "cells": [
    {
     "cell_type": "code",
     "collapsed": false,
     "input": [
      "import requests\n",
      "from bs4 import BeautifulSoup\n",
      "#filename = \"%s_%s\"%(m.group('pkAtmMain'), m.group('tenderCaseNo'))\n",
      "page_format = \"http://www.npcgas.com.tw/html/locations/index2.aspx?kind1=1&kind2=%d\" \n",
      "#links = [tag['href'] for tag in soup.findAll('a', {'href': True})]\n",
      "for page in range(5, 12):\n",
      "    #print page_format%(page)\n",
      "    #res = requests.get('http://www.npcgas.com.tw/html/locations/index2.aspx?kind1=1&kind2=5')\n",
      "    res = requests.get(page_format%(page))\n",
      "    soup = BeautifulSoup(res.text)\n",
      "    links = [tag['href'] for tag in soup.findAll('a', {'href': True})]\n",
      "    #print links\n",
      "\n",
      "    # this actually produces duplicate entries.. bleh\n",
      "    for link in links:\n",
      "        if \"show.aspx\" in link:\n",
      "            #print \"http://www.npcgas.com.tw/html/locations/\" + link\n",
      "            yy = \"http://www.npcgas.com.tw/html/locations/\" + link\n",
      "            res1 = requests.get(yy)\n",
      "            infosoup = BeautifulSoup(res1.text)\n",
      "            infotable = infosoup.find('td', { \"class\" : \"bg12_ylefttop\" }) \n",
      "            print infotable.findAll('td')[42].text\n",
      "            print infotable.findAll('td')[43].text\n",
      "            print infotable.findAll('td')[44].text\n",
      "            print infotable.findAll('td')[45].text\n",
      "            print \"=============\"\n"
     ],
     "language": "python",
     "metadata": {},
     "outputs": [
      {
       "output_type": "stream",
       "stream": "stdout",
       "text": [
        "\u7ad9\u3000\u3000\u540d\uff1a\n",
        "\u5168\u570b\u6e2f\u5898\u8def\u7ad9\n",
        "\u96fb\u3000\u3000\u8a71\uff1a\n",
        "02-2659-8405\n",
        "=============\n",
        "\u7ad9\u3000\u3000\u540d\uff1a"
       ]
      },
      {
       "output_type": "stream",
       "stream": "stdout",
       "text": [
        "\n",
        "\u5168\u570b\u6e2f\u5898\u8def\u7ad9\n",
        "\u96fb\u3000\u3000\u8a71\uff1a\n",
        "02-2659-8405\n",
        "=============\n",
        "\u7ad9\u3000\u3000\u540d\uff1a"
       ]
      },
      {
       "output_type": "stream",
       "stream": "stdout",
       "text": [
        "\n",
        "\u5168\u570b\u6d32\u7f8e\u7ad9\n",
        "\u96fb\u3000\u3000\u8a71\uff1a\n",
        "02-8811-3031\n",
        "=============\n",
        "\u7ad9\u3000\u3000\u540d\uff1a"
       ]
      },
      {
       "output_type": "stream",
       "stream": "stdout",
       "text": [
        "\n",
        "\u5168\u570b\u6d32\u7f8e\u7ad9\n",
        "\u96fb\u3000\u3000\u8a71\uff1a\n",
        "02-8811-3031\n",
        "=============\n",
        "\u7ad9\u3000\u3000\u540d\uff1a"
       ]
      },
      {
       "output_type": "stream",
       "stream": "stdout",
       "text": [
        "\n",
        "\u5168\u570b\u6c11\u6b0a\u7ad9\n",
        "\u96fb\u3000\u3000\u8a71\uff1a\n",
        "02-8792-2326\n",
        "=============\n",
        "\u7ad9\u3000\u3000\u540d\uff1a"
       ]
      },
      {
       "output_type": "stream",
       "stream": "stdout",
       "text": [
        "\n",
        "\u5168\u570b\u6c11\u6b0a\u7ad9\n",
        "\u96fb\u3000\u3000\u8a71\uff1a\n",
        "02-8792-2326\n",
        "=============\n",
        "\u7ad9\u3000\u3000\u540d\uff1a"
       ]
      },
      {
       "output_type": "stream",
       "stream": "stdout",
       "text": [
        "\n",
        "\u5168\u570b\u6587\u5fb7\u7ad9\n",
        "\u96fb\u3000\u3000\u8a71\uff1a\n",
        "02-2793-8806\n",
        "=============\n",
        "\u7ad9\u3000\u3000\u540d\uff1a"
       ]
      },
      {
       "output_type": "stream",
       "stream": "stdout",
       "text": [
        "\n",
        "\u5168\u570b\u6587\u5fb7\u7ad9\n",
        "\u96fb\u3000\u3000\u8a71\uff1a\n",
        "02-2793-8806\n",
        "=============\n",
        "\u7ad9\u3000\u3000\u540d\uff1a"
       ]
      },
      {
       "output_type": "stream",
       "stream": "stdout",
       "text": [
        "\n",
        "\u5168\u570b\u64ab\u9060\u7ad9\n",
        "\u96fb\u3000\u3000\u8a71\uff1a\n",
        "02-2767-0389\n",
        "=============\n",
        "\u7ad9\u3000\u3000\u540d\uff1a"
       ]
      },
      {
       "output_type": "stream",
       "stream": "stdout",
       "text": [
        "\n",
        "\u5168\u570b\u64ab\u9060\u7ad9\n",
        "\u96fb\u3000\u3000\u8a71\uff1a\n",
        "02-2767-0389\n",
        "=============\n",
        "\u7ad9\u3000\u3000\u540d\uff1a"
       ]
      },
      {
       "output_type": "stream",
       "stream": "stdout",
       "text": [
        "\n",
        "\u5168\u570b\u5357\u6e2f\u7ad9\n",
        "\u96fb\u3000\u3000\u8a71\uff1a\n",
        "02-2782-8306\n",
        "=============\n",
        "\u7ad9\u3000\u3000\u540d\uff1a"
       ]
      },
      {
       "output_type": "stream",
       "stream": "stdout",
       "text": [
        "\n",
        "\u5168\u570b\u5357\u6e2f\u7ad9\n",
        "\u96fb\u3000\u3000\u8a71\uff1a\n",
        "02-2782-8306\n",
        "=============\n",
        "\u7ad9\u3000\u3000\u540d\uff1a"
       ]
      },
      {
       "output_type": "stream",
       "stream": "stdout",
       "text": [
        "\n",
        "\u5168\u570b\u53f0\u5317\u4ea4\u6d41\u9053\u7ad9\n",
        "\u96fb\u3000\u3000\u8a71\uff1a\n",
        "02-2811-8028\n",
        "=============\n",
        "\u7ad9\u3000\u3000\u540d\uff1a"
       ]
      },
      {
       "output_type": "stream",
       "stream": "stdout",
       "text": [
        "\n",
        "\u5168\u570b\u53f0\u5317\u4ea4\u6d41\u9053\u7ad9\n",
        "\u96fb\u3000\u3000\u8a71\uff1a\n",
        "02-2811-8028\n",
        "=============\n",
        "\u7ad9\u3000\u3000\u540d\uff1a"
       ]
      },
      {
       "output_type": "stream",
       "stream": "stdout",
       "text": [
        "\n",
        "\u5168\u570b\u666f\u7f8e\u7ad9\n",
        "\u96fb\u3000\u3000\u8a71\uff1a\n",
        "02-2935-6519\n",
        "=============\n",
        "\u7ad9\u3000\u3000\u540d\uff1a"
       ]
      },
      {
       "output_type": "stream",
       "stream": "stdout",
       "text": [
        "\n",
        "\u5168\u570b\u666f\u7f8e\u7ad9\n",
        "\u96fb\u3000\u3000\u8a71\uff1a\n",
        "02-2935-6519\n",
        "=============\n",
        "\u7ad9\u3000\u3000\u540d\uff1a"
       ]
      },
      {
       "output_type": "stream",
       "stream": "stdout",
       "text": [
        "\n",
        "\u5168\u570b\u4e09\u9daf\u7ad9\n",
        "\u96fb\u3000\u3000\u8a71\uff1a\n",
        "02-2670-4788\n",
        "=============\n",
        "\u7ad9\u3000\u3000\u540d\uff1a"
       ]
      },
      {
       "output_type": "stream",
       "stream": "stdout",
       "text": [
        "\n",
        "\u5168\u570b\u4e09\u9daf\u7ad9\n",
        "\u96fb\u3000\u3000\u8a71\uff1a\n",
        "02-2670-4788\n",
        "=============\n",
        "\u7ad9\u3000\u3000\u540d\uff1a"
       ]
      },
      {
       "output_type": "stream",
       "stream": "stdout",
       "text": [
        "\n",
        "\u5168\u570b\u601d\u6e90\u8def\u7ad9\n",
        "\u96fb\u3000\u3000\u8a71\uff1a\n",
        "02-8993-7377\n",
        "=============\n",
        "\u7ad9\u3000\u3000\u540d\uff1a"
       ]
      },
      {
       "output_type": "stream",
       "stream": "stdout",
       "text": [
        "\n",
        "\u5168\u570b\u601d\u6e90\u8def\u7ad9\n",
        "\u96fb\u3000\u3000\u8a71\uff1a\n",
        "02-8993-7377\n",
        "=============\n",
        "\u7ad9\u3000\u3000\u540d\uff1a"
       ]
      },
      {
       "output_type": "stream",
       "stream": "stdout",
       "text": [
        "\n",
        "\u5168\u570b\u6de1\u6c34\u7ad9\n",
        "\u96fb\u3000\u3000\u8a71\uff1a\n",
        "02-2808-2600\n",
        "=============\n",
        "\u7ad9\u3000\u3000\u540d\uff1a"
       ]
      },
      {
       "output_type": "stream",
       "stream": "stdout",
       "text": [
        "\n",
        "\u5168\u570b\u6de1\u6c34\u7ad9\n",
        "\u96fb\u3000\u3000\u8a71\uff1a\n",
        "02-2808-2600\n",
        "=============\n",
        "\u7ad9\u3000\u3000\u540d\uff1a"
       ]
      },
      {
       "output_type": "stream",
       "stream": "stdout",
       "text": [
        "\n",
        "\u5168\u570b\u571f\u57ce\u4ea4\u6d41\u9053\u7ad9\n",
        "\u96fb\u3000\u3000\u8a71\uff1a\n",
        "02-2269-4754\n",
        "=============\n",
        "\u7ad9\u3000\u3000\u540d\uff1a"
       ]
      },
      {
       "output_type": "stream",
       "stream": "stdout",
       "text": [
        "\n",
        "\u5168\u570b\u571f\u57ce\u4ea4\u6d41\u9053\u7ad9\n",
        "\u96fb\u3000\u3000\u8a71\uff1a\n",
        "02-2269-4754\n",
        "=============\n",
        "\u7ad9\u3000\u3000\u540d\uff1a"
       ]
      },
      {
       "output_type": "stream",
       "stream": "stdout",
       "text": [
        "\n",
        "\u5168\u570b\u5b89\u548c\u8def\u7ad9\n",
        "\u96fb\u3000\u3000\u8a71\uff1a\n",
        "02-8666-7805\n",
        "=============\n",
        "\u7ad9\u3000\u3000\u540d\uff1a"
       ]
      },
      {
       "output_type": "stream",
       "stream": "stdout",
       "text": [
        "\n",
        "\u5168\u570b\u5b89\u548c\u8def\u7ad9\n",
        "\u96fb\u3000\u3000\u8a71\uff1a\n",
        "02-8666-7805\n",
        "=============\n",
        "\u7ad9\u3000\u3000\u540d\uff1a"
       ]
      },
      {
       "output_type": "stream",
       "stream": "stdout",
       "text": [
        "\n",
        "\u5168\u570b\u6771\u6e56\u7ad9\n",
        "\u96fb\u3000\u3000\u8a71\uff1a\n",
        "02-2692-1236\n",
        "=============\n",
        "\u7ad9\u3000\u3000\u540d\uff1a"
       ]
      },
      {
       "output_type": "stream",
       "stream": "stdout",
       "text": [
        "\n",
        "\u5168\u570b\u6771\u6e56\u7ad9\n",
        "\u96fb\u3000\u3000\u8a71\uff1a\n",
        "02-2692-1236\n",
        "=============\n",
        "\u7ad9\u3000\u3000\u540d\uff1a"
       ]
      },
      {
       "output_type": "stream",
       "stream": "stdout",
       "text": [
        "\n",
        "\u5168\u570b\u571f\u57ce\u4e2d\u83ef\u8def\u7ad9\n",
        "\u96fb\u3000\u3000\u8a71\uff1a\n",
        "02-8261-6999\n",
        "=============\n",
        "\u7ad9\u3000\u3000\u540d\uff1a"
       ]
      },
      {
       "output_type": "stream",
       "stream": "stdout",
       "text": [
        "\n",
        "\u5168\u570b\u571f\u57ce\u4e2d\u83ef\u8def\u7ad9\n",
        "\u96fb\u3000\u3000\u8a71\uff1a\n",
        "02-8261-6999\n",
        "=============\n",
        "\u7ad9\u3000\u3000\u540d\uff1a"
       ]
      },
      {
       "output_type": "stream",
       "stream": "stdout",
       "text": [
        "\n",
        "\u5168\u570b\u65b0\u4e94\u8def\u7ad9\n",
        "\u96fb\u3000\u3000\u8a71\uff1a\n",
        "02-2296-1357\n",
        "=============\n",
        "\u7ad9\u3000\u3000\u540d\uff1a"
       ]
      },
      {
       "output_type": "stream",
       "stream": "stdout",
       "text": [
        "\n",
        "\u5168\u570b\u65b0\u4e94\u8def\u7ad9\n",
        "\u96fb\u3000\u3000\u8a71\uff1a\n",
        "02-2296-1357\n",
        "=============\n",
        "\u7ad9\u3000\u3000\u540d\uff1a"
       ]
      },
      {
       "output_type": "stream",
       "stream": "stdout",
       "text": [
        "\n",
        "\u5168\u570b\u570b\u63da\u7ad9\n",
        "\u96fb\u3000\u3000\u8a71\uff1a\n",
        "02-8221-2026\n",
        "=============\n",
        "\u7ad9\u3000\u3000\u540d\uff1a"
       ]
      },
      {
       "output_type": "stream",
       "stream": "stdout",
       "text": [
        "\n",
        "\u5168\u570b\u570b\u63da\u7ad9\n",
        "\u96fb\u3000\u3000\u8a71\uff1a\n",
        "02-8221-2026\n",
        "=============\n",
        "\u7ad9\u3000\u3000\u540d\uff1a"
       ]
      },
      {
       "output_type": "stream",
       "stream": "stdout",
       "text": [
        "\n",
        "\u5168\u570b\u6de1\u6d77\u7ad9\n",
        "\u96fb\u3000\u3000\u8a71\uff1a\n",
        "02-8626-2302\n",
        "=============\n",
        "\u7ad9\u3000\u3000\u540d\uff1a"
       ]
      },
      {
       "output_type": "stream",
       "stream": "stdout",
       "text": [
        "\n",
        "\u5168\u570b\u6de1\u6d77\u7ad9\n",
        "\u96fb\u3000\u3000\u8a71\uff1a\n",
        "02-8626-2302\n",
        "=============\n",
        "\u7ad9\u3000\u3000\u540d\uff1a"
       ]
      },
      {
       "output_type": "stream",
       "stream": "stdout",
       "text": [
        "\n",
        "\u5168\u570b\u65b0\u838a\u7ad9\n",
        "\u96fb\u3000\u3000\u8a71\uff1a\n",
        "02-2998-8899\n",
        "=============\n",
        "\u7ad9\u3000\u3000\u540d\uff1a"
       ]
      },
      {
       "output_type": "stream",
       "stream": "stdout",
       "text": [
        "\n",
        "\u5168\u570b\u65b0\u838a\u7ad9\n",
        "\u96fb\u3000\u3000\u8a71\uff1a\n",
        "02-2998-8899\n",
        "=============\n",
        "\u7ad9\u3000\u3000\u540d\uff1a"
       ]
      },
      {
       "output_type": "stream",
       "stream": "stdout",
       "text": [
        "\n",
        "\u5168\u570b\u539a\u751f\u7ad9\n",
        "\u96fb\u3000\u3000\u8a71\uff1a\n",
        "02-8648-2373\n",
        "=============\n",
        "\u7ad9\u3000\u3000\u540d\uff1a"
       ]
      },
      {
       "output_type": "stream",
       "stream": "stdout",
       "text": [
        "\n",
        "\u5168\u570b\u539a\u751f\u7ad9\n",
        "\u96fb\u3000\u3000\u8a71\uff1a\n",
        "02-8648-2373\n",
        "=============\n",
        "\u7ad9\u3000\u3000\u540d\uff1a"
       ]
      },
      {
       "output_type": "stream",
       "stream": "stdout",
       "text": [
        "\n",
        "\u5168\u570b\u65b0\u57ce\u7ad9\n",
        "\u96fb\u3000\u3000\u8a71\uff1a\n",
        "02-2431-7204\n",
        "=============\n",
        "\u7ad9\u3000\u3000\u540d\uff1a"
       ]
      },
      {
       "output_type": "stream",
       "stream": "stdout",
       "text": [
        "\n",
        "\u5168\u570b\u65b0\u57ce\u7ad9\n",
        "\u96fb\u3000\u3000\u8a71\uff1a\n",
        "02-2431-7204\n",
        "=============\n",
        "\u7ad9\u3000\u3000\u540d\uff1a"
       ]
      },
      {
       "output_type": "stream",
       "stream": "stdout",
       "text": [
        "\n",
        "\u5168\u570b\u6df1\u6fb3\u5751\u7ad9\n",
        "\u96fb\u3000\u3000\u8a71\uff1a\n",
        "02-2466-1975\n",
        "=============\n",
        "\u7ad9\u3000\u3000\u540d\uff1a"
       ]
      },
      {
       "output_type": "stream",
       "stream": "stdout",
       "text": [
        "\n",
        "\u5168\u570b\u6df1\u6fb3\u5751\u7ad9\n",
        "\u96fb\u3000\u3000\u8a71\uff1a\n",
        "02-2466-1975\n",
        "=============\n",
        "\u7ad9\u3000\u3000\u540d\uff1a"
       ]
      },
      {
       "output_type": "stream",
       "stream": "stdout",
       "text": [
        "\n",
        "\u5168\u570b\u4e03\u5835\u7ad9\n",
        "\u96fb\u3000\u3000\u8a71\uff1a\n",
        "02-2455-1045\n",
        "=============\n",
        "\u7ad9\u3000\u3000\u540d\uff1a"
       ]
      },
      {
       "output_type": "stream",
       "stream": "stdout",
       "text": [
        "\n",
        "\u5168\u570b\u4e03\u5835\u7ad9\n",
        "\u96fb\u3000\u3000\u8a71\uff1a\n",
        "02-2455-1045\n",
        "=============\n",
        "\u7ad9\u3000\u3000\u540d\uff1a"
       ]
      },
      {
       "output_type": "stream",
       "stream": "stdout",
       "text": [
        "\n",
        "\u5168\u570b\u4e2d\u58e2\u7ad9\n",
        "\u96fb\u3000\u3000\u8a71\uff1a\n",
        "03-434-1512\n",
        "=============\n",
        "\u7ad9\u3000\u3000\u540d\uff1a"
       ]
      },
      {
       "output_type": "stream",
       "stream": "stdout",
       "text": [
        "\n",
        "\u5168\u570b\u4e2d\u58e2\u7ad9\n",
        "\u96fb\u3000\u3000\u8a71\uff1a\n",
        "03-434-1512\n",
        "=============\n",
        "\u7ad9\u3000\u3000\u540d\uff1a"
       ]
      },
      {
       "output_type": "stream",
       "stream": "stdout",
       "text": [
        "\n",
        "\u5168\u570b\u6843\u5712\u4e2d\u83ef\u8def\u7ad9\n",
        "\u96fb\u3000\u3000\u8a71\uff1a\n",
        "03-378-0097\n",
        "=============\n",
        "\u7ad9\u3000\u3000\u540d\uff1a"
       ]
      },
      {
       "output_type": "stream",
       "stream": "stdout",
       "text": [
        "\n",
        "\u5168\u570b\u6843\u5712\u4e2d\u83ef\u8def\u7ad9\n",
        "\u96fb\u3000\u3000\u8a71\uff1a\n",
        "03-378-0097\n",
        "=============\n",
        "\u7ad9\u3000\u3000\u540d\uff1a"
       ]
      },
      {
       "output_type": "stream",
       "stream": "stdout",
       "text": [
        "\n",
        "\u5168\u570b\u5927\u6eaa\u4ecb\u58fd\u8def\u7ad9\n",
        "\u96fb\u3000\u3000\u8a71\uff1a\n",
        "03-380-7808\n",
        "=============\n",
        "\u7ad9\u3000\u3000\u540d\uff1a"
       ]
      },
      {
       "output_type": "stream",
       "stream": "stdout",
       "text": [
        "\n",
        "\u5168\u570b\u5927\u6eaa\u4ecb\u58fd\u8def\u7ad9\n",
        "\u96fb\u3000\u3000\u8a71\uff1a\n",
        "03-380-7808\n",
        "=============\n",
        "\u7ad9\u3000\u3000\u540d\uff1a"
       ]
      },
      {
       "output_type": "stream",
       "stream": "stdout",
       "text": [
        "\n",
        "\u5168\u570b\u6843\u5712\u9ad8\u9435\u7ad9\n",
        "\u96fb\u3000\u3000\u8a71\uff1a\n",
        "03-453-2673\n",
        "=============\n",
        "\u7ad9\u3000\u3000\u540d\uff1a"
       ]
      },
      {
       "output_type": "stream",
       "stream": "stdout",
       "text": [
        "\n",
        "\u5168\u570b\u6843\u5712\u9ad8\u9435\u7ad9\n",
        "\u96fb\u3000\u3000\u8a71\uff1a\n",
        "03-453-2673\n",
        "=============\n",
        "\u7ad9\u3000\u3000\u540d\uff1a"
       ]
      },
      {
       "output_type": "stream",
       "stream": "stdout",
       "text": [
        "\n",
        "\u5168\u570b\u6843\u5712\u4e2d\u6b63\u8def\u7ad9\n",
        "\u96fb\u3000\u3000\u8a71\uff1a\n",
        "03-317-1827\n",
        "=============\n",
        "\u7ad9\u3000\u3000\u540d\uff1a"
       ]
      },
      {
       "output_type": "stream",
       "stream": "stdout",
       "text": [
        "\n",
        "\u5168\u570b\u6843\u5712\u4e2d\u6b63\u8def\u7ad9\n",
        "\u96fb\u3000\u3000\u8a71\uff1a\n",
        "03-317-1827\n",
        "=============\n",
        "\u7ad9\u3000\u3000\u540d\uff1a"
       ]
      },
      {
       "output_type": "stream",
       "stream": "stdout",
       "text": [
        "\n",
        "\u5168\u570b\u4e2d\u8c50\u8def\u7ad9\n",
        "\u96fb\u3000\u3000\u8a71\uff1a\n",
        "03-419-4397\n",
        "=============\n",
        "\u7ad9\u3000\u3000\u540d\uff1a"
       ]
      },
      {
       "output_type": "stream",
       "stream": "stdout",
       "text": [
        "\n",
        "\u5168\u570b\u4e2d\u8c50\u8def\u7ad9\n",
        "\u96fb\u3000\u3000\u8a71\uff1a\n",
        "03-419-4397\n",
        "=============\n",
        "\u7ad9\u3000\u3000\u540d\uff1a"
       ]
      },
      {
       "output_type": "stream",
       "stream": "stdout",
       "text": [
        "\n",
        "\u5168\u570b\u9daf\u6b4c\u4ea4\u6d41\u9053\u7ad9\n",
        "\u96fb\u3000\u3000\u8a71\uff1a\n",
        "03-377-0352\n",
        "=============\n",
        "\u7ad9\u3000\u3000\u540d\uff1a"
       ]
      },
      {
       "output_type": "stream",
       "stream": "stdout",
       "text": [
        "\n",
        "\u5168\u570b\u9daf\u6b4c\u4ea4\u6d41\u9053\u7ad9\n",
        "\u96fb\u3000\u3000\u8a71\uff1a\n",
        "03-377-0352\n",
        "=============\n",
        "\u7ad9\u3000\u3000\u540d\uff1a"
       ]
      },
      {
       "output_type": "stream",
       "stream": "stdout",
       "text": [
        "\n",
        "\u5168\u570b\u516b\u5fb7\u4ea4\u6d41\u9053\u7ad9\n",
        "\u96fb\u3000\u3000\u8a71\uff1a\n",
        "03-363-6501\n",
        "=============\n",
        "\u7ad9\u3000\u3000\u540d\uff1a"
       ]
      },
      {
       "output_type": "stream",
       "stream": "stdout",
       "text": [
        "\n",
        "\u5168\u570b\u516b\u5fb7\u4ea4\u6d41\u9053\u7ad9\n",
        "\u96fb\u3000\u3000\u8a71\uff1a\n",
        "03-363-6501\n",
        "=============\n",
        "\u7ad9\u3000\u3000\u540d\uff1a"
       ]
      },
      {
       "output_type": "stream",
       "stream": "stdout",
       "text": [
        "\n",
        "\u5168\u570b\u5927\u6eaa\u4ea4\u6d41\u9053\u7ad9\n",
        "\u96fb\u3000\u3000\u8a71\uff1a\n",
        "03-380-1198\n",
        "=============\n",
        "\u7ad9\u3000\u3000\u540d\uff1a"
       ]
      },
      {
       "output_type": "stream",
       "stream": "stdout",
       "text": [
        "\n",
        "\u5168\u570b\u5927\u6eaa\u4ea4\u6d41\u9053\u7ad9\n",
        "\u96fb\u3000\u3000\u8a71\uff1a\n",
        "03-380-1198\n",
        "=============\n",
        "\u7ad9\u3000\u3000\u540d\uff1a"
       ]
      },
      {
       "output_type": "stream",
       "stream": "stdout",
       "text": [
        "\n",
        "\u5168\u570b\u6625\u65e5\u8def\u7ad9\n",
        "\u96fb\u3000\u3000\u8a71\uff1a\n",
        "03-333-3704\n",
        "=============\n",
        "\u7ad9\u3000\u3000\u540d\uff1a"
       ]
      },
      {
       "output_type": "stream",
       "stream": "stdout",
       "text": [
        "\n",
        "\u5168\u570b\u6625\u65e5\u8def\u7ad9\n",
        "\u96fb\u3000\u3000\u8a71\uff1a\n",
        "03-333-3704\n",
        "=============\n",
        "\u7ad9\u3000\u3000\u540d\uff1a"
       ]
      },
      {
       "output_type": "stream",
       "stream": "stdout",
       "text": [
        "\n",
        "\u5168\u570b\u4e2d\u6b63\u6a5f\u5834\u7ad9\n",
        "\u96fb\u3000\u3000\u8a71\uff1a\n",
        "03-383-2183\n",
        "=============\n",
        "\u7ad9\u3000\u3000\u540d\uff1a"
       ]
      },
      {
       "output_type": "stream",
       "stream": "stdout",
       "text": [
        "\n",
        "\u5168\u570b\u4e2d\u6b63\u6a5f\u5834\u7ad9\n",
        "\u96fb\u3000\u3000\u8a71\uff1a\n",
        "03-383-2183\n",
        "=============\n",
        "\u7ad9\u3000\u3000\u540d\uff1a"
       ]
      },
      {
       "output_type": "stream",
       "stream": "stdout",
       "text": [
        "\n",
        "\u5168\u570b\u6843\u5712\u4ea4\u6d41\u9053\u7ad9\n",
        "\u96fb\u3000\u3000\u8a71\uff1a\n",
        "03-316-3088\n",
        "=============\n",
        "\u7ad9\u3000\u3000\u540d\uff1a"
       ]
      },
      {
       "output_type": "stream",
       "stream": "stdout",
       "text": [
        "\n",
        "\u5168\u570b\u6843\u5712\u4ea4\u6d41\u9053\u7ad9\n",
        "\u96fb\u3000\u3000\u8a71\uff1a\n",
        "03-316-3088\n",
        "=============\n",
        "\u7ad9\u3000\u3000\u540d\uff1a"
       ]
      },
      {
       "output_type": "stream",
       "stream": "stdout",
       "text": [
        "\n",
        "\u5168\u570b\u7af9\u5317\u7ad9\n",
        "\u96fb\u3000\u3000\u8a71\uff1a\n",
        "03-550-8291\n",
        "=============\n",
        "\u7ad9\u3000\u3000\u540d\uff1a"
       ]
      },
      {
       "output_type": "stream",
       "stream": "stdout",
       "text": [
        "\n",
        "\u5168\u570b\u7af9\u5317\u7ad9\n",
        "\u96fb\u3000\u3000\u8a71\uff1a\n",
        "03-550-8291\n",
        "=============\n",
        "\u7ad9\u3000\u3000\u540d\uff1a"
       ]
      },
      {
       "output_type": "stream",
       "stream": "stdout",
       "text": [
        "\n",
        "\u5168\u570b\u7af9\u6771\u7ad9\n",
        "\u96fb\u3000\u3000\u8a71\uff1a\n",
        "03-582-6535\n",
        "=============\n",
        "\u7ad9\u3000\u3000\u540d\uff1a"
       ]
      },
      {
       "output_type": "stream",
       "stream": "stdout",
       "text": [
        "\n",
        "\u5168\u570b\u7af9\u6771\u7ad9\n",
        "\u96fb\u3000\u3000\u8a71\uff1a\n",
        "03-582-6535\n",
        "=============\n",
        "\u7ad9\u3000\u3000\u540d\uff1a\n",
        "\u5168\u570b\u65b0\u57d4\u7ad9\n",
        "\u96fb\u3000\u3000\u8a71\uff1a\n",
        "03-588-6463\n",
        "=============\n",
        "\u7ad9\u3000\u3000\u540d\uff1a"
       ]
      },
      {
       "output_type": "stream",
       "stream": "stdout",
       "text": [
        "\n",
        "\u5168\u570b\u65b0\u57d4\u7ad9\n",
        "\u96fb\u3000\u3000\u8a71\uff1a\n",
        "03-588-6463\n",
        "=============\n",
        "\u7ad9\u3000\u3000\u540d\uff1a"
       ]
      },
      {
       "output_type": "stream",
       "stream": "stdout",
       "text": [
        "\n",
        "\u5168\u570b\u82d7\u6817\u4ea4\u6d41\u9053\u7ad9\n",
        "\u96fb\u3000\u3000\u8a71\uff1a\n",
        "03-723-7319\n",
        "=============\n",
        "\u7ad9\u3000\u3000\u540d\uff1a"
       ]
      },
      {
       "output_type": "stream",
       "stream": "stdout",
       "text": [
        "\n",
        "\u5168\u570b\u82d7\u6817\u4ea4\u6d41\u9053\u7ad9\n",
        "\u96fb\u3000\u3000\u8a71\uff1a\n",
        "03-723-7319\n",
        "=============\n"
       ]
      }
     ],
     "prompt_number": 7
    },
    {
     "cell_type": "code",
     "collapsed": false,
     "input": [],
     "language": "python",
     "metadata": {},
     "outputs": []
    }
   ],
   "metadata": {}
  }
 ]
}
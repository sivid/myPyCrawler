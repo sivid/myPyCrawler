{
 "metadata": {
  "name": ""
 },
 "nbformat": 3,
 "nbformat_minor": 0,
 "worksheets": [
  {
   "cells": [
    {
     "cell_type": "code",
     "collapsed": false,
     "input": [
      "categories = {1:\"\u570b\u969b\",2:'\u653f\u6cbb',3:'\u8ca1\u7d93',4:'\u53f8\u6cd5',5:'\u751f\u6d3b',6:'\u5a92\u9ad4',7:'\u4e2d\u570b',8:'\u79d1\u6280',9:'\u74b0\u4fdd',10:'\u5a1b\u6a02',11:'\u85dd\u6587',14:'\u5730\u65b9'}\n",
      "#for k,v in categories.iteritems():\n",
      "#    print k,v\n",
      "for k,v in categories.iteritems():\n",
      "    print v"
     ],
     "language": "python",
     "metadata": {},
     "outputs": [
      {
       "output_type": "stream",
       "stream": "stdout",
       "text": [
        "\u570b\u969b\n",
        "\u653f\u6cbb\n",
        "\u8ca1\u7d93\n",
        "\u53f8\u6cd5\n",
        "\u751f\u6d3b\n",
        "\u5a92\u9ad4\n",
        "\u4e2d\u570b\n",
        "\u79d1\u6280\n",
        "\u74b0\u4fdd\n",
        "\u5a1b\u6a02\n",
        "\u85dd\u6587\n",
        "\u5730\u65b9\n"
       ]
      }
     ],
     "prompt_number": 21
    },
    {
     "cell_type": "code",
     "collapsed": false,
     "input": [
      "import requests\n",
      "from bs4 import BeautifulSoup\n",
      "#this is news links page for a category, oid is category, p is page\n",
      "page_format = \"http://newtalk.tw/news_list.php?oid=%d&p=%d\"\n",
      "categories = {1:'\u570b\u969b',2:'\u653f\u6cbb',3:'\u8ca1\u7d93',4:'\u53f8\u6cd5',5:'\u751f\u6d3b',6:'\u5a92\u9ad4',7:'\u4e2d\u570b',8:'\u79d1\u6280',9:'\u74b0\u4fdd',10:'\u5a1b\u6a02',11:'\u85dd\u6587',14:'\u5730\u65b9'}\n",
      "for oid, cati in categories.iteritems():  # we can use this part to control which categories to download\n",
      "    firstpageincat = page_format%(oid,1)\n",
      "    newslist = requests.get(firstpageincat)\n",
      "    soup_cat = BeautifulSoup(newslist.text)\n",
      "    cat_pages = []\n",
      "    cat_pages.append(firstpageincat)\n",
      "    \n",
      "    #links_pages = [tag['href'] for tag in soup.find('div',{'class','pageSelect'}).findAll('a',{'href':True})]\n",
      "    links_pages = [tag for tag in soup_cat.find('div',{'class','pageSelect'}).findAll('a',{'href':True})]\n",
      "    #print links_pages\n",
      "    for linksp in links_pages:\n",
      "        if (linksp.text.encode('utf8') != '\u4e0b\u4e00\u9801'):\n",
      "            cat_pages.append('http://newtalk.tw/news_list.php' + linksp['href'])\n",
      "    print cati\n",
      "    print cat_pages\n",
      "    time.sleep(3) # delays for 5 seconds"
     ],
     "language": "python",
     "metadata": {},
     "outputs": [
      {
       "output_type": "stream",
       "stream": "stdout",
       "text": [
        "\u570b\u969b\n",
        "['http://newtalk.tw/news_list.php?oid=1&p=1', 'http://newtalk.tw/news_list.php?oid=1&p=2', 'http://newtalk.tw/news_list.php?oid=1&p=3', 'http://newtalk.tw/news_list.php?oid=1&p=4', 'http://newtalk.tw/news_list.php?oid=1&p=5', 'http://newtalk.tw/news_list.php?oid=1&p=6']\n",
        "\u653f\u6cbb"
       ]
      },
      {
       "output_type": "stream",
       "stream": "stdout",
       "text": [
        "\n",
        "['http://newtalk.tw/news_list.php?oid=2&p=1', 'http://newtalk.tw/news_list.php?oid=2&p=2', 'http://newtalk.tw/news_list.php?oid=2&p=3', 'http://newtalk.tw/news_list.php?oid=2&p=4', 'http://newtalk.tw/news_list.php?oid=2&p=5', 'http://newtalk.tw/news_list.php?oid=2&p=6', 'http://newtalk.tw/news_list.php?oid=2&p=7', 'http://newtalk.tw/news_list.php?oid=2&p=8']\n",
        "\u8ca1\u7d93"
       ]
      },
      {
       "output_type": "stream",
       "stream": "stdout",
       "text": [
        "\n",
        "['http://newtalk.tw/news_list.php?oid=3&p=1', 'http://newtalk.tw/news_list.php?oid=3&p=2']\n",
        "\u53f8\u6cd5"
       ]
      },
      {
       "output_type": "stream",
       "stream": "stdout",
       "text": [
        "\n",
        "['http://newtalk.tw/news_list.php?oid=4&p=1', 'http://newtalk.tw/news_list.php?oid=4&p=2', 'http://newtalk.tw/news_list.php?oid=4&p=3']\n",
        "\u751f\u6d3b"
       ]
      },
      {
       "output_type": "stream",
       "stream": "stdout",
       "text": [
        "\n",
        "['http://newtalk.tw/news_list.php?oid=5&p=1', 'http://newtalk.tw/news_list.php?oid=5&p=2', 'http://newtalk.tw/news_list.php?oid=5&p=3', 'http://newtalk.tw/news_list.php?oid=5&p=4', 'http://newtalk.tw/news_list.php?oid=5&p=5', 'http://newtalk.tw/news_list.php?oid=5&p=6', 'http://newtalk.tw/news_list.php?oid=5&p=7', 'http://newtalk.tw/news_list.php?oid=5&p=8', 'http://newtalk.tw/news_list.php?oid=5&p=9', 'http://newtalk.tw/news_list.php?oid=5&p=10', 'http://newtalk.tw/news_list.php?oid=5&p=11']\n",
        "\u5a92\u9ad4"
       ]
      },
      {
       "output_type": "stream",
       "stream": "stdout",
       "text": [
        "\n",
        "['http://newtalk.tw/news_list.php?oid=6&p=1']\n",
        "\u4e2d\u570b"
       ]
      },
      {
       "output_type": "stream",
       "stream": "stdout",
       "text": [
        "\n",
        "['http://newtalk.tw/news_list.php?oid=7&p=1', 'http://newtalk.tw/news_list.php?oid=7&p=2', 'http://newtalk.tw/news_list.php?oid=7&p=3']\n",
        "\u79d1\u6280"
       ]
      },
      {
       "output_type": "stream",
       "stream": "stdout",
       "text": [
        "\n",
        "['http://newtalk.tw/news_list.php?oid=8&p=1']\n",
        "\u74b0\u4fdd"
       ]
      },
      {
       "output_type": "stream",
       "stream": "stdout",
       "text": [
        "\n",
        "['http://newtalk.tw/news_list.php?oid=9&p=1']\n",
        "\u5a1b\u6a02"
       ]
      },
      {
       "output_type": "stream",
       "stream": "stdout",
       "text": [
        "\n",
        "['http://newtalk.tw/news_list.php?oid=10&p=1']\n",
        "\u85dd\u6587"
       ]
      },
      {
       "output_type": "stream",
       "stream": "stdout",
       "text": [
        "\n",
        "['http://newtalk.tw/news_list.php?oid=11&p=1']\n",
        "\u5730\u65b9"
       ]
      },
      {
       "output_type": "stream",
       "stream": "stdout",
       "text": [
        "\n",
        "['http://newtalk.tw/news_list.php?oid=14&p=1', 'http://newtalk.tw/news_list.php?oid=14&p=2', 'http://newtalk.tw/news_list.php?oid=14&p=3', 'http://newtalk.tw/news_list.php?oid=14&p=4', 'http://newtalk.tw/news_list.php?oid=14&p=5', 'http://newtalk.tw/news_list.php?oid=14&p=6', 'http://newtalk.tw/news_list.php?oid=14&p=7', 'http://newtalk.tw/news_list.php?oid=14&p=8', 'http://newtalk.tw/news_list.php?oid=14&p=9', 'http://newtalk.tw/news_list.php?oid=14&p=10', 'http://newtalk.tw/news_list.php?oid=14&p=11', 'http://newtalk.tw/news_list.php?oid=14&p=12', 'http://newtalk.tw/news_list.php?oid=14&p=13', 'http://newtalk.tw/news_list.php?oid=14&p=14']\n"
       ]
      }
     ],
     "prompt_number": 22
    },
    {
     "cell_type": "code",
     "collapsed": false,
     "input": [
      "import requests\n",
      "import time\n",
      "from bs4 import BeautifulSoup\n",
      "test_linkspage = 'http://newtalk.tw/news_list.php?oid=8'\n",
      "soup_links = BeautifulSoup(requests.get(test_linkspage).text)\n",
      "\n",
      "def has_either_text(tag):\n",
      "    return ((unicode(tag) == 'more') or (unicode(tag).encode('utf8') == '\u5f71\u97f3\u9023\u7d50'))\n",
      "\n",
      "soup_content = soup_links.find(id='content')\n",
      "soup_links = soup_content.find_all('a', text=has_either_text)\n",
      "print len(soup_links)\n",
      "for link in soup_links:\n",
      "    print link['href']"
     ],
     "language": "python",
     "metadata": {},
     "outputs": [
      {
       "output_type": "stream",
       "stream": "stdout",
       "text": [
        "18\n",
        "http://newtalk.tw/news/2014/09/12/51329.html\n",
        "http://newtalk.tw/news/2014/09/11/51316.html\n",
        "http://newtalk.tw/news/2014/09/10/51228.html\n",
        "http://newtalk.tw/news/2014/09/10/51227.html\n",
        "http://newtalk.tw/news/2014/09/09/51206.html\n",
        "http://newtalk.tw/news/2014/09/05/51116.html\n",
        "http://newtalk.tw/news/2014/09/04/51076.html\n",
        "http://newtalk.tw/news/2014/09/03/51005.html\n",
        "http://newtalk.tw/news/2014/09/02/50984.html\n",
        "http://newtalk.tw/news/2014/09/02/50966.html\n",
        "http://newtalk.tw/news/2014/09/01/50946.html\n",
        "http://newtalk.tw/news/2014/09/01/50928.html\n",
        "http://newtalk.tw/news/2014/08/29/50877.html\n",
        "http://newtalk.tw/news/2014/08/29/50868.html\n",
        "http://newtalk.tw/news/2014/08/29/50852.html\n",
        "http://newtalk.tw/news/2014/08/28/50817.html\n",
        "http://newtalk.tw/news/2014/08/21/50594.html\n",
        "http://newtalk.tw/news/2014/08/19/50508.html\n"
       ]
      }
     ],
     "prompt_number": 48
    },
    {
     "cell_type": "code",
     "collapsed": false,
     "input": [
      "import requests\n",
      "import time\n",
      "from bs4 import BeautifulSoup\n",
      "import datetime\n",
      "from urllib import urlretrieve\n",
      "test_newspage = 'http://newtalk.tw/news/2014/09/11/51294.html'\n",
      "soup_newspage = BeautifulSoup(requests.get(test_newspage).text)\n",
      "# _id, Category, NewsText, Date, Title, Source, link, img, keywords\n",
      "Source_db = 'NewTalk'\n",
      "link_string = test_newspage.replace('.','/')\n",
      "idtemp = link_string.split('/')[5:9]\n",
      "db_id = 'nt' + ''.join([part for part in idtemp])\n",
      "print '===' + db_id\n",
      "categories = {1:'\u570b\u969b',2:'\u653f\u6cbb',3:'\u8ca1\u7d93',4:'\u53f8\u6cd5',5:'\u751f\u6d3b',6:'\u5a92\u9ad4',7:'\u4e2d\u570b',8:'\u79d1\u6280',9:'\u74b0\u4fdd',10:'\u5a1b\u6a02',11:'\u85dd\u6587',14:'\u5730\u65b9'}\n",
      "Category_db = categories[1]  # categories[oid]\n",
      "print '===' + Category_db\n",
      "newstext_o = soup_newspage.find('div',{'class','news_ctxt_area_word'}).text.strip()\n",
      "ntt = []\n",
      "for line in newstext_o.splitlines():\n",
      "    if u'\u5716\u7247\u4f86\u6e90' not in line:\n",
      "        ntt.append(line)\n",
      "ntt = ntt[1:]\n",
      "NewsText_db = '\\n'.join(ntt)\n",
      "print '===' + NewsText_db\n",
      "date_string1 = link_string.split('/')[5:8]\n",
      "date_string = ''.join(date_string1)\n",
      "date_to_db = datetime.datetime.strptime(date_string, '%Y%m%d')\n",
      "print date_to_db\n",
      "Title_db = soup_newspage.find('div',{'class','news_cont_area_tit'}).text\n",
      "print '===' + Title_db\n",
      "print '===' + Source_db\n",
      "link_db = test_newspage\n",
      "print '===' + link_db\n",
      "try:\n",
      "    imgsrc = soup_newspage.find('div',{'class','news_ctxt_area_pic'}).find('img')['src']\n",
      "    print '===' + imgsrc\n",
      "    filename = imgsrc.strip().split('/')[-1]\n",
      "    urlretrieve(imgsrc, filename)\n",
      "except:\n",
      "    print \"we didn't get to download the file from \" + test_newspage\n"
     ],
     "language": "python",
     "metadata": {},
     "outputs": [
      {
       "output_type": "stream",
       "stream": "stdout",
       "text": [
        "===nt2014091151294\n",
        "===\u570b\u969b\n",
        "===\n",
        "\u884c\u653f\u9662\u4eca(11)\u65e5\u65bcYoutube\u5e73\u53f0\u9032\u884c\u9662\u6703\u5f8c\u8a18\u8005\u6703\u9996\u6b21\u7db2\u8def\u76f4\u64ad\u8a66\u64ad\u300c\u884c\u653f\u9662\u958b\u9ea5\u5566\u300d\uff0c\u4f46\u6709\u7db2\u53cb\u767c\u8868\u548c\u8a18\u8005\u6703\u7121\u95dc\u7684\u8a00\u8ad6\u983b\u983b\u6d17\u7248\uff0c\u653f\u9662\u767c\u8a00\u4eba\u5b6b\u7acb\u7fa4\u5728\u8a18\u8005\u6703\u6700\u5f8c\u65bc\u53f0\u4e0a\u76f4\u63a5\u55c6\u8072\u300c\u6709\u4e9b\u7db2\u53cb\u975e\u5e38\u6c23\u61a4\u8b1b\u8a71\u6bd4\u8f03\u5f37\u70c8\u4e00\u9ede\uff0c\u4f46\u6709\u4e9b\u7db2\u53cb\u5be6\u5728\u662f\u4f86\u4e82\u7684\uff0c\u6211\u8981\u8aaa\uff0c\u6d17\u7248\u771f\u7684\u5f88\u6c92\u54c1\u300d\uff0c\u6703\u5f8c\uff0c\u5b6b\u4e5f\u76f4\u63a5\u9ede\u540d\u7db2\u53cb\u310f\u310f\u3002\u5176\u4ed6\u7db2\u53cb\u7684\u53cd\u61c9\u4e0d\u4e00\uff0c\u4f46\u5927\u591a\u7d66\u4e88\u5b6b\u80af\u5b9a\uff0c\u4e26\u8d0a\u540c\u300c\u6d17\u7248\u7684\u5f88\u6c92\u54c1\u662f\u6c92\u932f\u300d\uff0c\u800c\u4e14\u300c\u8a18\u8005\u6703\u76f4\u64ad\u78ba\u5be6\u662f\u4e00\u7a2e\u5275\u8209\u300d\u3002\n",
        "\n",
        "\u5b6b\u7acb\u7fa4\u8868\u793a\uff0c\u4eca\u5929\u662f\u884c\u653f\u9662\u9996\u6b21\u958b\u653e\u9662\u6703\u5f8c\u8a18\u8005\u6703\u7db2\u8def\u5168\u7a0b\u76f4\u64ad\uff0c\u4e26\u958b\u653e\u7db2\u53cb\u4e0a\u7db2\u7559\u8a00\uff0c\u4e26\u7531\u5404\u90e8\u6703\u300c\u5c0f\u7de8\u300d\u53ca\u300c\u884c\u653f\u9662\u958b\u9ea5\u5566\u300d\u5c0f\u7d44\u4eba\u54e1\u5373\u6642\u5728\u7db2\u8def\u4e0a\u56de\u8986\u3002\u4f46\u7531\u65bc\u662f\u9996\u5ea6\u5690\u8a66\uff0c\u5b6b\u7acb\u7fa4\u4e5f\u5766\u627f\uff0c\u6709\u7db2\u53cb\u53cd\u61c9\u9ea5\u514b\u98a8\u8072\u97f3\u592a\u5c0f\u4ee5\u53ca\u983b\u5bec\u4e0d\u8db3\u3001lag\u56b4\u91cd\u7b49\u554f\u984c\uff0c\u653f\u9662\u65e5\u5f8c\u6703\u52a0\u4ee5\u6539\u9032\uff0c\u81f3\u65bc\u7db2\u53cb\u95dc\u5207\u98df\u5b89\u81ea\u4e3b\u7ba1\u7406\u3001\u908a\u5883\u7ba1\u7406\u7b49\u554f\u984c\uff0c\u4e5f\u6703\u7763\u4fc3\u76f8\u95dc\u55ae\u4f4d\u843d\u5be6\u3002\u4e0d\u904e\uff0c\u4ed6\u5c0d\u65bc\u6709\u7db2\u53cb\u5728\u7559\u8a00\u7248\u983b\u983b\u4ee5\u7121\u95dc\u7684\u8a00\u8ad6\u6d17\u7248\u611f\u5230\u751f\u6c23\uff0c\u4e26\u76f4\u63a5\u5728\u53f0\u4e0a\u55c6\u8072\u6307\u51fa\uff0c\u9019\u6a23\u7684\u7db2\u53cb\u592a\u6c92\u54c1\u3001\u6c92\u6c34\u6e96\u4e86\u3002\n",
        "\n",
        "\u800c\u4eca\u5929\u53c3\u8207\u76f4\u64ad\u7684\u7db2\u53cb\u5305\u62ec\u5404\u90e8\u6703\u7684\u300c\u5c0f\u7de8\u300d\uff0c\u5927\u7d04400\u4eba\u5de6\u53f3\uff0c\u800c\u5f9e\u7db2\u53cb\u7559\u8a00\u53ef\u4ee5\u770b\u51fa\uff0c\u4ed6\u5011\u5c0d\u65bc\u76f4\u64ad\u7684\u54c1\u8cea\u5982\u97f3\u6548\u3001\u983b\u5bec\u611f\u5230\u4e0d\u6eff\u610f\uff0c\u5982\u7db2\u53cbJoey Liao\u5c31\u8aaa\u300c\u97f3\u63a7\u8655\u7406\u4e00\u4e0b\u62dc\u8a17\u300d\u3001\u300c\u4e00\u76f4\u8abf\u97f3\u91cf\u5f88\u7169!!!!!!!!!\u300d\u800c\u884c\u653f\u9662\u8f3f\u60c5\u8490\u5831\u79d1\u4e5f\u5728\u76f4\u64ad\u904e\u7a0b\u4e2d\u63d0\u9192\u300c\u53f0\u4e0a\u8072\u97f3\u5f88\u5c0f\u5594\uff0c\u9577\u5b98\u8981\u9760\u8fd1\u9ea5\u514b\u98a8\u4e00\u9ede\uff1f\u300d\u5b6b\u7acb\u7fa4\u679c\u7136\u5728\u53f0\u4e0a\u63d0\u9192\u8207\u6703\u5b98\u54e1\u300c\u9760\u8fd1\u9ea5\u514b\u98a8\u4e00\u9ede\u300d\u3002\n",
        "\n",
        "\u800c\u5728\u5be6\u8cea\u8b70\u984c\u4e0a\uff0c\u7db2\u53cb\u6700\u95dc\u5fc3\u7684\u9084\u662f\u300c\u98df\u5b89\u300d\u7684\u554f\u984c\uff0c\u7db2\u53cbrepuslin\u5c31\u8aaa\uff0c\u300c25\u5e74\u7684\u5236\u5ea6\u90fd\u4e0d\u5b8c\u6574~~\u300d\u800c\u884c\u653f\u9662\u5c31\u99ac\u4e0a\u56de\u7b54\u300c\u885b\u798f\u90e8\u5c07\u5728\u5e74\u5e95\u524d\u9032\u884c\u98df\u5b89\u6cd5\u5b50\u6cd5\u898f\u7684\u4fee\u6cd5\u300d\uff1b\u4f46\u7db2\u53cbNOYAAAAAAAAA1\u5247\u8b1b\u300c\u525b\u525b\u885b\u798f\u90e8\u56de\u7b54\u6709\u8aaa\u7b49\u65bc\u6c92\u8aaa\u300d\uff0c\u66f4\u6709\u7db2\u53cbZ. Yeti\u9178\u8aaa\u300cGMP\u8a8d\u8b49\u6e90\u81ea\u6c11\u570b78\u5e74\uff0c\u963f\u6241\u57f7\u653f\u6642\u671f\uff01\u963f\u6241\u4e0b\u53f0\uff01\uff01\u300d\u7db2\u53cb\u66b4\u6c11\u6307\u51fa\uff0c\u300c\u90fd\u662f\u963f\u6241\u7684\u932f\u5566\uff0c\u5431\u5431\u5d29\u6f70XDDDDDDDD\u300d\u3002\u7db2\u53cbjack772256\u7559\u8a00\u300c\u6709\u8b1b\u8ddf\u6c92\u8b1b\u4e00\u6a23\uff0c\u53cd\u6b63\u660e\u5e74\u4e00\u6a23\u6703\u6709\u9ed1\u5fc3\u7522\u54c1\u300d\uff1b\u7db2\u53cbJoey Liao\u5247\u9178\u300c\u8acb\u554f\u4e00\u4e0b\u90b1\u6587\u9054\u4ec0\u9ebc\u6642\u5019\u8981\u4e0b\u53f0?\u300d\n",
        "\n",
        "\u800c\u6709\u95dcGMP\u7684\u554f\u984c\uff0c\u7db2\u53cbJoey Liao\u4e5f\u63d0\u554f\u300c\u70ba\u4f55GMP\u6703\u63a1\u81ea\u4e3b\u53c3\u52a0\u7684\u65b9\u5f0f?\u800c\u4e0d\u662f\u5f37\u5236\u7ba1\u7406?\u300d\u7db2\u53cb\u9ec3\u7693\u7fa4\u5247\u8aaa\uff0c\u300c\u6211\u5e0c\u671b\u5f37\u51a0\u98df\u54c1\u61c9\u52a0\u91cd\u8655\u7406\uff0c\u6700\u591a\u53ef\u4ee5\u7f70\u52305000\u842c\u5c0d\u5427\u300d\uff1b\u7db2\u53cb\u9cf3\u7fbd\u51f0\u591c\u5247\u76f4\u63a5\u8868\u793a\uff0c\u300c\u5f37\u5236\u7531\u7fa9\u7f8e\u4f86\u7ba1\u7406\u9019\u6a23\u5982\u4f55? \u300d\u800c\u885b\u751f\u798f\u5229\u90e8\u7684\u56de\u7b54\u5247\u662f\u300c\u81ea\u4e3b\u7ba1\u7406\u662f\u4f01\u696d\u7d93\u71df\u6700\u57fa\u672c\u7684\u8cac\u4efb\uff0c\u5018\u6709\u5176\u4ed6\u9055\u53cd\u98df\u5b89\u6cd5\u76f8\u95dc\u898f\u5b9a\u4e4b\u60c5\u7bc0\uff0c\u6700\u9ad8\u53ef\u86555000\u842c\u5143\u7f70\u9370\uff0c\u4e26\u63a1\u4e00\u7f6a\u4e00\u7f70\u5236\u300d\u3002\u7db2\u53cbJoey Liao\u5247\u8aaa\uff0c\u300c\u4f60\u4e7e\u8106\u8b93\u7fa9\u7f8e\u7576\u5b97\u75db\u597d\u60f9XDDD\u300d\uff1b\u7db2\u53cbcat wang\u5247\u8aaa\uff0c\u300c\u56e0\u70baGMP\u7576\u521d\u672c\u4f86\u5c31\u53ea\u662f\u639b\u597d\u73a9\u7684\uff0c\u4e26\u975e\u771f\u7684\u8981\u4f86\u7ba1\u7406\u9ed1\u5fc3\u7522\u54c1\u3002\u300d\u5c0d\u65bc\u908a\u5883\u7ba1\u7406\u7684\u554f\u984c\uff0c\u7db2\u53cb\u7126\u9b5a\u5247\u53cd\u9178\u653f\u5e9c\uff0c\u300c\u90fd\u662f\u9999\u6e2f\u7684\u932f...\u300d\u3002 \n",
        "\n",
        "\u81f3\u65bc\u6700\u5f8c\u5b6b\u7acb\u7fa4\u55c6\u300c\u6d17\u7248\u300d\u7684\u7db2\u53cb\uff0c\u4e5f\u6709\u7db2\u53cbNOYAAAAAAAAA1\u652f\u6301\u6307\u51fa\uff0c\u300c\u6d17\u7248\u662f\u5f88\u6c92\u54c1\u963fXDD\u300d\uff1b\u7db2\u53cb\u8028\u5fd1\u54a7\u5247\u8a8d\u70ba\uff0c\u300c\u9084\u7279\u5730\u6311\u6d17\u7248\u7684\u4f86\u8aaaZzz\u300d\uff1b\u7db2\u53cbsophya ku\u4e5f\u8868\u793a\uff0c\u300c\u4e82\u6d17\u7248\uff0c\u6709\u4eba\u523b\u610f\u7834\u58de\u7db2\u6c11\u8072\u8b7d\u300d\u3002\u7db2\u53cb\u5b8b\u6d5a\u929c\u8aaa\uff0c\u300c\u7dda\u4e0a\u8a18\u8005\u6703\u4e5f\u7b97\u662f\u5275\u8209\u4e86\uff0c\u7d66\u63a8!\u300d\u81f3\u65bc\u884c\u653f\u9662\u958b\u9ea5\u5566\u5247\u4e0d\u5fd8\u5728\u6700\u5f8c\u9084\u63a8\u92b7\u300c\u8acb\u5927\u5bb6\u8a18\u5f97\u8a02\u95b1\u884c\u653f\u9662\u958b\u9ea5\u62c9\u300d\u3002\n",
        "\n",
        "\u884c\u653f\u9662\u8868\u793a\uff0c\u4eca\u5929\u900f\u904e\u65b0\u5a92\u9ad4\u7684\u529b\u91cf\uff0c\u5728\u7db2\u8def\u4e0a\u5373\u6642\u76f4\u64ad\uff0c\u8b93\u95dc\u5fc3\u653f\u5e9c\u904b\u4f5c\u7684\u6c11\u773e\uff0c\u53ef\u4ee5\u66f4\u65b9\u4fbf\u3001\u5373\u6642\u4e14\u76f4\u63a5\u7372\u5f97\u7b2c\u4e00\u624b\u8cc7\u8a0a\uff0c\u6b61\u8fce\u6c11\u773e\u5728\u6536\u770b \u7db2\u8def\u76f4\u64ad\u6642\uff0c\u5c31\u653f\u7b56\u9032\u884c\u7406\u6027\u8a0e\u8ad6\uff0c\u5982\u6709\u4efb\u4f55\u5efa\u8b70\uff0c\u53ef\u4ee5\u5373\u6642\u53cd\u61c9\uff0c\u4f5c\u70ba\u653f\u5e9c\u6539\u9032\u7684\u53c3\u8003\u3002\u4f46\u5b6b\u7acb\u7fa4\u5f37\u8abf\uff0c\u5c0d\u65bc\u6839\u672c\u662f\u5b58\u5fc3\u4f86\u4e82\u3001\u6d17\u7248\u7684\u7db2\u53cb\uff0c\u4e0d\u50c5\u6c92\u54c1\u3001\u6c92\u6c34\u6e96\uff0c\u9084\u8003\u616e\u63a1\u53d6\u300c\u6aa2\u8209\u300d\u7684\u65b9\u5f0f\u8655\u7406\u3002\n",
        "2014-09-11 00:00:00\n",
        "===\u653f\u9662\u8a18\u8005\u6703\u76f4\u64ad  \u5b6b\u7acb\u7fa4\u55c6\u7db2\u53cb\u6d17\u7248\u6c92\u54c1\n",
        "===NewTalk\n",
        "===http://newtalk.tw/news/2014/09/11/51294.html\n",
        "===http://newtalk.tw/media/news/news_6__1112631293.jpg\n"
       ]
      }
     ],
     "prompt_number": 3
    },
    {
     "cell_type": "code",
     "collapsed": false,
     "input": [
      "import pymongo, gridfs, mimetypes\n",
      "# _id, Category, NewsText, Date, Title, Source, link, img, keywords\n",
      "db = pymongo.MongoClient('mongodb://sivid-phys:27017').CrawlerDB\n",
      "\n",
      "fs = gridfs.GridFS(db)\n",
      "#collection = db.newtalk_test\n",
      "\n",
      "mime_type = mimetypes.guess_type(imgsrc)\n",
      "request = requests.get(imgsrc, stream=True)\n",
      "# this file put will complete, even if the post write below is unsuccessful (due to duplicate _id)\n",
      "# end result will be duplicate and unnecessary versions of this same file in gridfs.\n",
      "# this is \"by design\" of mongodb, and since mongodb does not support transactions\n",
      "# i'm going to need to put in manual checks in python code to prevent it from happening\n",
      "img_id = fs.put(request.raw, contentType=mime_type, filename=imgsrc.split('/')[-1])\n",
      "\n",
      "post = {\"_id\":db_id,\n",
      "        \"Source\":Source_db,\n",
      "        \"Category\":Category_db,\n",
      "        \"Title\":Title_db,\n",
      "        \"Date\":date_to_db, # datetime.datetime will be automatically converted\n",
      "        \"link\":link_db,\n",
      "        \"NewsText\":NewsText_db,\n",
      "        \"img\":img_id}   # i have zero idea how to retrieve a gridfs object from mongodb\n",
      "ppp = db.posts.insert(post)\n",
      "print ppp\n"
     ],
     "language": "python",
     "metadata": {},
     "outputs": [
      {
       "ename": "DuplicateKeyError",
       "evalue": "insertDocument :: caused by :: 11000 E11000 duplicate key error index: CrawlerDB.posts.$_id_  dup key: { : \"nt2014091151294\" }",
       "output_type": "pyerr",
       "traceback": [
        "\u001b[0;31m---------------------------------------------------------------------------\u001b[0m\n\u001b[0;31mDuplicateKeyError\u001b[0m                         Traceback (most recent call last)",
        "\u001b[0;32m<ipython-input-4-d57b0040cd90>\u001b[0m in \u001b[0;36m<module>\u001b[0;34m()\u001b[0m\n\u001b[1;32m     18\u001b[0m         \u001b[0;34m\"NewsText\"\u001b[0m\u001b[0;34m:\u001b[0m\u001b[0mNewsText_db\u001b[0m\u001b[0;34m,\u001b[0m\u001b[0;34m\u001b[0m\u001b[0m\n\u001b[1;32m     19\u001b[0m         \"img\":img_id}   # i have zero idea how to retrieve a gridfs object from mongodb\n\u001b[0;32m---> 20\u001b[0;31m \u001b[0mppp\u001b[0m \u001b[0;34m=\u001b[0m \u001b[0mdb\u001b[0m\u001b[0;34m.\u001b[0m\u001b[0mposts\u001b[0m\u001b[0;34m.\u001b[0m\u001b[0minsert\u001b[0m\u001b[0;34m(\u001b[0m\u001b[0mpost\u001b[0m\u001b[0;34m)\u001b[0m\u001b[0;34m\u001b[0m\u001b[0m\n\u001b[0m\u001b[1;32m     21\u001b[0m \u001b[0;32mprint\u001b[0m \u001b[0mppp\u001b[0m\u001b[0;34m\u001b[0m\u001b[0m\n",
        "\u001b[0;32m/usr/local/lib/python2.7/dist-packages/pymongo/collection.pyc\u001b[0m in \u001b[0;36minsert\u001b[0;34m(self, doc_or_docs, manipulate, safe, check_keys, continue_on_error, **kwargs)\u001b[0m\n\u001b[1;32m    408\u001b[0m                     \u001b[0mself\u001b[0m\u001b[0;34m.\u001b[0m\u001b[0mdatabase\u001b[0m\u001b[0;34m.\u001b[0m\u001b[0mname\u001b[0m \u001b[0;34m+\u001b[0m \u001b[0;34m\".$cmd\"\u001b[0m\u001b[0;34m,\u001b[0m \u001b[0m_INSERT\u001b[0m\u001b[0;34m,\u001b[0m \u001b[0mcommand\u001b[0m\u001b[0;34m,\u001b[0m\u001b[0;34m\u001b[0m\u001b[0m\n\u001b[1;32m    409\u001b[0m                     gen(), check_keys, self.uuid_subtype, client)\n\u001b[0;32m--> 410\u001b[0;31m             \u001b[0m_check_write_command_response\u001b[0m\u001b[0;34m(\u001b[0m\u001b[0mresults\u001b[0m\u001b[0;34m)\u001b[0m\u001b[0;34m\u001b[0m\u001b[0m\n\u001b[0m\u001b[1;32m    411\u001b[0m         \u001b[0;32melse\u001b[0m\u001b[0;34m:\u001b[0m\u001b[0;34m\u001b[0m\u001b[0m\n\u001b[1;32m    412\u001b[0m             \u001b[0;31m# Legacy batched OP_INSERT\u001b[0m\u001b[0;34m\u001b[0m\u001b[0;34m\u001b[0m\u001b[0m\n",
        "\u001b[0;32m/usr/local/lib/python2.7/dist-packages/pymongo/helpers.pyc\u001b[0m in \u001b[0;36m_check_write_command_response\u001b[0;34m(results)\u001b[0m\n\u001b[1;32m    196\u001b[0m             \u001b[0merror\u001b[0m\u001b[0;34m[\u001b[0m\u001b[0;34m\"index\"\u001b[0m\u001b[0;34m]\u001b[0m \u001b[0;34m+=\u001b[0m \u001b[0moffset\u001b[0m\u001b[0;34m\u001b[0m\u001b[0m\n\u001b[1;32m    197\u001b[0m             \u001b[0;32mif\u001b[0m \u001b[0merror\u001b[0m\u001b[0;34m.\u001b[0m\u001b[0mget\u001b[0m\u001b[0;34m(\u001b[0m\u001b[0;34m\"code\"\u001b[0m\u001b[0;34m)\u001b[0m \u001b[0;34m==\u001b[0m \u001b[0;36m11000\u001b[0m\u001b[0;34m:\u001b[0m\u001b[0;34m\u001b[0m\u001b[0m\n\u001b[0;32m--> 198\u001b[0;31m                 \u001b[0;32mraise\u001b[0m \u001b[0mDuplicateKeyError\u001b[0m\u001b[0;34m(\u001b[0m\u001b[0merror\u001b[0m\u001b[0;34m.\u001b[0m\u001b[0mget\u001b[0m\u001b[0;34m(\u001b[0m\u001b[0;34m\"errmsg\"\u001b[0m\u001b[0;34m)\u001b[0m\u001b[0;34m,\u001b[0m \u001b[0;36m11000\u001b[0m\u001b[0;34m,\u001b[0m \u001b[0merror\u001b[0m\u001b[0;34m)\u001b[0m\u001b[0;34m\u001b[0m\u001b[0m\n\u001b[0m\u001b[1;32m    199\u001b[0m         \u001b[0;32melse\u001b[0m\u001b[0;34m:\u001b[0m\u001b[0;34m\u001b[0m\u001b[0m\n\u001b[1;32m    200\u001b[0m             \u001b[0merror\u001b[0m \u001b[0;34m=\u001b[0m \u001b[0mresult\u001b[0m\u001b[0;34m[\u001b[0m\u001b[0;34m\"writeConcernError\"\u001b[0m\u001b[0;34m]\u001b[0m\u001b[0;34m\u001b[0m\u001b[0m\n",
        "\u001b[0;31mDuplicateKeyError\u001b[0m: insertDocument :: caused by :: 11000 E11000 duplicate key error index: CrawlerDB.posts.$_id_  dup key: { : \"nt2014091151294\" }"
       ]
      }
     ],
     "prompt_number": 4
    },
    {
     "cell_type": "code",
     "collapsed": false,
     "input": [
      "pp = db.posts.find_one()\n",
      "imgid = pp['img']\n",
      "print type(imgid)\n",
      "print imgid\n",
      "print fs.get(imgid).contentType\n",
      "print fs.get(imgid).filename\n",
      "print \"====\"\n",
      "print type(mime_type)\n",
      "\n",
      "outdata = fs.get(imgid).read()\n",
      "print type(outdata)\n",
      "#print type(outdata.raw)   #AttributeError: 'str' object has no attribute 'raw'\n",
      "\n",
      "#import shutil\n",
      "#with open('img.jpg', 'wb') as out_file:\n",
      "#    shutil.copyfileobj(outdata, out_file)\n",
      "#from IPython.core.display import Image\n",
      "#Image('img.jpg')\n",
      "\n",
      "with open('img.jpg', 'wb') as f:\n",
      "    f.write(outdata)\n",
      "from IPython.core.display import Image\n",
      "Image('img.jpg')\n",
      "\n",
      "#outdata=fs.get(imgid).read()\n",
      "#output=open(\"somefile.jpg\",\"wb\")\n",
      "#output.write(outdata)\n",
      "#output.close()\n",
      "\n",
      "#print pp['_id']\n",
      "#print pp['Source']\n",
      "#print pp['Category']\n",
      "#print pp['Title']\n",
      "#print pp['Date']\n",
      "#print pp['link']\n",
      "#print pp['NewsText']\n",
      "#print pp['img']"
     ],
     "language": "python",
     "metadata": {},
     "outputs": [
      {
       "output_type": "stream",
       "stream": "stdout",
       "text": [
        "<class 'bson.objectid.ObjectId'>\n",
        "5416f60f8d13ca28052bb619\n",
        "[u'image/jpeg', None]\n",
        "news_6__1112631293.jpg\n",
        "====\n",
        "<type 'tuple'>\n",
        "<type 'str'>\n"
       ]
      },
      {
       "jpeg": "[encoded data removed]",
       "metadata": {},
       "output_type": "pyout",
       "prompt_number": 19,
       "text": [
        "<IPython.core.display.Image at 0x7f633013c9d0>"
       ]
      }
     ],
     "prompt_number": 19
    },
    {
     "cell_type": "code",
     "collapsed": false,
     "input": [
      "import shutil, requests\n",
      "response = requests.Session().get('http://newtalk.tw/media/news/news_6__1112631293.jpg', stream=True)\n",
      "#http://newtalk.tw/media/news/src/news_6__1112631293.jpg\n",
      "#http://newtalk.tw/media/news/news_6__1112631293.jpg\n",
      "with open('img.jpg', 'wb') as out_file:\n",
      "    shutil.copyfileobj(response.raw, out_file)\n",
      "del response\n",
      "from IPython.core.display import Image\n",
      "Image('img.jpg')\n"
     ],
     "language": "python",
     "metadata": {},
     "outputs": [
      {
       "metadata": {},
       "output_type": "pyout",
       "prompt_number": 13,
       "text": [
        "('urlretr.jpg', <httplib.HTTPMessage instance at 0x7f347403a758>)"
       ]
      }
     ],
     "prompt_number": 13
    },
    {
     "cell_type": "code",
     "collapsed": false,
     "input": [
      "import requests\n",
      "import time\n",
      "from bs4 import BeautifulSoup\n",
      "\n",
      "#from urllib import urlretrieve\n",
      "import urllib\n",
      "imgsrc = 'http://newtalk.tw/media/news/news_6__1112631293.jpg'\n",
      "urlretrieve(imgsrc, 'urlretr.jpg')\n",
      "filehandle = urllib.urlopen(imgsrc)\n",
      "\n",
      "import pymongo, gridfs, mimetypes\n",
      "# _id, Category, NewsText, Date, Title, Source, link, img, keywords\n",
      "db = pymongo.MongoClient('mongodb://sivid-phys:27017').CrawlerDB\n",
      "\n",
      "fs = gridfs.GridFS(db)\n",
      "#collection = db.newtalk_test\n",
      "\n",
      "db_id = 'nt2014091151294'\n",
      "mime_type = mimetypes.guess_type(imgsrc)\n",
      "request = requests.get(imgsrc, stream=True)\n",
      "# this file put will complete, even if the post write below is unsuccessful (due to duplicate _id)\n",
      "# end result will be duplicate and unnecessary versions of this same file in gridfs.\n",
      "# this is \"by design\" of mongodb, and since mongodb does not support transactions\n",
      "# i'm going to need to put in manual checks in python code to prevent it from happening\n",
      "img_id = fs.put(filehandle, contentType=mime_type, filename=imgsrc.split('/')[-1])\n",
      "\n",
      "post = {\"_id\":db_id,\n",
      "        \"img\":img_id}   # i have zero idea how to retrieve a gridfs object from mongodb\n",
      "ppp = db.posts.insert(post)\n",
      "print ppp\n"
     ],
     "language": "python",
     "metadata": {},
     "outputs": [
      {
       "output_type": "stream",
       "stream": "stdout",
       "text": [
        "nt2014091151294\n"
       ]
      }
     ],
     "prompt_number": 6
    },
    {
     "cell_type": "code",
     "collapsed": false,
     "input": [
      "pp = db.posts.find()\n",
      "print pp\n",
      "imgid = pp['img']\n",
      "print type(imgid)\n",
      "print imgid\n",
      "\n",
      "outdata = fs.get(imgid).read()\n",
      "print type(outdata)\n",
      "output = open(\"somefile.jpg\",\"wb\")\n",
      "output.write(outdata)\n",
      "output.close()\n",
      "\n",
      "#print type(outdata.raw)   #AttributeError: 'str' object has no attribute 'raw'\n",
      "\n",
      "#import shutil\n",
      "#with open('img.jpg', 'wb') as out_file:\n",
      "#    shutil.copyfileobj(outdata, out_file)\n",
      "#from IPython.core.display import Image\n",
      "#Image('img.jpg')\n",
      "\n",
      "#with open('img.jpg', 'wb') as f:\n",
      "#    f.write(outdata)\n",
      "from IPython.core.display import Image\n",
      "Image('somefile.jpg')"
     ],
     "language": "python",
     "metadata": {},
     "outputs": [
      {
       "ename": "TypeError",
       "evalue": "'NoneType' object has no attribute '__getitem__'",
       "output_type": "pyerr",
       "traceback": [
        "\u001b[0;31m---------------------------------------------------------------------------\u001b[0m\n\u001b[0;31mTypeError\u001b[0m                                 Traceback (most recent call last)",
        "\u001b[0;32m<ipython-input-14-6cb423731086>\u001b[0m in \u001b[0;36m<module>\u001b[0;34m()\u001b[0m\n\u001b[1;32m      1\u001b[0m \u001b[0mpp\u001b[0m \u001b[0;34m=\u001b[0m \u001b[0mdb\u001b[0m\u001b[0;34m.\u001b[0m\u001b[0mNewTalkDB\u001b[0m\u001b[0;34m.\u001b[0m\u001b[0mfind_one\u001b[0m\u001b[0;34m(\u001b[0m\u001b[0;34m{\u001b[0m\u001b[0;34m'_id'\u001b[0m\u001b[0;34m:\u001b[0m\u001b[0;34m'nt2014091751521'\u001b[0m\u001b[0;34m}\u001b[0m\u001b[0;34m)\u001b[0m\u001b[0;34m\u001b[0m\u001b[0m\n\u001b[1;32m      2\u001b[0m \u001b[0;32mprint\u001b[0m \u001b[0mpp\u001b[0m\u001b[0;34m\u001b[0m\u001b[0m\n\u001b[0;32m----> 3\u001b[0;31m \u001b[0mimgid\u001b[0m \u001b[0;34m=\u001b[0m \u001b[0mpp\u001b[0m\u001b[0;34m[\u001b[0m\u001b[0;34m'img'\u001b[0m\u001b[0;34m]\u001b[0m\u001b[0;34m\u001b[0m\u001b[0m\n\u001b[0m\u001b[1;32m      4\u001b[0m \u001b[0;32mprint\u001b[0m \u001b[0mtype\u001b[0m\u001b[0;34m(\u001b[0m\u001b[0mimgid\u001b[0m\u001b[0;34m)\u001b[0m\u001b[0;34m\u001b[0m\u001b[0m\n\u001b[1;32m      5\u001b[0m \u001b[0;32mprint\u001b[0m \u001b[0mimgid\u001b[0m\u001b[0;34m\u001b[0m\u001b[0m\n",
        "\u001b[0;31mTypeError\u001b[0m: 'NoneType' object has no attribute '__getitem__'"
       ]
      },
      {
       "output_type": "stream",
       "stream": "stdout",
       "text": [
        "None\n"
       ]
      }
     ],
     "prompt_number": 14
    },
    {
     "cell_type": "code",
     "collapsed": false,
     "input": [
      "# read file from db to disk and display here\n",
      "\n",
      "db1 = pymongo.MongoClient('mongodb://sivid-phys:27017').NewTalkDB\n",
      "\n",
      "fs1 = gridfs.GridFS(db1)\n",
      "\n",
      "pp1 = db1.posts.find_one({'_id':'nt2014091551426'})\n",
      "#print pp1\n",
      "imgid1 = pp1['img_id']\n",
      "#print type(imgid1)\n",
      "#print imgid1\n",
      "\n",
      "outdata1 = fs1.get(imgid1).read()\n",
      "#print type(outdata1)\n",
      "output1 = open(\"somefile.jpg\",\"wb\")\n",
      "output1.write(outdata1)\n",
      "output1.close()\n",
      "\n",
      "from IPython.core.display import Image\n",
      "Image('somefile.jpg')"
     ],
     "language": "python",
     "metadata": {},
     "outputs": [
      {
       "jpeg": "[encoded data removed]",
       "metadata": {},
       "output_type": "pyout",
       "prompt_number": 28,
       "text": [
        "<IPython.core.display.Image at 0x7ff6fd811950>"
       ]
      }
     ],
     "prompt_number": 28
    },
    {
     "cell_type": "code",
     "collapsed": false,
     "input": [
      "import cStringIO\n",
      "output = cStringIO.StringIO()\n",
      "def yoyo():\n",
      "    global output\n",
      "    print >>output, 'sdfsdfsdf'\n",
      "\n",
      "output.write('First line.\\n')\n",
      "imgFailCount = 34\n",
      "print >>output, 'Second line.'\n",
      "print >>output, \"Total Image Fail: \" + str(imgFailCount)\n",
      "\n",
      "contents = output.getvalue()\n",
      "print '====\\n' + contents\n",
      "print type(output)\n",
      "with open(\"results.txt\", 'wb') as f:\n",
      "    f.flush()\n",
      "    yoyo()\n",
      "    \n",
      "    f.write(contents)\n",
      "output.close()"
     ],
     "language": "python",
     "metadata": {},
     "outputs": [
      {
       "output_type": "stream",
       "stream": "stdout",
       "text": [
        "====\n",
        "First line.\n",
        "Second line.\n",
        "Total Image Fail: 34\n",
        "\n",
        "<type 'cStringIO.StringO'>\n"
       ]
      }
     ],
     "prompt_number": 59
    },
    {
     "cell_type": "code",
     "collapsed": false,
     "input": [
      "a = 9\n",
      "def yooo():\n",
      "    global a\n",
      "    a+=3\n",
      "yooo()\n",
      "print a\n",
      "\n",
      "file = open(\"newfile.txt\", \"w\")\n",
      "\n",
      "file.write(\"hello world in the new file\\n\")\n",
      "\n",
      "file.write(\"and another line\\n\")\n",
      "newsPage_link = 'sfsdfdsfsdfsdfsdfdssdf'\n",
      "db_id = '345634563463634563546'\n",
      "\n",
      "def opp():\n",
      "    file.write('helllllo\\n')\n",
      "    file.write('helllllo\\n')\n",
      "    file.write('helllllo\\n')\n",
      "    file.write(\"Page Success: \" + newsPage_link + \"_id:\" + db_id + \"\\n\")\n",
      "\n",
      "\n",
      "opp()\n",
      "file.close()"
     ],
     "language": "python",
     "metadata": {},
     "outputs": [
      {
       "output_type": "stream",
       "stream": "stdout",
       "text": [
        "12\n"
       ]
      }
     ],
     "prompt_number": 62
    }
   ],
   "metadata": {}
  }
 ]
}
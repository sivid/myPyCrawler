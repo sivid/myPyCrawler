{
 "metadata": {
  "name": ""
 },
 "nbformat": 3,
 "nbformat_minor": 0,
 "worksheets": [
  {
   "cells": [
    {
     "cell_type": "code",
     "collapsed": false,
     "input": [
      "import requests\n",
      "from bs4 import BeautifulSoup\n",
      "res = requests.get('http://www.npcgas.com.tw/html/locations/index2.aspx?kind1=1&kind2=5')\n",
      "#print res.text"
     ],
     "language": "python",
     "metadata": {},
     "outputs": [],
     "prompt_number": 2
    },
    {
     "cell_type": "code",
     "collapsed": false,
     "input": [
      "page_format = \"http://www.npcgas.com.tw/html/locations/index2.aspx?kind1=1&kind2=%d\" \n",
      "for page in range(5, 12):\n",
      "    print page_format%(page)\n",
      "    "
     ],
     "language": "python",
     "metadata": {},
     "outputs": [
      {
       "output_type": "stream",
       "stream": "stdout",
       "text": [
        "http://www.npcgas.com.tw/html/locations/index2.aspx?kind1=1&kind2=5\n",
        "http://www.npcgas.com.tw/html/locations/index2.aspx?kind1=1&kind2=6\n",
        "http://www.npcgas.com.tw/html/locations/index2.aspx?kind1=1&kind2=7\n",
        "http://www.npcgas.com.tw/html/locations/index2.aspx?kind1=1&kind2=8\n",
        "http://www.npcgas.com.tw/html/locations/index2.aspx?kind1=1&kind2=9\n",
        "http://www.npcgas.com.tw/html/locations/index2.aspx?kind1=1&kind2=10\n",
        "http://www.npcgas.com.tw/html/locations/index2.aspx?kind1=1&kind2=11\n"
       ]
      }
     ],
     "prompt_number": 4
    },
    {
     "cell_type": "code",
     "collapsed": false,
     "input": [
      "soup = BeautifulSoup(res.text)\n",
      "# #Repeater1_ctl00_store_name\n",
      "#links = soup.findAll('a', {'href': True})\n",
      "links = [tag['href'] for tag in soup.findAll('a', {'href': True})]\n",
      "for link in links:\n",
      "    if \"show.aspx\" in link:\n",
      "        print \"http://www.npcgas.com.tw/html/locations/\" + link"
     ],
     "language": "python",
     "metadata": {},
     "outputs": [
      {
       "output_type": "stream",
       "stream": "stdout",
       "text": [
        "http://www.npcgas.com.tw/html/locations/show.aspx?num=132&kind1=1&kind2=5&page=1\n",
        "http://www.npcgas.com.tw/html/locations/show.aspx?num=132&kind1=1&kind2=5&page=1\n",
        "http://www.npcgas.com.tw/html/locations/show.aspx?num=47&kind1=1&kind2=5&page=1\n",
        "http://www.npcgas.com.tw/html/locations/show.aspx?num=47&kind1=1&kind2=5&page=1\n",
        "http://www.npcgas.com.tw/html/locations/show.aspx?num=130&kind1=1&kind2=5&page=1\n",
        "http://www.npcgas.com.tw/html/locations/show.aspx?num=130&kind1=1&kind2=5&page=1\n",
        "http://www.npcgas.com.tw/html/locations/show.aspx?num=119&kind1=1&kind2=5&page=1\n",
        "http://www.npcgas.com.tw/html/locations/show.aspx?num=119&kind1=1&kind2=5&page=1\n",
        "http://www.npcgas.com.tw/html/locations/show.aspx?num=20&kind1=1&kind2=5&page=1\n",
        "http://www.npcgas.com.tw/html/locations/show.aspx?num=20&kind1=1&kind2=5&page=1\n",
        "http://www.npcgas.com.tw/html/locations/show.aspx?num=19&kind1=1&kind2=5&page=1\n",
        "http://www.npcgas.com.tw/html/locations/show.aspx?num=19&kind1=1&kind2=5&page=1\n",
        "http://www.npcgas.com.tw/html/locations/show.aspx?num=15&kind1=1&kind2=5&page=1\n",
        "http://www.npcgas.com.tw/html/locations/show.aspx?num=15&kind1=1&kind2=5&page=1\n",
        "http://www.npcgas.com.tw/html/locations/show.aspx?num=7&kind1=1&kind2=5&page=1\n",
        "http://www.npcgas.com.tw/html/locations/show.aspx?num=7&kind1=1&kind2=5&page=1\n"
       ]
      }
     ],
     "prompt_number": 19
    },
    {
     "cell_type": "code",
     "collapsed": false,
     "input": [
      "res1 = requests.get('http://www.npcgas.com.tw/html/locations/show.aspx?num=132&kind1=1&kind2=5&page=1')\n",
      "#print res1.text\n",
      "infosoup = BeautifulSoup(res1.text)\n",
      "infotable = infosoup.find('td', { \"class\" : \"bg12_ylefttop\" }) \n",
      "#print infotable\n",
      "#sitename = infotable.select(\"table:nth-child(1) > tbody:nth-child(1) > tr:nth-child(2) > td:nth-child(1) > table:nth-child(1) > tbody:nth-child(1) > tr:nth-child(1) > td:nth-child(3) > table:nth-child(1) > tbody:nth-child(1) > tr:nth-child(2) > td:nth-child(1) > table:nth-child(1) > tbody:nth-child(1) > tr:nth-child(3) > td:nth-child(1) > table:nth-child(1) > tbody:nth-child(1) > tr:nth-child(1) > td:nth-child(1)\")\n",
      "print infotable.findAll('td')[42].text\n",
      "print infotable.findAll('td')[43].text\n",
      "print infotable.findAll('td')[44].text\n",
      "print infotable.findAll('td')[45].text\n",
      "\n"
     ],
     "language": "python",
     "metadata": {},
     "outputs": [
      {
       "output_type": "stream",
       "stream": "stdout",
       "text": [
        "\u7ad9\u3000\u3000\u540d\uff1a\n",
        "\u5168\u570b\u6e2f\u5898\u8def\u7ad9\n",
        "\u96fb\u3000\u3000\u8a71\uff1a\n",
        "02-2659-8405\n"
       ]
      }
     ],
     "prompt_number": 73
    },
    {
     "cell_type": "code",
     "collapsed": false,
     "input": [],
     "language": "python",
     "metadata": {},
     "outputs": [],
     "prompt_number": 73
    }
   ],
   "metadata": {}
  }
 ]
}
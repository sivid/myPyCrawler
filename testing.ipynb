{
 "metadata": {
  "name": ""
 },
 "nbformat": 3,
 "nbformat_minor": 0,
 "worksheets": [
  {
   "cells": [
    {
     "cell_type": "code",
     "collapsed": false,
     "input": [
      "import re\n",
      "m = re.match(r\"(\\d+)\\.(\\d+)\", \"1000.5\")\n",
      "print m.groups()"
     ],
     "language": "python",
     "metadata": {},
     "outputs": [
      {
       "output_type": "stream",
       "stream": "stdout",
       "text": [
        "('1000', '5')\n"
       ]
      }
     ],
     "prompt_number": 1
    },
    {
     "cell_type": "code",
     "collapsed": false,
     "input": [
      "import re\n",
      "str1 = \"0912894563\"\n",
      "m1 = re.match(r\"(\\d{10})\",str1)\n",
      "print m1.groups()\n",
      "sg3 = {\"0912345678\",\"0912-345-678\",\"0912-345678\"}\n",
      "print type(sg3)\n",
      "for i in sg3:\n",
      "    print i\n",
      "    m2 = re.match(r\"(\\d{4})-?(\\d{3})-?(\\d{3})\", i)\n",
      "    print m2.groups()\n"
     ],
     "language": "python",
     "metadata": {},
     "outputs": [
      {
       "output_type": "stream",
       "stream": "stdout",
       "text": [
        "('0912894563',)\n",
        "<type 'set'>\n",
        "0912-345678\n",
        "('0912', '345', '678')\n",
        "0912345678\n",
        "('0912', '345', '678')\n",
        "0912-345-678\n",
        "('0912', '345', '678')\n"
       ]
      }
     ],
     "prompt_number": 11
    },
    {
     "cell_type": "code",
     "collapsed": false,
     "input": [],
     "language": "python",
     "metadata": {},
     "outputs": []
    }
   ],
   "metadata": {}
  }
 ]
}
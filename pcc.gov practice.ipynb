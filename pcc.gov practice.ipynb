{
 "metadata": {
  "name": ""
 },
 "nbformat": 3,
 "nbformat_minor": 0,
 "worksheets": [
  {
   "cells": [
    {
     "cell_type": "code",
     "collapsed": false,
     "input": [
      "import requests\n",
      "payload = { 'method':'search', 'searchMethod':'true', 'searchTarget':'ATM',\n",
      " 'orgName':'', 'orgId':'', 'hid_1':'1',\n",
      " 'tenderName':'', 'tenderId':'', 'tenderStatus':'4,5,21,29',\n",
      " 'tenderWay':'', 'awardAnnounceStartDate':'103/04/29',\n",
      " 'awardAnnounceEndDate':'103/04/29', 'radProctrgCate':'3', \n",
      " 'proctrgCate':'3', 'tenderRange':'', 'minBudget':'',\n",
      " 'maxBudget':'', 'item':'','hid_2':'1',\n",
      " 'gottenVendorName':'', 'gottenVendorId':'', 'hid_3':'1',\n",
      " 'submitVendorName':'', 'submitVendorId':'', 'location':'',\n",
      " 'priorityCate':'', 'isReConstruct':'', 'btnQuery':'\u67e5\u8a62' }\n",
      "rs = requests.session()\n",
      "rs_post = rs.post('http://web.pcc.gov.tw/tps/pss/tender.do?method=goSearch&searchMode=common&searchType=advance&searchTarget=ATM',data=payload)\n",
      "#print rs_post.text.encode('utf8')\n",
      "\n",
      "rs = requests.session() \n",
      "rs_post = rs.post(\"http://web.pcc.gov.tw/tps/pss/tender.do?searchMode=common&searchType=advance\", data=payload) \n",
      "rs_get = rs.get(\"http://web.pcc.gov.tw/tps/pss/tender.do?searchMode=common&searchType=advance&searchTarget=ATM&method=search&isSpdt=&pageIndex=2\") \n",
      "response = rs_get.text.encode('utf8')\n",
      "\n",
      "#print response"
     ],
     "language": "python",
     "metadata": {},
     "outputs": [],
     "prompt_number": 1
    },
    {
     "cell_type": "code",
     "collapsed": false,
     "input": [
      "rs_get = rs.get(\"http://web.pcc.gov.tw/tps/pss/tender.do?searchMode=common&searchType=advance&searchTarget=ATM&method=search&isSpdt=&pageIndex=2\")\n",
      "#print rs_get.text.encode('utf8')"
     ],
     "language": "python",
     "metadata": {},
     "outputs": [],
     "prompt_number": 20
    },
    {
     "cell_type": "code",
     "collapsed": false,
     "input": [
      "import urlparse\n",
      "from bs4 import BeautifulSoup\n",
      "from math import ceil\n",
      "soup = BeautifulSoup(response)\n",
      "rec_number_element = soup.find('span',{'class':'T11b'})\n",
      "rec_number = int(rec_number_element.text)\n",
      "page_number = int(ceil(float(rec_number)/100))\n",
      "bid_file = open('bid_list.txt', 'w')\n",
      "page_format = \"http://web.pcc.gov.tw/tps/pss/tender.do?searchMode=common&searchType=advance&searchTarget=ATM&method=search&isSpdt=&pageIndex=%d\"\n",
      "for page in range(1, page_number+1):\n",
      "    bid_list = rs.get(page_format%(page))\n",
      "    bid_response = bid_list.text.encode('utf8')\n",
      "    bid_soup = BeautifulSoup(bid_response)\n",
      "    bid_table = bid_soup.find('div', {'id':'print_area'})\n",
      "    bid_rows = bid_table.findAll('tr')[1:-1]\n",
      "    for bid_row in bid_rows:\n",
      "        link = [tag['href'] for tag in bid_row.findAll('a',{'href':True})][0]\n",
      "        link_href = urlparse.urljoin(\"http://web.pcc.gov.tw/tps/pss/tender.do?searchMode=common&searchType=advance\", link)\n",
      "        bid_file.write(link_href + \"\\n\")\n",
      "bid_file.close()"
     ],
     "language": "python",
     "metadata": {},
     "outputs": [],
     "prompt_number": 21
    },
    {
     "cell_type": "code",
     "collapsed": false,
     "input": [
      "import time, re\n",
      "bid_list = open('bid_list.txt','r')\n",
      "for line in bid_list.readlines():\n",
      "    pagelink = line.strip()\n",
      "    m = re.match(r\"([^ ]+)pkAtmMain=(?P<pkAtmMain>\\w+)&tenderCaseNo=(?P<tenderCaseNo>\\w+)\", pagelink)\n",
      "    filename = \"%s_%s\"%(m.group('pkAtmMain'), m.group('tenderCaseNo'))\n",
      "    request_get = requests.get(pagelink)\n",
      "    response = request_get.text.encode('utf8')\n",
      "    soup = BeautifulSoup(response)\n",
      "    printarea = soup.find('div',{'id':'printArea'})\n",
      "    bid_detail = open('gov/%s.txt'%(filename), 'w')\n",
      "    bid_detail.write(printarea.prettify('utf-8'))\n",
      "    bid_detail.close()\n",
      "    time.sleep(1)\n",
      "bid_list.close()"
     ],
     "language": "python",
     "metadata": {},
     "outputs": [],
     "prompt_number": 22
    },
    {
     "cell_type": "code",
     "collapsed": false,
     "input": [],
     "language": "python",
     "metadata": {},
     "outputs": []
    }
   ],
   "metadata": {}
  }
 ]
}
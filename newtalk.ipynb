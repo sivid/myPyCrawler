{
 "metadata": {
  "name": ""
 },
 "nbformat": 3,
 "nbformat_minor": 0,
 "worksheets": [
  {
   "cells": [
    {
     "cell_type": "code",
     "collapsed": false,
     "input": [
      "import requests, datetime, time, pymongo, gridfs, mimetypes\n",
      "from bs4 import BeautifulSoup\n",
      "import urllib\n",
      "page_format = \"http://newtalk.tw/news_list.php?oid=%d&p=%d\"\n",
      "categories = {1:\"\u570b\u969b\",2:'\u653f\u6cbb',3:'\u8ca1\u7d93',4:'\u53f8\u6cd5',5:'\u751f\u6d3b',6:'\u5a92\u9ad4',7:'\u4e2d\u570b',8:'\u79d1\u6280',9:'\u74b0\u4fdd',10:'\u5a1b\u6a02',11:'\u85dd\u6587',14:'\u5730\u65b9'}\n",
      "imgFailCount = 0\n",
      "pageFailCount = 0\n",
      "pageSuccessCount = 0\n",
      "imgSuccessCount = 0\n",
      "file = open(\"results.txt\", \"w\")\n",
      "\n",
      "def get_all_news_links_page(): # this loop gets all news link pages\n",
      "    for oid, cati in categories.iteritems():\n",
      "    #for oid in range(7,8):\n",
      "        firstpageincat = page_format%(oid,1)\n",
      "        newslist = requests.get(firstpageincat)\n",
      "        soup_cat = BeautifulSoup(newslist.text)\n",
      "        cat_pages = []\n",
      "        cat_pages.append(firstpageincat)\n",
      "        \n",
      "        #links_pages = [tag['href'] for tag in soup.find('div',{'class','pageSelect'}).findAll('a',{'href':True})]\n",
      "        links_pages = [tag for tag in soup_cat.find('div',{'class','pageSelect'}).findAll('a',{'href':True})]\n",
      "        #print links_pages\n",
      "        for linksp in links_pages:\n",
      "            if (linksp.text.encode('utf8') != '\u4e0b\u4e00\u9801'):\n",
      "                cat_pages.append('http://newtalk.tw/news_list.php' + linksp['href'])\n",
      "        print cati\n",
      "        print cat_pages\n",
      "        time.sleep(3)\n",
      "        get_all_news_links(cat_pages, oid)\n",
      "\n",
      "def get_all_news_links(cat_pages, oid):\n",
      "    #test_linkspage = 'http://newtalk.tw/news_list.php?oid=8'\n",
      "    for page in cat_pages:\n",
      "        soup_links = BeautifulSoup(requests.get(page).text)\n",
      "        def has_either_text(tag):\n",
      "            return ((unicode(tag) == 'more') or (unicode(tag).encode('utf8') == '\u5f71\u97f3\u9023\u7d50'))\n",
      "        soup_content = soup_links.find(id='content')\n",
      "        soup_links = soup_content.find_all('a', text=has_either_text)\n",
      "        print len(soup_links)\n",
      "        for link in soup_links:\n",
      "            #print link['href']\n",
      "            get_news_contents(link['href'], oid)\n",
      "        time.sleep(3)\n",
      "\n",
      "def get_news_contents(newsPage_link, oid):\n",
      "    try:\n",
      "        #newspage_link = 'http://newtalk.tw/news/2014/09/14/51395.html'\n",
      "        soup_newspage = BeautifulSoup(requests.get(newsPage_link).text)\n",
      "        # _id, Category, NewsText, Date, Title, Source, link, img, keywords\n",
      "        sourceSite = 'NewTalk'\n",
      "        link_string = newsPage_link.replace('.','/')\n",
      "        idtemp = link_string.split('/')[5:9]\n",
      "        db_id = 'nt' + ''.join([part for part in idtemp])\n",
      "        #print '===' + db_id\n",
      "        #categories = {1:'\u570b\u969b',2:'\u653f\u6cbb',3:'\u8ca1\u7d93',4:'\u53f8\u6cd5',5:'\u751f\u6d3b',6:'\u5a92\u9ad4',7:'\u4e2d\u570b',8:'\u79d1\u6280',9:'\u74b0\u4fdd',10:'\u5a1b\u6a02',11:'\u85dd\u6587',14:'\u5730\u65b9'}\n",
      "        cat_Current = categories[oid]\n",
      "        #print '===' + Category\n",
      "        newstext_o = soup_newspage.find('div',{'class','news_ctxt_area_word'}).text.strip()\n",
      "        ntt = []\n",
      "        for line in newstext_o.splitlines():\n",
      "            if u'\u5716\u7247\u4f86\u6e90' not in line:\n",
      "                ntt.append(line)\n",
      "        ntt = ntt[1:]\n",
      "        newsText = '\\n'.join(ntt)\n",
      "        #print '===' + NewsText\n",
      "        date_string1 = link_string.split('/')[5:8]\n",
      "        date_string = ''.join(date_string1)\n",
      "        newsDate = datetime.datetime.strptime(date_string, '%Y%m%d')\n",
      "        #print newsdate\n",
      "        newsTitle = soup_newspage.find('div',{'class','news_cont_area_tit'}).text\n",
      "        #print '===' + NewsTitle\n",
      "        #print '===' + Source\n",
      "        img_id = None\n",
      "        try:  # only image download code needs to be surrounded\n",
      "            imgsrc = soup_newspage.find('div',{'class','news_ctxt_area_pic'}).find('img')['src']\n",
      "            #print '===' + imgsrc\n",
      "            filehandle = urllib.urlopen(imgsrc)\n",
      "            mime_type = mimetypes.guess_type(imgsrc)\n",
      "            img_id = fs.put(filehandle, contentType=mime_type, filename=imgsrc.split('/')[-1])\n",
      "            global imgSuccessCount\n",
      "            imgSuccessCount += 1\n",
      "            file.write(\"Image Success: \" + newsPage_link + \"\\n\")\n",
      "        except Exception as e:\n",
      "            print newsPage_link + \"  image download failed, \", e\n",
      "            global imgFailCount\n",
      "            imgFailCount += 1\n",
      "            file.write(\"Image Fail: \" + newsPage_link + \"\\n\")\n",
      "        #urlretrieve(imgsrc, filename)   # replace with mongodb code here\n",
      "        post = {\"_id\":db_id,\n",
      "                \"sourceSite\":sourceSite,\n",
      "                \"cat_Current\":cat_Current,\n",
      "                \"newsTitle\":newsTitle,\n",
      "                \"newsDate\":newsDate, # datetime.datetime will be automatically converted\n",
      "                \"newsPage_link\":newsPage_link,\n",
      "                \"newsText\":newsText,\n",
      "                \"img_id\":img_id}\n",
      "        ppp = db.posts.insert(post)\n",
      "        print ppp, newsPage_link\n",
      "        global pageSuccessCount\n",
      "        pageSuccessCount += 1\n",
      "        file.write(\"Page Success: \" + newsPage_link + \"   _id:\" + db_id + \"\\n\")\n",
      "    except Exception as e:\n",
      "        print newsPage_link + \"  page crawl failed, \", e\n",
      "        global pageFailCount\n",
      "        pageFailCount += 1\n",
      "        file.write(\"Page Fail: \" + newsPage_link + \"\\n\")\n",
      "    time.sleep(30)  # i'm so courteous\n",
      "\n",
      "db = pymongo.MongoClient('mongodb://sivid-phys:27017').NewTalkDB\n",
      "fs = gridfs.GridFS(db)\n",
      "get_all_news_links_page()\n",
      "\n",
      "# after all's said and done\n",
      "file.write(\"\\n\\n\\nTotal Image Fail: \" + str(imgFailCount) + \"\\n\")\n",
      "file.write(\"Total Page Fail: \" + str(pageFailCount) + \"\\n\")\n",
      "file.write(\"Total Image Success: \" + str(imgSuccessCount) + \"\\n\")\n",
      "file.write(\"Total Page Success: \" + str(pageSuccessCount) + \"\\n\")\n",
      "file.close()\n",
      "# TODO: retry mechanism"
     ],
     "language": "python",
     "metadata": {},
     "outputs": [
      {
       "output_type": "stream",
       "stream": "stdout",
       "text": [
        "\u570b\u969b\n",
        "['http://newtalk.tw/news_list.php?oid=1&p=1', 'http://newtalk.tw/news_list.php?oid=1&p=2', 'http://newtalk.tw/news_list.php?oid=1&p=3', 'http://newtalk.tw/news_list.php?oid=1&p=4', 'http://newtalk.tw/news_list.php?oid=1&p=5', 'http://newtalk.tw/news_list.php?oid=1&p=6']\n",
        "20"
       ]
      },
      {
       "output_type": "stream",
       "stream": "stdout",
       "text": [
        "\n",
        "http://newtalk.tw/news/2014/09/18/51552.html  image download failed, "
       ]
      },
      {
       "output_type": "stream",
       "stream": "stdout",
       "text": [
        " 'NoneType' object has no attribute 'find'\n",
        "nt2014091851552 http://newtalk.tw/news/2014/09/18/51552.html\n",
        "nt2014091851539"
       ]
      },
      {
       "output_type": "stream",
       "stream": "stdout",
       "text": [
        " http://newtalk.tw/news/2014/09/18/51539.html\n",
        "nt2014091851536"
       ]
      },
      {
       "output_type": "stream",
       "stream": "stdout",
       "text": [
        " http://newtalk.tw/news/2014/09/18/51536.html\n",
        "nt2014091851533"
       ]
      },
      {
       "output_type": "stream",
       "stream": "stdout",
       "text": [
        " http://newtalk.tw/news/2014/09/18/51533.html\n",
        "nt2014091851532"
       ]
      },
      {
       "output_type": "stream",
       "stream": "stdout",
       "text": [
        " http://newtalk.tw/news/2014/09/18/51532.html\n",
        "http://newtalk.tw/news/2014/09/18/51531.html  image download failed, "
       ]
      },
      {
       "output_type": "stream",
       "stream": "stdout",
       "text": [
        " 'NoneType' object has no attribute 'find'\n",
        "nt2014091851531 http://newtalk.tw/news/2014/09/18/51531.html\n",
        "nt2014091751507"
       ]
      },
      {
       "output_type": "stream",
       "stream": "stdout",
       "text": [
        " http://newtalk.tw/news/2014/09/17/51507.html\n",
        "nt2014091751492"
       ]
      },
      {
       "output_type": "stream",
       "stream": "stdout",
       "text": [
        " http://newtalk.tw/news/2014/09/17/51492.html\n",
        "nt2014091751491"
       ]
      },
      {
       "output_type": "stream",
       "stream": "stdout",
       "text": [
        " http://newtalk.tw/news/2014/09/17/51491.html\n",
        "nt2014091751490"
       ]
      },
      {
       "output_type": "stream",
       "stream": "stdout",
       "text": [
        " http://newtalk.tw/news/2014/09/17/51490.html\n",
        "nt2014091751489"
       ]
      },
      {
       "output_type": "stream",
       "stream": "stdout",
       "text": [
        " http://newtalk.tw/news/2014/09/17/51489.html\n",
        "nt2014091751488"
       ]
      },
      {
       "output_type": "stream",
       "stream": "stdout",
       "text": [
        " http://newtalk.tw/news/2014/09/17/51488.html\n",
        "nt2014091751487"
       ]
      },
      {
       "output_type": "stream",
       "stream": "stdout",
       "text": [
        " http://newtalk.tw/news/2014/09/17/51487.html\n",
        "nt2014091651465"
       ]
      },
      {
       "output_type": "stream",
       "stream": "stdout",
       "text": [
        " http://newtalk.tw/news/2014/09/16/51465.html\n",
        "nt2014091651444"
       ]
      },
      {
       "output_type": "stream",
       "stream": "stdout",
       "text": [
        " http://newtalk.tw/news/2014/09/16/51444.html\n",
        "http://newtalk.tw/news/2014/09/15/51442.html  image download failed, "
       ]
      },
      {
       "output_type": "stream",
       "stream": "stdout",
       "text": [
        " 'NoneType' object has no attribute 'find'\n",
        "nt2014091551442 http://newtalk.tw/news/2014/09/15/51442.html\n",
        "nt2014091551423"
       ]
      },
      {
       "output_type": "stream",
       "stream": "stdout",
       "text": [
        " http://newtalk.tw/news/2014/09/15/51423.html\n",
        "nt2014091551419"
       ]
      },
      {
       "output_type": "stream",
       "stream": "stdout",
       "text": [
        " http://newtalk.tw/news/2014/09/15/51419.html\n",
        "nt2014091551413"
       ]
      },
      {
       "output_type": "stream",
       "stream": "stdout",
       "text": [
        " http://newtalk.tw/news/2014/09/15/51413.html\n",
        "http://newtalk.tw/news/2014/09/15/51412.html  image download failed, "
       ]
      },
      {
       "output_type": "stream",
       "stream": "stdout",
       "text": [
        " 'NoneType' object has no attribute 'find'\n",
        "nt2014091551412 http://newtalk.tw/news/2014/09/15/51412.html\n",
        "20"
       ]
      },
      {
       "output_type": "stream",
       "stream": "stdout",
       "text": [
        "\n",
        "nt2014091551411"
       ]
      },
      {
       "output_type": "stream",
       "stream": "stdout",
       "text": [
        " http://newtalk.tw/news/2014/09/15/51411.html\n",
        "nt2014091551409"
       ]
      },
      {
       "output_type": "stream",
       "stream": "stdout",
       "text": [
        " http://newtalk.tw/news/2014/09/15/51409.html\n",
        "http://newtalk.tw/news/2014/09/14/51398.html  image download failed, "
       ]
      },
      {
       "output_type": "stream",
       "stream": "stdout",
       "text": [
        " 'NoneType' object has no attribute 'find'\n",
        "nt2014091451398 http://newtalk.tw/news/2014/09/14/51398.html\n",
        "nt2014091351387"
       ]
      },
      {
       "output_type": "stream",
       "stream": "stdout",
       "text": [
        " http://newtalk.tw/news/2014/09/13/51387.html\n",
        "http://newtalk.tw/news/2014/09/13/51379.html  image download failed, "
       ]
      },
      {
       "output_type": "stream",
       "stream": "stdout",
       "text": [
        " 'NoneType' object has no attribute 'find'\n",
        "nt2014091351379 http://newtalk.tw/news/2014/09/13/51379.html\n",
        "http://newtalk.tw/news/2014/09/12/51359.html  image download failed, "
       ]
      },
      {
       "output_type": "stream",
       "stream": "stdout",
       "text": [
        " 'NoneType' object has no attribute 'find'\n",
        "nt2014091251359 http://newtalk.tw/news/2014/09/12/51359.html\n",
        "nt2014091251353"
       ]
      },
      {
       "output_type": "stream",
       "stream": "stdout",
       "text": [
        " http://newtalk.tw/news/2014/09/12/51353.html\n",
        "nt2014091251332"
       ]
      },
      {
       "output_type": "stream",
       "stream": "stdout",
       "text": [
        " http://newtalk.tw/news/2014/09/12/51332.html\n",
        "http://newtalk.tw/news/2014/09/12/51331.html  image download failed, "
       ]
      },
      {
       "output_type": "stream",
       "stream": "stdout",
       "text": [
        " 'NoneType' object has no attribute 'find'\n",
        "nt2014091251331 http://newtalk.tw/news/2014/09/12/51331.html\n",
        "nt2014091151318"
       ]
      },
      {
       "output_type": "stream",
       "stream": "stdout",
       "text": [
        " http://newtalk.tw/news/2014/09/11/51318.html\n",
        "nt2014091151281"
       ]
      },
      {
       "output_type": "stream",
       "stream": "stdout",
       "text": [
        " http://newtalk.tw/news/2014/09/11/51281.html\n",
        "nt2014091151280"
       ]
      },
      {
       "output_type": "stream",
       "stream": "stdout",
       "text": [
        " http://newtalk.tw/news/2014/09/11/51280.html\n",
        "nt2014091051272"
       ]
      },
      {
       "output_type": "stream",
       "stream": "stdout",
       "text": [
        " http://newtalk.tw/news/2014/09/10/51272.html\n",
        "http://newtalk.tw/news/2014/09/10/51251.html  image download failed, "
       ]
      },
      {
       "output_type": "stream",
       "stream": "stdout",
       "text": [
        " 'NoneType' object has no attribute 'find'\n",
        "nt2014091051251 http://newtalk.tw/news/2014/09/10/51251.html\n",
        "nt2014091051231"
       ]
      },
      {
       "output_type": "stream",
       "stream": "stdout",
       "text": [
        " http://newtalk.tw/news/2014/09/10/51231.html\n",
        "nt2014091051229"
       ]
      },
      {
       "output_type": "stream",
       "stream": "stdout",
       "text": [
        " http://newtalk.tw/news/2014/09/10/51229.html\n",
        "http://newtalk.tw/news/2014/09/09/51200.html  image download failed, "
       ]
      },
      {
       "output_type": "stream",
       "stream": "stdout",
       "text": [
        " 'NoneType' object has no attribute 'find'\n",
        "nt2014090951200 http://newtalk.tw/news/2014/09/09/51200.html\n",
        "nt2014090951191"
       ]
      },
      {
       "output_type": "stream",
       "stream": "stdout",
       "text": [
        " http://newtalk.tw/news/2014/09/09/51191.html\n",
        "nt2014090951190"
       ]
      },
      {
       "output_type": "stream",
       "stream": "stdout",
       "text": [
        " http://newtalk.tw/news/2014/09/09/51190.html\n",
        "nt2014090951189"
       ]
      },
      {
       "output_type": "stream",
       "stream": "stdout",
       "text": [
        " http://newtalk.tw/news/2014/09/09/51189.html\n",
        "20"
       ]
      },
      {
       "output_type": "stream",
       "stream": "stdout",
       "text": [
        "\n",
        "nt2014090951188"
       ]
      },
      {
       "output_type": "stream",
       "stream": "stdout",
       "text": [
        " http://newtalk.tw/news/2014/09/09/51188.html\n",
        "nt2014090951186"
       ]
      },
      {
       "output_type": "stream",
       "stream": "stdout",
       "text": [
        " http://newtalk.tw/news/2014/09/09/51186.html\n",
        "nt2014090951185"
       ]
      },
      {
       "output_type": "stream",
       "stream": "stdout",
       "text": [
        " http://newtalk.tw/news/2014/09/09/51185.html\n",
        "nt2014090851177"
       ]
      },
      {
       "output_type": "stream",
       "stream": "stdout",
       "text": [
        " http://newtalk.tw/news/2014/09/08/51177.html\n",
        "nt2014090851172"
       ]
      },
      {
       "output_type": "stream",
       "stream": "stdout",
       "text": [
        " http://newtalk.tw/news/2014/09/08/51172.html\n",
        "nt2014090651145"
       ]
      },
      {
       "output_type": "stream",
       "stream": "stdout",
       "text": [
        " http://newtalk.tw/news/2014/09/06/51145.html\n",
        "http://newtalk.tw/news/2014/09/05/51106.html  image download failed, "
       ]
      },
      {
       "output_type": "stream",
       "stream": "stdout",
       "text": [
        " 'NoneType' object has no attribute 'find'\n",
        "nt2014090551106 http://newtalk.tw/news/2014/09/05/51106.html\n",
        "nt2014090551101"
       ]
      },
      {
       "output_type": "stream",
       "stream": "stdout",
       "text": [
        " http://newtalk.tw/news/2014/09/05/51101.html\n",
        "nt2014090551100"
       ]
      },
      {
       "output_type": "stream",
       "stream": "stdout",
       "text": [
        " http://newtalk.tw/news/2014/09/05/51100.html\n",
        "nt2014090551097"
       ]
      },
      {
       "output_type": "stream",
       "stream": "stdout",
       "text": [
        " http://newtalk.tw/news/2014/09/05/51097.html\n",
        "nt2014090451082"
       ]
      },
      {
       "output_type": "stream",
       "stream": "stdout",
       "text": [
        " http://newtalk.tw/news/2014/09/04/51082.html\n",
        "nt2014090451078"
       ]
      },
      {
       "output_type": "stream",
       "stream": "stdout",
       "text": [
        " http://newtalk.tw/news/2014/09/04/51078.html\n",
        "nt2014090451058"
       ]
      },
      {
       "output_type": "stream",
       "stream": "stdout",
       "text": [
        " http://newtalk.tw/news/2014/09/04/51058.html\n",
        "nt2014090451050"
       ]
      },
      {
       "output_type": "stream",
       "stream": "stdout",
       "text": [
        " http://newtalk.tw/news/2014/09/04/51050.html\n",
        "nt2014090451049"
       ]
      },
      {
       "output_type": "stream",
       "stream": "stdout",
       "text": [
        " http://newtalk.tw/news/2014/09/04/51049.html\n",
        "nt2014090451048"
       ]
      },
      {
       "output_type": "stream",
       "stream": "stdout",
       "text": [
        " http://newtalk.tw/news/2014/09/04/51048.html\n",
        "nt2014090451047"
       ]
      },
      {
       "output_type": "stream",
       "stream": "stdout",
       "text": [
        " http://newtalk.tw/news/2014/09/04/51047.html\n",
        "nt2014090451046"
       ]
      },
      {
       "output_type": "stream",
       "stream": "stdout",
       "text": [
        " http://newtalk.tw/news/2014/09/04/51046.html\n",
        "nt2014090351041"
       ]
      },
      {
       "output_type": "stream",
       "stream": "stdout",
       "text": [
        " http://newtalk.tw/news/2014/09/03/51041.html\n",
        "nt2014090351029"
       ]
      },
      {
       "output_type": "stream",
       "stream": "stdout",
       "text": [
        " http://newtalk.tw/news/2014/09/03/51029.html\n",
        "20"
       ]
      },
      {
       "output_type": "stream",
       "stream": "stdout",
       "text": [
        "\n",
        "http://newtalk.tw/news/2014/09/03/51014.html  image download failed, "
       ]
      },
      {
       "output_type": "stream",
       "stream": "stdout",
       "text": [
        " 'NoneType' object has no attribute 'find'\n",
        "nt2014090351014 http://newtalk.tw/news/2014/09/03/51014.html\n",
        "nt2014090351008"
       ]
      },
      {
       "output_type": "stream",
       "stream": "stdout",
       "text": [
        " http://newtalk.tw/news/2014/09/03/51008.html\n",
        "nt2014090351007"
       ]
      },
      {
       "output_type": "stream",
       "stream": "stdout",
       "text": [
        " http://newtalk.tw/news/2014/09/03/51007.html\n",
        "nt2014090351006"
       ]
      },
      {
       "output_type": "stream",
       "stream": "stdout",
       "text": [
        " http://newtalk.tw/news/2014/09/03/51006.html\n",
        "nt2014090250969"
       ]
      },
      {
       "output_type": "stream",
       "stream": "stdout",
       "text": [
        " http://newtalk.tw/news/2014/09/02/50969.html\n",
        "nt2014090250967"
       ]
      },
      {
       "output_type": "stream",
       "stream": "stdout",
       "text": [
        " http://newtalk.tw/news/2014/09/02/50967.html\n",
        "http://newtalk.tw/news/2014/09/01/50941.html  image download failed, "
       ]
      },
      {
       "output_type": "stream",
       "stream": "stdout",
       "text": [
        " 'NoneType' object has no attribute 'find'\n",
        "nt2014090150941 http://newtalk.tw/news/2014/09/01/50941.html\n",
        "nt2014090150931"
       ]
      },
      {
       "output_type": "stream",
       "stream": "stdout",
       "text": [
        " http://newtalk.tw/news/2014/09/01/50931.html\n",
        "nt2014090150930"
       ]
      },
      {
       "output_type": "stream",
       "stream": "stdout",
       "text": [
        " http://newtalk.tw/news/2014/09/01/50930.html\n",
        "nt2014090150929"
       ]
      },
      {
       "output_type": "stream",
       "stream": "stdout",
       "text": [
        " http://newtalk.tw/news/2014/09/01/50929.html\n",
        "nt2014090150927"
       ]
      },
      {
       "output_type": "stream",
       "stream": "stdout",
       "text": [
        " http://newtalk.tw/news/2014/09/01/50927.html\n",
        "http://newtalk.tw/news/2014/08/30/50899.html  image download failed, "
       ]
      },
      {
       "output_type": "stream",
       "stream": "stdout",
       "text": [
        " 'NoneType' object has no attribute 'find'\n",
        "nt2014083050899 http://newtalk.tw/news/2014/08/30/50899.html\n",
        "http://newtalk.tw/news/2014/08/30/50894.html  image download failed, "
       ]
      },
      {
       "output_type": "stream",
       "stream": "stdout",
       "text": [
        " 'NoneType' object has no attribute 'find'\n",
        "nt2014083050894 http://newtalk.tw/news/2014/08/30/50894.html\n",
        "http://newtalk.tw/news/2014/08/30/50893.html  image download failed, "
       ]
      },
      {
       "output_type": "stream",
       "stream": "stdout",
       "text": [
        " 'NoneType' object has no attribute 'find'\n",
        "nt2014083050893 http://newtalk.tw/news/2014/08/30/50893.html\n",
        "nt2014082950886"
       ]
      },
      {
       "output_type": "stream",
       "stream": "stdout",
       "text": [
        " http://newtalk.tw/news/2014/08/29/50886.html\n",
        "http://newtalk.tw/news/2014/08/29/50872.html  image download failed, "
       ]
      },
      {
       "output_type": "stream",
       "stream": "stdout",
       "text": [
        " 'NoneType' object has no attribute 'find'\n",
        "nt2014082950872 http://newtalk.tw/news/2014/08/29/50872.html\n",
        "http://newtalk.tw/news/2014/08/29/50861.html  image download failed, "
       ]
      },
      {
       "output_type": "stream",
       "stream": "stdout",
       "text": [
        " 'NoneType' object has no attribute 'find'\n",
        "nt2014082950861 http://newtalk.tw/news/2014/08/29/50861.html\n",
        "nt2014082950854"
       ]
      },
      {
       "output_type": "stream",
       "stream": "stdout",
       "text": [
        " http://newtalk.tw/news/2014/08/29/50854.html\n",
        "nt2014082950853"
       ]
      },
      {
       "output_type": "stream",
       "stream": "stdout",
       "text": [
        " http://newtalk.tw/news/2014/08/29/50853.html\n",
        "nt2014082950851"
       ]
      },
      {
       "output_type": "stream",
       "stream": "stdout",
       "text": [
        " http://newtalk.tw/news/2014/08/29/50851.html\n",
        "20"
       ]
      },
      {
       "output_type": "stream",
       "stream": "stdout",
       "text": [
        "\n",
        "http://newtalk.tw/news/2014/08/28/50838.html  image download failed, "
       ]
      },
      {
       "output_type": "stream",
       "stream": "stdout",
       "text": [
        " 'NoneType' object has no attribute 'find'\n",
        "nt2014082850838 http://newtalk.tw/news/2014/08/28/50838.html\n",
        "nt2014082850825"
       ]
      },
      {
       "output_type": "stream",
       "stream": "stdout",
       "text": [
        " http://newtalk.tw/news/2014/08/28/50825.html\n",
        "nt2014082850816"
       ]
      },
      {
       "output_type": "stream",
       "stream": "stdout",
       "text": [
        " http://newtalk.tw/news/2014/08/28/50816.html\n",
        "nt2014082750792"
       ]
      },
      {
       "output_type": "stream",
       "stream": "stdout",
       "text": [
        " http://newtalk.tw/news/2014/08/27/50792.html\n",
        "nt2014082750788"
       ]
      },
      {
       "output_type": "stream",
       "stream": "stdout",
       "text": [
        " http://newtalk.tw/news/2014/08/27/50788.html\n",
        "nt2014082750785"
       ]
      },
      {
       "output_type": "stream",
       "stream": "stdout",
       "text": [
        " http://newtalk.tw/news/2014/08/27/50785.html\n",
        "nt2014082750783"
       ]
      },
      {
       "output_type": "stream",
       "stream": "stdout",
       "text": [
        " http://newtalk.tw/news/2014/08/27/50783.html\n",
        "nt2014082750782"
       ]
      },
      {
       "output_type": "stream",
       "stream": "stdout",
       "text": [
        " http://newtalk.tw/news/2014/08/27/50782.html\n",
        "nt2014082750781"
       ]
      },
      {
       "output_type": "stream",
       "stream": "stdout",
       "text": [
        " http://newtalk.tw/news/2014/08/27/50781.html\n",
        "nt2014082750780"
       ]
      },
      {
       "output_type": "stream",
       "stream": "stdout",
       "text": [
        " http://newtalk.tw/news/2014/08/27/50780.html\n",
        "nt2014082650760"
       ]
      },
      {
       "output_type": "stream",
       "stream": "stdout",
       "text": [
        " http://newtalk.tw/news/2014/08/26/50760.html\n",
        "nt2014082650745"
       ]
      },
      {
       "output_type": "stream",
       "stream": "stdout",
       "text": [
        " http://newtalk.tw/news/2014/08/26/50745.html\n",
        "nt2014082650740"
       ]
      },
      {
       "output_type": "stream",
       "stream": "stdout",
       "text": [
        " http://newtalk.tw/news/2014/08/26/50740.html\n",
        "nt2014082650738"
       ]
      },
      {
       "output_type": "stream",
       "stream": "stdout",
       "text": [
        " http://newtalk.tw/news/2014/08/26/50738.html\n",
        "nt2014082550729"
       ]
      },
      {
       "output_type": "stream",
       "stream": "stdout",
       "text": [
        " http://newtalk.tw/news/2014/08/25/50729.html\n",
        "nt2014082550722"
       ]
      },
      {
       "output_type": "stream",
       "stream": "stdout",
       "text": [
        " http://newtalk.tw/news/2014/08/25/50722.html\n",
        "nt2014082550714"
       ]
      },
      {
       "output_type": "stream",
       "stream": "stdout",
       "text": [
        " http://newtalk.tw/news/2014/08/25/50714.html\n",
        "http://newtalk.tw/news/2014/08/25/50713.html  image download failed, "
       ]
      },
      {
       "output_type": "stream",
       "stream": "stdout",
       "text": [
        " 'NoneType' object has no attribute 'find'\n",
        "nt2014082550713 http://newtalk.tw/news/2014/08/25/50713.html\n",
        "nt2014082550707"
       ]
      },
      {
       "output_type": "stream",
       "stream": "stdout",
       "text": [
        " http://newtalk.tw/news/2014/08/25/50707.html\n",
        "nt2014082550706"
       ]
      },
      {
       "output_type": "stream",
       "stream": "stdout",
       "text": [
        " http://newtalk.tw/news/2014/08/25/50706.html\n",
        "12"
       ]
      },
      {
       "output_type": "stream",
       "stream": "stdout",
       "text": [
        "\n",
        "nt2014082550705"
       ]
      },
      {
       "output_type": "stream",
       "stream": "stdout",
       "text": [
        " http://newtalk.tw/news/2014/08/25/50705.html\n",
        "nt2014082350684"
       ]
      },
      {
       "output_type": "stream",
       "stream": "stdout",
       "text": [
        " http://newtalk.tw/news/2014/08/23/50684.html\n",
        "nt2014082350675"
       ]
      },
      {
       "output_type": "stream",
       "stream": "stdout",
       "text": [
        " http://newtalk.tw/news/2014/08/23/50675.html\n",
        "nt2014082350674"
       ]
      },
      {
       "output_type": "stream",
       "stream": "stdout",
       "text": [
        " http://newtalk.tw/news/2014/08/23/50674.html\n",
        "http://newtalk.tw/news/2014/08/23/50669.html  image download failed, "
       ]
      },
      {
       "output_type": "stream",
       "stream": "stdout",
       "text": [
        " 'NoneType' object has no attribute 'find'\n",
        "nt2014082350669 http://newtalk.tw/news/2014/08/23/50669.html\n",
        "http://newtalk.tw/news/2014/08/22/50665.html  image download failed, "
       ]
      },
      {
       "output_type": "stream",
       "stream": "stdout",
       "text": [
        " 'NoneType' object has no attribute 'find'\n",
        "nt2014082250665 http://newtalk.tw/news/2014/08/22/50665.html\n",
        "http://newtalk.tw/news/2014/08/22/50656.html  image download failed, "
       ]
      },
      {
       "output_type": "stream",
       "stream": "stdout",
       "text": [
        " 'NoneType' object has no attribute 'find'\n",
        "nt2014082250656 http://newtalk.tw/news/2014/08/22/50656.html\n",
        "nt2014082250646"
       ]
      },
      {
       "output_type": "stream",
       "stream": "stdout",
       "text": [
        " http://newtalk.tw/news/2014/08/22/50646.html\n",
        "http://newtalk.tw/news/2014/08/22/50642.html  image download failed, "
       ]
      },
      {
       "output_type": "stream",
       "stream": "stdout",
       "text": [
        " 'NoneType' object has no attribute 'find'\n",
        "nt2014082250642 http://newtalk.tw/news/2014/08/22/50642.html\n",
        "nt2014082250639"
       ]
      },
      {
       "output_type": "stream",
       "stream": "stdout",
       "text": [
        " http://newtalk.tw/news/2014/08/22/50639.html\n",
        "nt2014082250630"
       ]
      },
      {
       "output_type": "stream",
       "stream": "stdout",
       "text": [
        " http://newtalk.tw/news/2014/08/22/50630.html\n",
        "nt2014082250628"
       ]
      },
      {
       "output_type": "stream",
       "stream": "stdout",
       "text": [
        " http://newtalk.tw/news/2014/08/22/50628.html\n",
        "\u653f\u6cbb"
       ]
      },
      {
       "output_type": "stream",
       "stream": "stdout",
       "text": [
        "\n",
        "['http://newtalk.tw/news_list.php?oid=2&p=1', 'http://newtalk.tw/news_list.php?oid=2&p=2', 'http://newtalk.tw/news_list.php?oid=2&p=3', 'http://newtalk.tw/news_list.php?oid=2&p=4', 'http://newtalk.tw/news_list.php?oid=2&p=5', 'http://newtalk.tw/news_list.php?oid=2&p=6', 'http://newtalk.tw/news_list.php?oid=2&p=7', 'http://newtalk.tw/news_list.php?oid=2&p=8']\n",
        "20"
       ]
      },
      {
       "output_type": "stream",
       "stream": "stdout",
       "text": [
        "\n",
        "http://newtalk.tw/news/2014/09/18/51565.html  image download failed, "
       ]
      },
      {
       "output_type": "stream",
       "stream": "stdout",
       "text": [
        " 'NoneType' object has no attribute 'find'\n",
        "nt2014091851565 http://newtalk.tw/news/2014/09/18/51565.html\n",
        "nt2014091851564"
       ]
      },
      {
       "output_type": "stream",
       "stream": "stdout",
       "text": [
        " http://newtalk.tw/news/2014/09/18/51564.html\n",
        "nt2014091851561"
       ]
      },
      {
       "output_type": "stream",
       "stream": "stdout",
       "text": [
        " http://newtalk.tw/news/2014/09/18/51561.html\n",
        "nt2014091851545"
       ]
      },
      {
       "output_type": "stream",
       "stream": "stdout",
       "text": [
        " http://newtalk.tw/news/2014/09/18/51545.html\n",
        "nt2014091851542"
       ]
      },
      {
       "output_type": "stream",
       "stream": "stdout",
       "text": [
        " http://newtalk.tw/news/2014/09/18/51542.html\n",
        "nt2014091851535"
       ]
      },
      {
       "output_type": "stream",
       "stream": "stdout",
       "text": [
        " http://newtalk.tw/news/2014/09/18/51535.html\n",
        "nt2014091751528"
       ]
      },
      {
       "output_type": "stream",
       "stream": "stdout",
       "text": [
        " http://newtalk.tw/news/2014/09/17/51528.html\n",
        "nt2014091751522"
       ]
      },
      {
       "output_type": "stream",
       "stream": "stdout",
       "text": [
        " http://newtalk.tw/news/2014/09/17/51522.html\n",
        "nt2014091751520"
       ]
      },
      {
       "output_type": "stream",
       "stream": "stdout",
       "text": [
        " http://newtalk.tw/news/2014/09/17/51520.html\n",
        "nt2014091751516"
       ]
      },
      {
       "output_type": "stream",
       "stream": "stdout",
       "text": [
        " http://newtalk.tw/news/2014/09/17/51516.html\n",
        "nt2014091751515"
       ]
      },
      {
       "output_type": "stream",
       "stream": "stdout",
       "text": [
        " http://newtalk.tw/news/2014/09/17/51515.html\n",
        "nt2014091751514"
       ]
      },
      {
       "output_type": "stream",
       "stream": "stdout",
       "text": [
        " http://newtalk.tw/news/2014/09/17/51514.html\n",
        "nt2014091751513"
       ]
      },
      {
       "output_type": "stream",
       "stream": "stdout",
       "text": [
        " http://newtalk.tw/news/2014/09/17/51513.html\n",
        "nt2014091751499"
       ]
      },
      {
       "output_type": "stream",
       "stream": "stdout",
       "text": [
        " http://newtalk.tw/news/2014/09/17/51499.html\n",
        "nt2014091751504"
       ]
      },
      {
       "output_type": "stream",
       "stream": "stdout",
       "text": [
        " http://newtalk.tw/news/2014/09/17/51504.html\n",
        "nt2014091751503"
       ]
      },
      {
       "output_type": "stream",
       "stream": "stdout",
       "text": [
        " http://newtalk.tw/news/2014/09/17/51503.html\n",
        "nt2014091751497"
       ]
      },
      {
       "output_type": "stream",
       "stream": "stdout",
       "text": [
        " http://newtalk.tw/news/2014/09/17/51497.html\n",
        "nt2014091751501"
       ]
      },
      {
       "output_type": "stream",
       "stream": "stdout",
       "text": [
        " http://newtalk.tw/news/2014/09/17/51501.html\n",
        "nt2014091751496"
       ]
      },
      {
       "output_type": "stream",
       "stream": "stdout",
       "text": [
        " http://newtalk.tw/news/2014/09/17/51496.html\n",
        "nt2014091751494"
       ]
      },
      {
       "output_type": "stream",
       "stream": "stdout",
       "text": [
        " http://newtalk.tw/news/2014/09/17/51494.html\n",
        "20"
       ]
      },
      {
       "output_type": "stream",
       "stream": "stdout",
       "text": [
        "\n",
        "http://newtalk.tw/news/2014/09/17/51486.html  image download failed, "
       ]
      },
      {
       "output_type": "stream",
       "stream": "stdout",
       "text": [
        " 'NoneType' object has no attribute 'find'\n",
        "nt2014091751486 http://newtalk.tw/news/2014/09/17/51486.html\n",
        "nt2014091651485"
       ]
      },
      {
       "output_type": "stream",
       "stream": "stdout",
       "text": [
        " http://newtalk.tw/news/2014/09/16/51485.html\n",
        "nt2014091651484"
       ]
      },
      {
       "output_type": "stream",
       "stream": "stdout",
       "text": [
        " http://newtalk.tw/news/2014/09/16/51484.html\n",
        "nt2014091651474"
       ]
      },
      {
       "output_type": "stream",
       "stream": "stdout",
       "text": [
        " http://newtalk.tw/news/2014/09/16/51474.html\n",
        "nt2014091651472"
       ]
      },
      {
       "output_type": "stream",
       "stream": "stdout",
       "text": [
        " http://newtalk.tw/news/2014/09/16/51472.html\n",
        "nt2014091651471"
       ]
      },
      {
       "output_type": "stream",
       "stream": "stdout",
       "text": [
        " http://newtalk.tw/news/2014/09/16/51471.html\n",
        "nt2014091651470"
       ]
      },
      {
       "output_type": "stream",
       "stream": "stdout",
       "text": [
        " http://newtalk.tw/news/2014/09/16/51470.html\n",
        "nt2014091651467"
       ]
      },
      {
       "output_type": "stream",
       "stream": "stdout",
       "text": [
        " http://newtalk.tw/news/2014/09/16/51467.html\n",
        "nt2014091651466"
       ]
      },
      {
       "output_type": "stream",
       "stream": "stdout",
       "text": [
        " http://newtalk.tw/news/2014/09/16/51466.html\n",
        "nt2014091651462"
       ]
      },
      {
       "output_type": "stream",
       "stream": "stdout",
       "text": [
        " http://newtalk.tw/news/2014/09/16/51462.html\n",
        "nt2014091651456"
       ]
      },
      {
       "output_type": "stream",
       "stream": "stdout",
       "text": [
        " http://newtalk.tw/news/2014/09/16/51456.html\n",
        "nt2014091651450"
       ]
      },
      {
       "output_type": "stream",
       "stream": "stdout",
       "text": [
        " http://newtalk.tw/news/2014/09/16/51450.html\n",
        "nt2014091651448"
       ]
      },
      {
       "output_type": "stream",
       "stream": "stdout",
       "text": [
        " http://newtalk.tw/news/2014/09/16/51448.html\n",
        "nt2014091551437"
       ]
      },
      {
       "output_type": "stream",
       "stream": "stdout",
       "text": [
        " http://newtalk.tw/news/2014/09/15/51437.html\n",
        "nt2014091551428"
       ]
      },
      {
       "output_type": "stream",
       "stream": "stdout",
       "text": [
        " http://newtalk.tw/news/2014/09/15/51428.html\n",
        "nt2014091551433"
       ]
      },
      {
       "output_type": "stream",
       "stream": "stdout",
       "text": [
        " http://newtalk.tw/news/2014/09/15/51433.html\n",
        "nt2014091551427"
       ]
      },
      {
       "output_type": "stream",
       "stream": "stdout",
       "text": [
        " http://newtalk.tw/news/2014/09/15/51427.html\n",
        "nt2014091551425"
       ]
      },
      {
       "output_type": "stream",
       "stream": "stdout",
       "text": [
        " http://newtalk.tw/news/2014/09/15/51425.html\n",
        "nt2014091551418"
       ]
      },
      {
       "output_type": "stream",
       "stream": "stdout",
       "text": [
        " http://newtalk.tw/news/2014/09/15/51418.html\n",
        "nt2014091551417"
       ]
      },
      {
       "output_type": "stream",
       "stream": "stdout",
       "text": [
        " http://newtalk.tw/news/2014/09/15/51417.html\n",
        "20"
       ]
      },
      {
       "output_type": "stream",
       "stream": "stdout",
       "text": [
        "\n",
        "nt2014091551414"
       ]
      },
      {
       "output_type": "stream",
       "stream": "stdout",
       "text": [
        " http://newtalk.tw/news/2014/09/15/51414.html\n",
        "nt2014091451404"
       ]
      },
      {
       "output_type": "stream",
       "stream": "stdout",
       "text": [
        " http://newtalk.tw/news/2014/09/14/51404.html\n",
        "nt2014091451396"
       ]
      },
      {
       "output_type": "stream",
       "stream": "stdout",
       "text": [
        " http://newtalk.tw/news/2014/09/14/51396.html\n",
        "nt2014091451394"
       ]
      },
      {
       "output_type": "stream",
       "stream": "stdout",
       "text": [
        " http://newtalk.tw/news/2014/09/14/51394.html\n",
        "nt2014091451392"
       ]
      },
      {
       "output_type": "stream",
       "stream": "stdout",
       "text": [
        " http://newtalk.tw/news/2014/09/14/51392.html\n",
        "nt2014091451390"
       ]
      },
      {
       "output_type": "stream",
       "stream": "stdout",
       "text": [
        " http://newtalk.tw/news/2014/09/14/51390.html\n",
        "nt2014091351384"
       ]
      },
      {
       "output_type": "stream",
       "stream": "stdout",
       "text": [
        " http://newtalk.tw/news/2014/09/13/51384.html\n",
        "nt2014091351381"
       ]
      },
      {
       "output_type": "stream",
       "stream": "stdout",
       "text": [
        " http://newtalk.tw/news/2014/09/13/51381.html\n",
        "nt2014091251358"
       ]
      },
      {
       "output_type": "stream",
       "stream": "stdout",
       "text": [
        " http://newtalk.tw/news/2014/09/12/51358.html\n",
        "nt2014091251357"
       ]
      },
      {
       "output_type": "stream",
       "stream": "stdout",
       "text": [
        " http://newtalk.tw/news/2014/09/12/51357.html\n",
        "nt2014091251345"
       ]
      },
      {
       "output_type": "stream",
       "stream": "stdout",
       "text": [
        " http://newtalk.tw/news/2014/09/12/51345.html\n",
        "nt2014091251340"
       ]
      },
      {
       "output_type": "stream",
       "stream": "stdout",
       "text": [
        " http://newtalk.tw/news/2014/09/12/51340.html\n",
        "http://newtalk.tw/news/2014/09/12/51333.html  image download failed, "
       ]
      },
      {
       "output_type": "stream",
       "stream": "stdout",
       "text": [
        " 'NoneType' object has no attribute 'find'\n",
        "nt2014091251333 http://newtalk.tw/news/2014/09/12/51333.html\n",
        "nt2014091251327"
       ]
      },
      {
       "output_type": "stream",
       "stream": "stdout",
       "text": [
        " http://newtalk.tw/news/2014/09/12/51327.html\n",
        "http://newtalk.tw/news/2014/09/11/51324.html  image download failed, "
       ]
      },
      {
       "output_type": "stream",
       "stream": "stdout",
       "text": [
        " 'NoneType' object has no attribute 'find'\n",
        "nt2014091151324 http://newtalk.tw/news/2014/09/11/51324.html\n",
        "nt2014091151314"
       ]
      },
      {
       "output_type": "stream",
       "stream": "stdout",
       "text": [
        " http://newtalk.tw/news/2014/09/11/51314.html\n",
        "nt2014091151317"
       ]
      },
      {
       "output_type": "stream",
       "stream": "stdout",
       "text": [
        " http://newtalk.tw/news/2014/09/11/51317.html\n",
        "nt2014091151310"
       ]
      },
      {
       "output_type": "stream",
       "stream": "stdout",
       "text": [
        " http://newtalk.tw/news/2014/09/11/51310.html\n",
        "http://newtalk.tw/news/2014/09/11/51304.html  image download failed, "
       ]
      },
      {
       "output_type": "stream",
       "stream": "stdout",
       "text": [
        " 'NoneType' object has no attribute 'find'\n",
        "nt2014091151304 http://newtalk.tw/news/2014/09/11/51304.html\n",
        "nt2014091151300"
       ]
      },
      {
       "output_type": "stream",
       "stream": "stdout",
       "text": [
        " http://newtalk.tw/news/2014/09/11/51300.html\n",
        "20"
       ]
      },
      {
       "output_type": "stream",
       "stream": "stdout",
       "text": [
        "\n",
        "http://newtalk.tw/news/2014/09/10/51259.html  image download failed, "
       ]
      },
      {
       "output_type": "stream",
       "stream": "stdout",
       "text": [
        " 'NoneType' object has no attribute 'find'\n",
        "nt2014091051259 http://newtalk.tw/news/2014/09/10/51259.html\n",
        "nt2014091051255"
       ]
      },
      {
       "output_type": "stream",
       "stream": "stdout",
       "text": [
        " http://newtalk.tw/news/2014/09/10/51255.html\n",
        "nt2014091051248"
       ]
      },
      {
       "output_type": "stream",
       "stream": "stdout",
       "text": [
        " http://newtalk.tw/news/2014/09/10/51248.html\n",
        "nt2014091051240"
       ]
      },
      {
       "output_type": "stream",
       "stream": "stdout",
       "text": [
        " http://newtalk.tw/news/2014/09/10/51240.html\n",
        "nt2014091051233"
       ]
      },
      {
       "output_type": "stream",
       "stream": "stdout",
       "text": [
        " http://newtalk.tw/news/2014/09/10/51233.html\n",
        "http://newtalk.tw/news/2014/09/09/51209.html  image download failed, "
       ]
      },
      {
       "output_type": "stream",
       "stream": "stdout",
       "text": [
        " 'NoneType' object has no attribute 'find'\n",
        "nt2014090951209 http://newtalk.tw/news/2014/09/09/51209.html\n",
        "nt2014090951218"
       ]
      },
      {
       "output_type": "stream",
       "stream": "stdout",
       "text": [
        " http://newtalk.tw/news/2014/09/09/51218.html\n",
        "nt2014090951208"
       ]
      },
      {
       "output_type": "stream",
       "stream": "stdout",
       "text": [
        " http://newtalk.tw/news/2014/09/09/51208.html\n",
        "nt2014090951195"
       ]
      },
      {
       "output_type": "stream",
       "stream": "stdout",
       "text": [
        " http://newtalk.tw/news/2014/09/09/51195.html\n",
        "nt2014090951194"
       ]
      },
      {
       "output_type": "stream",
       "stream": "stdout",
       "text": [
        " http://newtalk.tw/news/2014/09/09/51194.html\n",
        "nt2014090551141"
       ]
      },
      {
       "output_type": "stream",
       "stream": "stdout",
       "text": [
        " http://newtalk.tw/news/2014/09/05/51141.html\n",
        "nt2014090551130"
       ]
      },
      {
       "output_type": "stream",
       "stream": "stdout",
       "text": [
        " http://newtalk.tw/news/2014/09/05/51130.html\n",
        "nt2014090551131"
       ]
      },
      {
       "output_type": "stream",
       "stream": "stdout",
       "text": [
        " http://newtalk.tw/news/2014/09/05/51131.html\n",
        "nt2014090551127"
       ]
      },
      {
       "output_type": "stream",
       "stream": "stdout",
       "text": [
        " http://newtalk.tw/news/2014/09/05/51127.html\n",
        "nt2014090551113"
       ]
      },
      {
       "output_type": "stream",
       "stream": "stdout",
       "text": [
        " http://newtalk.tw/news/2014/09/05/51113.html\n",
        "nt2014090551110"
       ]
      },
      {
       "output_type": "stream",
       "stream": "stdout",
       "text": [
        " http://newtalk.tw/news/2014/09/05/51110.html\n",
        "http://newtalk.tw/news/2014/09/04/51094.html  image download failed, "
       ]
      },
      {
       "output_type": "stream",
       "stream": "stdout",
       "text": [
        " 'NoneType' object has no attribute 'find'\n",
        "nt2014090451094 http://newtalk.tw/news/2014/09/04/51094.html\n",
        "nt2014090451090"
       ]
      },
      {
       "output_type": "stream",
       "stream": "stdout",
       "text": [
        " http://newtalk.tw/news/2014/09/04/51090.html\n",
        "nt2014090451084"
       ]
      },
      {
       "output_type": "stream",
       "stream": "stdout",
       "text": [
        " http://newtalk.tw/news/2014/09/04/51084.html\n",
        "nt2014090451079"
       ]
      },
      {
       "output_type": "stream",
       "stream": "stdout",
       "text": [
        " http://newtalk.tw/news/2014/09/04/51079.html\n",
        "20"
       ]
      },
      {
       "output_type": "stream",
       "stream": "stdout",
       "text": [
        "\n",
        "nt2014090451061"
       ]
      },
      {
       "output_type": "stream",
       "stream": "stdout",
       "text": [
        " http://newtalk.tw/news/2014/09/04/51061.html\n",
        "nt2014090451057"
       ]
      },
      {
       "output_type": "stream",
       "stream": "stdout",
       "text": [
        " http://newtalk.tw/news/2014/09/04/51057.html\n",
        "nt2014090451053"
       ]
      },
      {
       "output_type": "stream",
       "stream": "stdout",
       "text": [
        " http://newtalk.tw/news/2014/09/04/51053.html\n",
        "nt2014090351032"
       ]
      },
      {
       "output_type": "stream",
       "stream": "stdout",
       "text": [
        " http://newtalk.tw/news/2014/09/03/51032.html\n",
        "nt2014090351033"
       ]
      },
      {
       "output_type": "stream",
       "stream": "stdout",
       "text": [
        " http://newtalk.tw/news/2014/09/03/51033.html\n",
        "nt2014090351011"
       ]
      },
      {
       "output_type": "stream",
       "stream": "stdout",
       "text": [
        " http://newtalk.tw/news/2014/09/03/51011.html\n",
        "nt2014090251004"
       ]
      },
      {
       "output_type": "stream",
       "stream": "stdout",
       "text": [
        " http://newtalk.tw/news/2014/09/02/51004.html\n",
        "nt2014090250994"
       ]
      },
      {
       "output_type": "stream",
       "stream": "stdout",
       "text": [
        " http://newtalk.tw/news/2014/09/02/50994.html\n",
        "nt2014090250989"
       ]
      },
      {
       "output_type": "stream",
       "stream": "stdout",
       "text": [
        " http://newtalk.tw/news/2014/09/02/50989.html\n",
        "nt2014090250986"
       ]
      },
      {
       "output_type": "stream",
       "stream": "stdout",
       "text": [
        " http://newtalk.tw/news/2014/09/02/50986.html\n",
        "nt2014090250976"
       ]
      },
      {
       "output_type": "stream",
       "stream": "stdout",
       "text": [
        " http://newtalk.tw/news/2014/09/02/50976.html\n",
        "nt2014090250970"
       ]
      },
      {
       "output_type": "stream",
       "stream": "stdout",
       "text": [
        " http://newtalk.tw/news/2014/09/02/50970.html\n",
        "nt2014090250971"
       ]
      },
      {
       "output_type": "stream",
       "stream": "stdout",
       "text": [
        " http://newtalk.tw/news/2014/09/02/50971.html\n",
        "nt2014090150958"
       ]
      },
      {
       "output_type": "stream",
       "stream": "stdout",
       "text": [
        " http://newtalk.tw/news/2014/09/01/50958.html\n",
        "http://newtalk.tw/news/2014/09/01/50956.html  image download failed, "
       ]
      },
      {
       "output_type": "stream",
       "stream": "stdout",
       "text": [
        " 'NoneType' object has no attribute 'find'\n",
        "nt2014090150956 http://newtalk.tw/news/2014/09/01/50956.html\n",
        "nt2014090150955"
       ]
      },
      {
       "output_type": "stream",
       "stream": "stdout",
       "text": [
        " http://newtalk.tw/news/2014/09/01/50955.html\n",
        "nt2014090150940"
       ]
      },
      {
       "output_type": "stream",
       "stream": "stdout",
       "text": [
        " http://newtalk.tw/news/2014/09/01/50940.html\n",
        "nt2014090150936"
       ]
      },
      {
       "output_type": "stream",
       "stream": "stdout",
       "text": [
        " http://newtalk.tw/news/2014/09/01/50936.html\n",
        "nt2014090150937"
       ]
      },
      {
       "output_type": "stream",
       "stream": "stdout",
       "text": [
        " http://newtalk.tw/news/2014/09/01/50937.html\n",
        "nt2014090150934"
       ]
      },
      {
       "output_type": "stream",
       "stream": "stdout",
       "text": [
        " http://newtalk.tw/news/2014/09/01/50934.html\n",
        "20"
       ]
      },
      {
       "output_type": "stream",
       "stream": "stdout",
       "text": [
        "\n",
        "nt2014090150933"
       ]
      },
      {
       "output_type": "stream",
       "stream": "stdout",
       "text": [
        " http://newtalk.tw/news/2014/09/01/50933.html\n",
        "nt2014083050906"
       ]
      },
      {
       "output_type": "stream",
       "stream": "stdout",
       "text": [
        " http://newtalk.tw/news/2014/08/30/50906.html\n",
        "nt2014083050900"
       ]
      },
      {
       "output_type": "stream",
       "stream": "stdout",
       "text": [
        " http://newtalk.tw/news/2014/08/30/50900.html\n",
        "nt2014083050892"
       ]
      },
      {
       "output_type": "stream",
       "stream": "stdout",
       "text": [
        " http://newtalk.tw/news/2014/08/30/50892.html\n",
        "nt2014082950889"
       ]
      },
      {
       "output_type": "stream",
       "stream": "stdout",
       "text": [
        " http://newtalk.tw/news/2014/08/29/50889.html\n",
        "nt2014082950879"
       ]
      },
      {
       "output_type": "stream",
       "stream": "stdout",
       "text": [
        " http://newtalk.tw/news/2014/08/29/50879.html\n",
        "nt2014082950878"
       ]
      },
      {
       "output_type": "stream",
       "stream": "stdout",
       "text": [
        " http://newtalk.tw/news/2014/08/29/50878.html\n",
        "nt2014082950874"
       ]
      },
      {
       "output_type": "stream",
       "stream": "stdout",
       "text": [
        " http://newtalk.tw/news/2014/08/29/50874.html\n",
        "nt2014082950866"
       ]
      },
      {
       "output_type": "stream",
       "stream": "stdout",
       "text": [
        " http://newtalk.tw/news/2014/08/29/50866.html\n",
        "nt2014082950865"
       ]
      },
      {
       "output_type": "stream",
       "stream": "stdout",
       "text": [
        " http://newtalk.tw/news/2014/08/29/50865.html\n",
        "nt2014082950860"
       ]
      },
      {
       "output_type": "stream",
       "stream": "stdout",
       "text": [
        " http://newtalk.tw/news/2014/08/29/50860.html\n",
        "nt2014082950855"
       ]
      },
      {
       "output_type": "stream",
       "stream": "stdout",
       "text": [
        " http://newtalk.tw/news/2014/08/29/50855.html\n",
        "nt2014082950856"
       ]
      },
      {
       "output_type": "stream",
       "stream": "stdout",
       "text": [
        " http://newtalk.tw/news/2014/08/29/50856.html\n",
        "nt2014082850850"
       ]
      },
      {
       "output_type": "stream",
       "stream": "stdout",
       "text": [
        " http://newtalk.tw/news/2014/08/28/50850.html\n",
        "nt2014082850849"
       ]
      },
      {
       "output_type": "stream",
       "stream": "stdout",
       "text": [
        " http://newtalk.tw/news/2014/08/28/50849.html\n",
        "nt2014082850843"
       ]
      },
      {
       "output_type": "stream",
       "stream": "stdout",
       "text": [
        " http://newtalk.tw/news/2014/08/28/50843.html\n",
        "nt2014082850842"
       ]
      },
      {
       "output_type": "stream",
       "stream": "stdout",
       "text": [
        " http://newtalk.tw/news/2014/08/28/50842.html\n",
        "nt2014082850841"
       ]
      },
      {
       "output_type": "stream",
       "stream": "stdout",
       "text": [
        " http://newtalk.tw/news/2014/08/28/50841.html\n",
        "nt2014082850831"
       ]
      },
      {
       "output_type": "stream",
       "stream": "stdout",
       "text": [
        " http://newtalk.tw/news/2014/08/28/50831.html\n",
        "nt2014082850830"
       ]
      },
      {
       "output_type": "stream",
       "stream": "stdout",
       "text": [
        " http://newtalk.tw/news/2014/08/28/50830.html\n",
        "20"
       ]
      },
      {
       "output_type": "stream",
       "stream": "stdout",
       "text": [
        "\n",
        "nt2014082850829"
       ]
      },
      {
       "output_type": "stream",
       "stream": "stdout",
       "text": [
        " http://newtalk.tw/news/2014/08/28/50829.html\n",
        "nt2014082850823"
       ]
      },
      {
       "output_type": "stream",
       "stream": "stdout",
       "text": [
        " http://newtalk.tw/news/2014/08/28/50823.html\n",
        "nt2014082850819"
       ]
      },
      {
       "output_type": "stream",
       "stream": "stdout",
       "text": [
        " http://newtalk.tw/news/2014/08/28/50819.html\n",
        "http://newtalk.tw/news/2014/08/27/50811.html  image download failed, "
       ]
      },
      {
       "output_type": "stream",
       "stream": "stdout",
       "text": [
        " 'NoneType' object has no attribute 'find'\n",
        "nt2014082750811 http://newtalk.tw/news/2014/08/27/50811.html\n",
        "nt2014082750805"
       ]
      },
      {
       "output_type": "stream",
       "stream": "stdout",
       "text": [
        " http://newtalk.tw/news/2014/08/27/50805.html\n",
        "nt2014082750800"
       ]
      },
      {
       "output_type": "stream",
       "stream": "stdout",
       "text": [
        " http://newtalk.tw/news/2014/08/27/50800.html\n",
        "nt2014082750801"
       ]
      },
      {
       "output_type": "stream",
       "stream": "stdout",
       "text": [
        " http://newtalk.tw/news/2014/08/27/50801.html\n",
        "nt2014082750794"
       ]
      },
      {
       "output_type": "stream",
       "stream": "stdout",
       "text": [
        " http://newtalk.tw/news/2014/08/27/50794.html\n",
        "nt2014082750790"
       ]
      },
      {
       "output_type": "stream",
       "stream": "stdout",
       "text": [
        " http://newtalk.tw/news/2014/08/27/50790.html\n",
        "nt2014082650773"
       ]
      },
      {
       "output_type": "stream",
       "stream": "stdout",
       "text": [
        " http://newtalk.tw/news/2014/08/26/50773.html\n",
        "nt2014082650770"
       ]
      },
      {
       "output_type": "stream",
       "stream": "stdout",
       "text": [
        " http://newtalk.tw/news/2014/08/26/50770.html\n",
        "nt2014082650751"
       ]
      },
      {
       "output_type": "stream",
       "stream": "stdout",
       "text": [
        " http://newtalk.tw/news/2014/08/26/50751.html\n",
        "nt2014082650744"
       ]
      },
      {
       "output_type": "stream",
       "stream": "stdout",
       "text": [
        " http://newtalk.tw/news/2014/08/26/50744.html\n",
        "nt2014082650743"
       ]
      },
      {
       "output_type": "stream",
       "stream": "stdout",
       "text": [
        " http://newtalk.tw/news/2014/08/26/50743.html\n",
        "nt2014082550732"
       ]
      },
      {
       "output_type": "stream",
       "stream": "stdout",
       "text": [
        " http://newtalk.tw/news/2014/08/25/50732.html\n",
        "http://newtalk.tw/news/2014/08/25/50727.html  image download failed, "
       ]
      },
      {
       "output_type": "stream",
       "stream": "stdout",
       "text": [
        " 'NoneType' object has no attribute 'find'\n",
        "nt2014082550727 http://newtalk.tw/news/2014/08/25/50727.html\n",
        "nt2014082550724"
       ]
      },
      {
       "output_type": "stream",
       "stream": "stdout",
       "text": [
        " http://newtalk.tw/news/2014/08/25/50724.html\n",
        "nt2014082550718"
       ]
      },
      {
       "output_type": "stream",
       "stream": "stdout",
       "text": [
        " http://newtalk.tw/news/2014/08/25/50718.html\n",
        "nt2014082550717"
       ]
      },
      {
       "output_type": "stream",
       "stream": "stdout",
       "text": [
        " http://newtalk.tw/news/2014/08/25/50717.html\n",
        "nt2014082450692"
       ]
      },
      {
       "output_type": "stream",
       "stream": "stdout",
       "text": [
        " http://newtalk.tw/news/2014/08/24/50692.html\n",
        "11"
       ]
      },
      {
       "output_type": "stream",
       "stream": "stdout",
       "text": [
        "\n",
        "nt2014082450690"
       ]
      },
      {
       "output_type": "stream",
       "stream": "stdout",
       "text": [
        " http://newtalk.tw/news/2014/08/24/50690.html\n",
        "nt2014082450688"
       ]
      },
      {
       "output_type": "stream",
       "stream": "stdout",
       "text": [
        " http://newtalk.tw/news/2014/08/24/50688.html\n",
        "nt2014082450686"
       ]
      },
      {
       "output_type": "stream",
       "stream": "stdout",
       "text": [
        " http://newtalk.tw/news/2014/08/24/50686.html\n",
        "nt2014082350685"
       ]
      },
      {
       "output_type": "stream",
       "stream": "stdout",
       "text": [
        " http://newtalk.tw/news/2014/08/23/50685.html\n",
        "nt2014082350683"
       ]
      },
      {
       "output_type": "stream",
       "stream": "stdout",
       "text": [
        " http://newtalk.tw/news/2014/08/23/50683.html\n",
        "nt2014082350680"
       ]
      },
      {
       "output_type": "stream",
       "stream": "stdout",
       "text": [
        " http://newtalk.tw/news/2014/08/23/50680.html\n",
        "nt2014082350679"
       ]
      },
      {
       "output_type": "stream",
       "stream": "stdout",
       "text": [
        " http://newtalk.tw/news/2014/08/23/50679.html\n",
        "nt2014082350671"
       ]
      },
      {
       "output_type": "stream",
       "stream": "stdout",
       "text": [
        " http://newtalk.tw/news/2014/08/23/50671.html\n",
        "nt2014082350668"
       ]
      },
      {
       "output_type": "stream",
       "stream": "stdout",
       "text": [
        " http://newtalk.tw/news/2014/08/23/50668.html\n",
        "nt2014082350667"
       ]
      },
      {
       "output_type": "stream",
       "stream": "stdout",
       "text": [
        " http://newtalk.tw/news/2014/08/23/50667.html\n",
        "nt2014082350666"
       ]
      },
      {
       "output_type": "stream",
       "stream": "stdout",
       "text": [
        " http://newtalk.tw/news/2014/08/23/50666.html\n",
        "\u8ca1\u7d93"
       ]
      },
      {
       "output_type": "stream",
       "stream": "stdout",
       "text": [
        "\n",
        "['http://newtalk.tw/news_list.php?oid=3&p=1', 'http://newtalk.tw/news_list.php?oid=3&p=2']\n",
        "20"
       ]
      },
      {
       "output_type": "stream",
       "stream": "stdout",
       "text": [
        "\n",
        "nt2014091851549"
       ]
      },
      {
       "output_type": "stream",
       "stream": "stdout",
       "text": [
        " http://newtalk.tw/news/2014/09/18/51549.html\n",
        "nt2014091251368"
       ]
      },
      {
       "output_type": "stream",
       "stream": "stdout",
       "text": [
        " http://newtalk.tw/news/2014/09/12/51368.html\n",
        "nt2014091151306"
       ]
      },
      {
       "output_type": "stream",
       "stream": "stdout",
       "text": [
        " http://newtalk.tw/news/2014/09/11/51306.html\n",
        "nt2014091151305"
       ]
      },
      {
       "output_type": "stream",
       "stream": "stdout",
       "text": [
        " http://newtalk.tw/news/2014/09/11/51305.html\n",
        "http://newtalk.tw/news/2014/09/11/51282.html  image download failed, "
       ]
      },
      {
       "output_type": "stream",
       "stream": "stdout",
       "text": [
        " 'NoneType' object has no attribute 'find'\n",
        "nt2014091151282 http://newtalk.tw/news/2014/09/11/51282.html\n",
        "nt2014091051265"
       ]
      },
      {
       "output_type": "stream",
       "stream": "stdout",
       "text": [
        " http://newtalk.tw/news/2014/09/10/51265.html\n",
        "nt2014091051252"
       ]
      },
      {
       "output_type": "stream",
       "stream": "stdout",
       "text": [
        " http://newtalk.tw/news/2014/09/10/51252.html\n",
        "nt2014091051244"
       ]
      },
      {
       "output_type": "stream",
       "stream": "stdout",
       "text": [
        " http://newtalk.tw/news/2014/09/10/51244.html\n",
        "nt2014090951217"
       ]
      },
      {
       "output_type": "stream",
       "stream": "stdout",
       "text": [
        " http://newtalk.tw/news/2014/09/09/51217.html\n",
        "nt2014090951214"
       ]
      },
      {
       "output_type": "stream",
       "stream": "stdout",
       "text": [
        " http://newtalk.tw/news/2014/09/09/51214.html\n",
        "nt2014090951210"
       ]
      },
      {
       "output_type": "stream",
       "stream": "stdout",
       "text": [
        " http://newtalk.tw/news/2014/09/09/51210.html\n",
        "nt2014090451069"
       ]
      },
      {
       "output_type": "stream",
       "stream": "stdout",
       "text": [
        " http://newtalk.tw/news/2014/09/04/51069.html\n",
        "nt2014090451062"
       ]
      },
      {
       "output_type": "stream",
       "stream": "stdout",
       "text": [
        " http://newtalk.tw/news/2014/09/04/51062.html\n",
        "nt2014090351031"
       ]
      },
      {
       "output_type": "stream",
       "stream": "stdout",
       "text": [
        " http://newtalk.tw/news/2014/09/03/51031.html\n",
        "nt2014090351027"
       ]
      },
      {
       "output_type": "stream",
       "stream": "stdout",
       "text": [
        " http://newtalk.tw/news/2014/09/03/51027.html\n",
        "nt2014090351024"
       ]
      },
      {
       "output_type": "stream",
       "stream": "stdout",
       "text": [
        " http://newtalk.tw/news/2014/09/03/51024.html\n",
        "nt2014090351020"
       ]
      },
      {
       "output_type": "stream",
       "stream": "stdout",
       "text": [
        " http://newtalk.tw/news/2014/09/03/51020.html\n",
        "http://newtalk.tw/news/2014/09/03/51007.html  page crawl failed, "
       ]
      },
      {
       "output_type": "stream",
       "stream": "stdout",
       "text": [
        " insertDocument :: caused by :: 11000 E11000 duplicate key error index: NewTalkDB.posts.$_id_  dup key: { : \"nt2014090351007\" }\n",
        "nt2014090150951"
       ]
      },
      {
       "output_type": "stream",
       "stream": "stdout",
       "text": [
        " http://newtalk.tw/news/2014/09/01/50951.html\n",
        "nt2014082850835"
       ]
      },
      {
       "output_type": "stream",
       "stream": "stdout",
       "text": [
        " http://newtalk.tw/news/2014/08/28/50835.html\n",
        "2"
       ]
      },
      {
       "output_type": "stream",
       "stream": "stdout",
       "text": [
        "\n",
        "nt2014082850824"
       ]
      },
      {
       "output_type": "stream",
       "stream": "stdout",
       "text": [
        " http://newtalk.tw/news/2014/08/28/50824.html\n",
        "nt2014082650739"
       ]
      },
      {
       "output_type": "stream",
       "stream": "stdout",
       "text": [
        " http://newtalk.tw/news/2014/08/26/50739.html\n",
        "\u53f8\u6cd5"
       ]
      },
      {
       "output_type": "stream",
       "stream": "stdout",
       "text": [
        "\n",
        "['http://newtalk.tw/news_list.php?oid=4&p=1', 'http://newtalk.tw/news_list.php?oid=4&p=2', 'http://newtalk.tw/news_list.php?oid=4&p=3']\n",
        "20"
       ]
      },
      {
       "output_type": "stream",
       "stream": "stdout",
       "text": [
        "\n",
        "nt2014091751509"
       ]
      },
      {
       "output_type": "stream",
       "stream": "stdout",
       "text": [
        " http://newtalk.tw/news/2014/09/17/51509.html\n",
        "http://newtalk.tw/news/2014/09/16/51479.html  image download failed, "
       ]
      },
      {
       "output_type": "stream",
       "stream": "stdout",
       "text": [
        " 'NoneType' object has no attribute 'find'\n",
        "nt2014091651479 http://newtalk.tw/news/2014/09/16/51479.html\n",
        "nt2014091651445"
       ]
      },
      {
       "output_type": "stream",
       "stream": "stdout",
       "text": [
        " http://newtalk.tw/news/2014/09/16/51445.html\n",
        "nt2014091351376"
       ]
      },
      {
       "output_type": "stream",
       "stream": "stdout",
       "text": [
        " http://newtalk.tw/news/2014/09/13/51376.html\n",
        "http://newtalk.tw/news/2014/09/12/51372.html  image download failed, "
       ]
      },
      {
       "output_type": "stream",
       "stream": "stdout",
       "text": [
        " 'NoneType' object has no attribute 'find'\n",
        "nt2014091251372 http://newtalk.tw/news/2014/09/12/51372.html\n",
        "nt2014091151285"
       ]
      },
      {
       "output_type": "stream",
       "stream": "stdout",
       "text": [
        " http://newtalk.tw/news/2014/09/11/51285.html\n",
        "nt2014091051264"
       ]
      },
      {
       "output_type": "stream",
       "stream": "stdout",
       "text": [
        " http://newtalk.tw/news/2014/09/10/51264.html\n",
        "nt2014090951211"
       ]
      },
      {
       "output_type": "stream",
       "stream": "stdout",
       "text": [
        " http://newtalk.tw/news/2014/09/09/51211.html\n",
        "nt2014090951201"
       ]
      },
      {
       "output_type": "stream",
       "stream": "stdout",
       "text": [
        " http://newtalk.tw/news/2014/09/09/51201.html\n",
        "nt2014090751168"
       ]
      },
      {
       "output_type": "stream",
       "stream": "stdout",
       "text": [
        " http://newtalk.tw/news/2014/09/07/51168.html\n",
        "nt2014090651154"
       ]
      },
      {
       "output_type": "stream",
       "stream": "stdout",
       "text": [
        " http://newtalk.tw/news/2014/09/06/51154.html\n",
        "http://newtalk.tw/news/2014/09/05/51137.html  image download failed, "
       ]
      },
      {
       "output_type": "stream",
       "stream": "stdout",
       "text": [
        " 'NoneType' object has no attribute 'find'\n",
        "nt2014090551137 http://newtalk.tw/news/2014/09/05/51137.html\n",
        "nt2014090551132"
       ]
      },
      {
       "output_type": "stream",
       "stream": "stdout",
       "text": [
        " http://newtalk.tw/news/2014/09/05/51132.html\n",
        "nt2014090551104"
       ]
      },
      {
       "output_type": "stream",
       "stream": "stdout",
       "text": [
        " http://newtalk.tw/news/2014/09/05/51104.html\n",
        "nt2014090551080"
       ]
      },
      {
       "output_type": "stream",
       "stream": "stdout",
       "text": [
        " http://newtalk.tw/news/2014/09/05/51080.html\n",
        "nt2014090451088"
       ]
      },
      {
       "output_type": "stream",
       "stream": "stdout",
       "text": [
        " http://newtalk.tw/news/2014/09/04/51088.html\n",
        "nt2014090451086"
       ]
      },
      {
       "output_type": "stream",
       "stream": "stdout",
       "text": [
        " http://newtalk.tw/news/2014/09/04/51086.html\n",
        "nt2014090451051"
       ]
      },
      {
       "output_type": "stream",
       "stream": "stdout",
       "text": [
        " http://newtalk.tw/news/2014/09/04/51051.html\n",
        "nt2014090351023"
       ]
      },
      {
       "output_type": "stream",
       "stream": "stdout",
       "text": [
        " http://newtalk.tw/news/2014/09/03/51023.html\n",
        "nt2014090351013"
       ]
      },
      {
       "output_type": "stream",
       "stream": "stdout",
       "text": [
        " http://newtalk.tw/news/2014/09/03/51013.html\n",
        "20"
       ]
      },
      {
       "output_type": "stream",
       "stream": "stdout",
       "text": [
        "\n",
        "nt2014090351017"
       ]
      },
      {
       "output_type": "stream",
       "stream": "stdout",
       "text": [
        " http://newtalk.tw/news/2014/09/03/51017.html\n",
        "nt2014090250997"
       ]
      },
      {
       "output_type": "stream",
       "stream": "stdout",
       "text": [
        " http://newtalk.tw/news/2014/09/02/50997.html\n",
        "nt2014082950885"
       ]
      },
      {
       "output_type": "stream",
       "stream": "stdout",
       "text": [
        " http://newtalk.tw/news/2014/08/29/50885.html\n",
        "nt2014082950858"
       ]
      },
      {
       "output_type": "stream",
       "stream": "stdout",
       "text": [
        " http://newtalk.tw/news/2014/08/29/50858.html\n",
        "nt2014082950882"
       ]
      },
      {
       "output_type": "stream",
       "stream": "stdout",
       "text": [
        " http://newtalk.tw/news/2014/08/29/50882.html\n",
        "nt2014082950867"
       ]
      },
      {
       "output_type": "stream",
       "stream": "stdout",
       "text": [
        " http://newtalk.tw/news/2014/08/29/50867.html\n",
        "http://newtalk.tw/news/2014/08/29/50864.html  image download failed, "
       ]
      },
      {
       "output_type": "stream",
       "stream": "stdout",
       "text": [
        " 'NoneType' object has no attribute 'find'\n",
        "nt2014082950864 http://newtalk.tw/news/2014/08/29/50864.html\n",
        "nt2014082950857"
       ]
      },
      {
       "output_type": "stream",
       "stream": "stdout",
       "text": [
        " http://newtalk.tw/news/2014/08/29/50857.html\n",
        "nt2014082950859"
       ]
      },
      {
       "output_type": "stream",
       "stream": "stdout",
       "text": [
        " http://newtalk.tw/news/2014/08/29/50859.html\n",
        "nt2014082850848"
       ]
      },
      {
       "output_type": "stream",
       "stream": "stdout",
       "text": [
        " http://newtalk.tw/news/2014/08/28/50848.html\n",
        "nt2014082850837"
       ]
      },
      {
       "output_type": "stream",
       "stream": "stdout",
       "text": [
        " http://newtalk.tw/news/2014/08/28/50837.html\n",
        "nt2014082850839"
       ]
      },
      {
       "output_type": "stream",
       "stream": "stdout",
       "text": [
        " http://newtalk.tw/news/2014/08/28/50839.html\n",
        "nt2014082850832"
       ]
      },
      {
       "output_type": "stream",
       "stream": "stdout",
       "text": [
        " http://newtalk.tw/news/2014/08/28/50832.html\n",
        "nt2014082850821"
       ]
      },
      {
       "output_type": "stream",
       "stream": "stdout",
       "text": [
        " http://newtalk.tw/news/2014/08/28/50821.html\n",
        "nt2014082750812"
       ]
      },
      {
       "output_type": "stream",
       "stream": "stdout",
       "text": [
        " http://newtalk.tw/news/2014/08/27/50812.html\n",
        "nt2014082750810"
       ]
      },
      {
       "output_type": "stream",
       "stream": "stdout",
       "text": [
        " http://newtalk.tw/news/2014/08/27/50810.html\n",
        "nt2014082750809"
       ]
      },
      {
       "output_type": "stream",
       "stream": "stdout",
       "text": [
        " http://newtalk.tw/news/2014/08/27/50809.html\n",
        "nt2014082750796"
       ]
      },
      {
       "output_type": "stream",
       "stream": "stdout",
       "text": [
        " http://newtalk.tw/news/2014/08/27/50796.html\n",
        "nt2014082750797"
       ]
      },
      {
       "output_type": "stream",
       "stream": "stdout",
       "text": [
        " http://newtalk.tw/news/2014/08/27/50797.html\n",
        "nt2014082650766"
       ]
      },
      {
       "output_type": "stream",
       "stream": "stdout",
       "text": [
        " http://newtalk.tw/news/2014/08/26/50766.html\n",
        "11"
       ]
      },
      {
       "output_type": "stream",
       "stream": "stdout",
       "text": [
        "\n",
        "http://newtalk.tw/news/2014/08/26/50767.html  image download failed, "
       ]
      },
      {
       "output_type": "stream",
       "stream": "stdout",
       "text": [
        " 'NoneType' object has no attribute 'find'\n",
        "nt2014082650767 http://newtalk.tw/news/2014/08/26/50767.html\n",
        "nt2014082650762"
       ]
      },
      {
       "output_type": "stream",
       "stream": "stdout",
       "text": [
        " http://newtalk.tw/news/2014/08/26/50762.html\n",
        "nt2014082550737"
       ]
      },
      {
       "output_type": "stream",
       "stream": "stdout",
       "text": [
        " http://newtalk.tw/news/2014/08/25/50737.html\n",
        "nt2014082550734"
       ]
      },
      {
       "output_type": "stream",
       "stream": "stdout",
       "text": [
        " http://newtalk.tw/news/2014/08/25/50734.html\n",
        "nt2014082550731"
       ]
      },
      {
       "output_type": "stream",
       "stream": "stdout",
       "text": [
        " http://newtalk.tw/news/2014/08/25/50731.html\n",
        "nt2014082550726"
       ]
      },
      {
       "output_type": "stream",
       "stream": "stdout",
       "text": [
        " http://newtalk.tw/news/2014/08/25/50726.html\n",
        "nt2014082550723"
       ]
      },
      {
       "output_type": "stream",
       "stream": "stdout",
       "text": [
        " http://newtalk.tw/news/2014/08/25/50723.html\n",
        "nt2014082550719"
       ]
      },
      {
       "output_type": "stream",
       "stream": "stdout",
       "text": [
        " http://newtalk.tw/news/2014/08/25/50719.html\n",
        "nt2014082550710"
       ]
      },
      {
       "output_type": "stream",
       "stream": "stdout",
       "text": [
        " http://newtalk.tw/news/2014/08/25/50710.html\n",
        "nt2014082550709"
       ]
      },
      {
       "output_type": "stream",
       "stream": "stdout",
       "text": [
        " http://newtalk.tw/news/2014/08/25/50709.html\n",
        "nt2014082450693"
       ]
      },
      {
       "output_type": "stream",
       "stream": "stdout",
       "text": [
        " http://newtalk.tw/news/2014/08/24/50693.html\n",
        "\u751f\u6d3b"
       ]
      },
      {
       "output_type": "stream",
       "stream": "stdout",
       "text": [
        "\n",
        "['http://newtalk.tw/news_list.php?oid=5&p=1', 'http://newtalk.tw/news_list.php?oid=5&p=2', 'http://newtalk.tw/news_list.php?oid=5&p=3', 'http://newtalk.tw/news_list.php?oid=5&p=4', 'http://newtalk.tw/news_list.php?oid=5&p=5', 'http://newtalk.tw/news_list.php?oid=5&p=6', 'http://newtalk.tw/news_list.php?oid=5&p=7', 'http://newtalk.tw/news_list.php?oid=5&p=8', 'http://newtalk.tw/news_list.php?oid=5&p=9', 'http://newtalk.tw/news_list.php?oid=5&p=10', 'http://newtalk.tw/news_list.php?oid=5&p=11']\n",
        "20"
       ]
      },
      {
       "output_type": "stream",
       "stream": "stdout",
       "text": [
        "\n",
        "http://newtalk.tw/news/2014/09/18/51556.html  image download failed, "
       ]
      },
      {
       "output_type": "stream",
       "stream": "stdout",
       "text": [
        " 'NoneType' object has no attribute 'find'\n",
        "nt2014091851556 http://newtalk.tw/news/2014/09/18/51556.html\n",
        "nt2014091851557"
       ]
      },
      {
       "output_type": "stream",
       "stream": "stdout",
       "text": [
        " http://newtalk.tw/news/2014/09/18/51557.html\n",
        "nt2014091851566"
       ]
      },
      {
       "output_type": "stream",
       "stream": "stdout",
       "text": [
        " http://newtalk.tw/news/2014/09/18/51566.html\n",
        "nt2014091851555"
       ]
      },
      {
       "output_type": "stream",
       "stream": "stdout",
       "text": [
        " http://newtalk.tw/news/2014/09/18/51555.html\n",
        "nt2014091851551"
       ]
      },
      {
       "output_type": "stream",
       "stream": "stdout",
       "text": [
        " http://newtalk.tw/news/2014/09/18/51551.html\n",
        "nt2014091851541"
       ]
      },
      {
       "output_type": "stream",
       "stream": "stdout",
       "text": [
        " http://newtalk.tw/news/2014/09/18/51541.html\n",
        "nt2014091851546"
       ]
      },
      {
       "output_type": "stream",
       "stream": "stdout",
       "text": [
        " http://newtalk.tw/news/2014/09/18/51546.html\n",
        "nt2014091851540"
       ]
      },
      {
       "output_type": "stream",
       "stream": "stdout",
       "text": [
        " http://newtalk.tw/news/2014/09/18/51540.html\n",
        "nt2014091851530"
       ]
      },
      {
       "output_type": "stream",
       "stream": "stdout",
       "text": [
        " http://newtalk.tw/news/2014/09/18/51530.html\n",
        "nt2014091751525"
       ]
      },
      {
       "output_type": "stream",
       "stream": "stdout",
       "text": [
        " http://newtalk.tw/news/2014/09/17/51525.html\n",
        "nt2014091751519"
       ]
      },
      {
       "output_type": "stream",
       "stream": "stdout",
       "text": [
        " http://newtalk.tw/news/2014/09/17/51519.html\n",
        "nt2014091751517"
       ]
      },
      {
       "output_type": "stream",
       "stream": "stdout",
       "text": [
        " http://newtalk.tw/news/2014/09/17/51517.html\n",
        "nt2014091751512"
       ]
      },
      {
       "output_type": "stream",
       "stream": "stdout",
       "text": [
        " http://newtalk.tw/news/2014/09/17/51512.html\n",
        "http://newtalk.tw/news/2014/09/17/51511.html  image download failed, "
       ]
      },
      {
       "output_type": "stream",
       "stream": "stdout",
       "text": [
        " 'NoneType' object has no attribute 'find'\n",
        "nt2014091751511 http://newtalk.tw/news/2014/09/17/51511.html\n",
        "nt2014091751508"
       ]
      },
      {
       "output_type": "stream",
       "stream": "stdout",
       "text": [
        " http://newtalk.tw/news/2014/09/17/51508.html\n",
        "nt2014091751505"
       ]
      },
      {
       "output_type": "stream",
       "stream": "stdout",
       "text": [
        " http://newtalk.tw/news/2014/09/17/51505.html\n",
        "http://newtalk.tw/news/2014/09/16/51483.html  image download failed, "
       ]
      },
      {
       "output_type": "stream",
       "stream": "stdout",
       "text": [
        " 'NoneType' object has no attribute 'find'\n",
        "nt2014091651483 http://newtalk.tw/news/2014/09/16/51483.html\n",
        "nt2014091651478"
       ]
      },
      {
       "output_type": "stream",
       "stream": "stdout",
       "text": [
        " http://newtalk.tw/news/2014/09/16/51478.html\n",
        "nt2014091651469"
       ]
      },
      {
       "output_type": "stream",
       "stream": "stdout",
       "text": [
        " http://newtalk.tw/news/2014/09/16/51469.html\n",
        "nt2014091651473"
       ]
      },
      {
       "output_type": "stream",
       "stream": "stdout",
       "text": [
        " http://newtalk.tw/news/2014/09/16/51473.html\n",
        "20"
       ]
      },
      {
       "output_type": "stream",
       "stream": "stdout",
       "text": [
        "\n",
        "nt2014091651460"
       ]
      },
      {
       "output_type": "stream",
       "stream": "stdout",
       "text": [
        " http://newtalk.tw/news/2014/09/16/51460.html\n",
        "nt2014091651453"
       ]
      },
      {
       "output_type": "stream",
       "stream": "stdout",
       "text": [
        " http://newtalk.tw/news/2014/09/16/51453.html\n",
        "nt2014091651461"
       ]
      },
      {
       "output_type": "stream",
       "stream": "stdout",
       "text": [
        " http://newtalk.tw/news/2014/09/16/51461.html\n",
        "nt2014091651457"
       ]
      },
      {
       "output_type": "stream",
       "stream": "stdout",
       "text": [
        " http://newtalk.tw/news/2014/09/16/51457.html\n",
        "nt2014091551435"
       ]
      },
      {
       "output_type": "stream",
       "stream": "stdout",
       "text": [
        " http://newtalk.tw/news/2014/09/15/51435.html\n",
        "nt2014091551436"
       ]
      },
      {
       "output_type": "stream",
       "stream": "stdout",
       "text": [
        " http://newtalk.tw/news/2014/09/15/51436.html\n",
        "nt2014091551434"
       ]
      },
      {
       "output_type": "stream",
       "stream": "stdout",
       "text": [
        " http://newtalk.tw/news/2014/09/15/51434.html\n",
        "nt2014091551432"
       ]
      },
      {
       "output_type": "stream",
       "stream": "stdout",
       "text": [
        " http://newtalk.tw/news/2014/09/15/51432.html\n",
        "nt2014091551431"
       ]
      },
      {
       "output_type": "stream",
       "stream": "stdout",
       "text": [
        " http://newtalk.tw/news/2014/09/15/51431.html\n",
        "http://newtalk.tw/news/2014/09/15/51422.html  image download failed, "
       ]
      },
      {
       "output_type": "stream",
       "stream": "stdout",
       "text": [
        " 'NoneType' object has no attribute 'find'\n",
        "nt2014091551422 http://newtalk.tw/news/2014/09/15/51422.html\n",
        "nt2014091551421"
       ]
      },
      {
       "output_type": "stream",
       "stream": "stdout",
       "text": [
        " http://newtalk.tw/news/2014/09/15/51421.html\n",
        "nt2014091551416"
       ]
      },
      {
       "output_type": "stream",
       "stream": "stdout",
       "text": [
        " http://newtalk.tw/news/2014/09/15/51416.html\n",
        "nt2014091551408"
       ]
      },
      {
       "output_type": "stream",
       "stream": "stdout",
       "text": [
        " http://newtalk.tw/news/2014/09/15/51408.html\n",
        "nt2014091451406"
       ]
      },
      {
       "output_type": "stream",
       "stream": "stdout",
       "text": [
        " http://newtalk.tw/news/2014/09/14/51406.html\n",
        "nt2014091451400"
       ]
      },
      {
       "output_type": "stream",
       "stream": "stdout",
       "text": [
        " http://newtalk.tw/news/2014/09/14/51400.html\n",
        "nt2014091451399"
       ]
      },
      {
       "output_type": "stream",
       "stream": "stdout",
       "text": [
        " http://newtalk.tw/news/2014/09/14/51399.html\n",
        "nt2014091451397"
       ]
      },
      {
       "output_type": "stream",
       "stream": "stdout",
       "text": [
        " http://newtalk.tw/news/2014/09/14/51397.html\n",
        "nt2014091351386"
       ]
      },
      {
       "output_type": "stream",
       "stream": "stdout",
       "text": [
        " http://newtalk.tw/news/2014/09/13/51386.html\n",
        "nt2014091351383"
       ]
      },
      {
       "output_type": "stream",
       "stream": "stdout",
       "text": [
        " http://newtalk.tw/news/2014/09/13/51383.html\n",
        "nt2014091351382"
       ]
      },
      {
       "output_type": "stream",
       "stream": "stdout",
       "text": [
        " http://newtalk.tw/news/2014/09/13/51382.html\n",
        "20"
       ]
      },
      {
       "output_type": "stream",
       "stream": "stdout",
       "text": [
        "\n",
        "nt2014091351377"
       ]
      },
      {
       "output_type": "stream",
       "stream": "stdout",
       "text": [
        " http://newtalk.tw/news/2014/09/13/51377.html\n",
        "nt2014091351374"
       ]
      },
      {
       "output_type": "stream",
       "stream": "stdout",
       "text": [
        " http://newtalk.tw/news/2014/09/13/51374.html\n",
        "http://newtalk.tw/news/2014/09/12/51369.html  image download failed, "
       ]
      },
      {
       "output_type": "stream",
       "stream": "stdout",
       "text": [
        " 'NoneType' object has no attribute 'find'\n",
        "nt2014091251369 http://newtalk.tw/news/2014/09/12/51369.html\n",
        "nt2014091251367"
       ]
      },
      {
       "output_type": "stream",
       "stream": "stdout",
       "text": [
        " http://newtalk.tw/news/2014/09/12/51367.html\n",
        "nt2014091251365"
       ]
      },
      {
       "output_type": "stream",
       "stream": "stdout",
       "text": [
        " http://newtalk.tw/news/2014/09/12/51365.html\n",
        "nt2014091251364"
       ]
      },
      {
       "output_type": "stream",
       "stream": "stdout",
       "text": [
        " http://newtalk.tw/news/2014/09/12/51364.html\n",
        "nt2014091251363"
       ]
      },
      {
       "output_type": "stream",
       "stream": "stdout",
       "text": [
        " http://newtalk.tw/news/2014/09/12/51363.html\n",
        "nt2014091251361"
       ]
      },
      {
       "output_type": "stream",
       "stream": "stdout",
       "text": [
        " http://newtalk.tw/news/2014/09/12/51361.html\n",
        "nt2014091251362"
       ]
      },
      {
       "output_type": "stream",
       "stream": "stdout",
       "text": [
        " http://newtalk.tw/news/2014/09/12/51362.html\n",
        "nt2014091251360"
       ]
      },
      {
       "output_type": "stream",
       "stream": "stdout",
       "text": [
        " http://newtalk.tw/news/2014/09/12/51360.html\n",
        "nt2014091251356"
       ]
      },
      {
       "output_type": "stream",
       "stream": "stdout",
       "text": [
        " http://newtalk.tw/news/2014/09/12/51356.html\n",
        "nt2014091251348"
       ]
      },
      {
       "output_type": "stream",
       "stream": "stdout",
       "text": [
        " http://newtalk.tw/news/2014/09/12/51348.html\n",
        "nt2014091251354"
       ]
      },
      {
       "output_type": "stream",
       "stream": "stdout",
       "text": [
        " http://newtalk.tw/news/2014/09/12/51354.html\n",
        "nt2014091251350"
       ]
      },
      {
       "output_type": "stream",
       "stream": "stdout",
       "text": [
        " http://newtalk.tw/news/2014/09/12/51350.html\n",
        "nt2014091251346"
       ]
      },
      {
       "output_type": "stream",
       "stream": "stdout",
       "text": [
        " http://newtalk.tw/news/2014/09/12/51346.html\n",
        "nt2014091251349"
       ]
      },
      {
       "output_type": "stream",
       "stream": "stdout",
       "text": [
        " http://newtalk.tw/news/2014/09/12/51349.html\n",
        "nt2014091251341"
       ]
      },
      {
       "output_type": "stream",
       "stream": "stdout",
       "text": [
        " http://newtalk.tw/news/2014/09/12/51341.html\n",
        "http://newtalk.tw/news/2014/09/12/51342.html  image download failed, "
       ]
      },
      {
       "output_type": "stream",
       "stream": "stdout",
       "text": [
        " 'NoneType' object has no attribute 'find'\n",
        "nt2014091251342 http://newtalk.tw/news/2014/09/12/51342.html\n",
        "nt2014091251343"
       ]
      },
      {
       "output_type": "stream",
       "stream": "stdout",
       "text": [
        " http://newtalk.tw/news/2014/09/12/51343.html\n",
        "nt2014091251335"
       ]
      },
      {
       "output_type": "stream",
       "stream": "stdout",
       "text": [
        " http://newtalk.tw/news/2014/09/12/51335.html\n",
        "20"
       ]
      },
      {
       "output_type": "stream",
       "stream": "stdout",
       "text": [
        "\n",
        "http://newtalk.tw/news/2014/09/11/51321.html  image download failed, "
       ]
      },
      {
       "output_type": "stream",
       "stream": "stdout",
       "text": [
        " 'NoneType' object has no attribute 'find'\n",
        "nt2014091151321 http://newtalk.tw/news/2014/09/11/51321.html\n",
        "nt2014091151320"
       ]
      },
      {
       "output_type": "stream",
       "stream": "stdout",
       "text": [
        " http://newtalk.tw/news/2014/09/11/51320.html\n",
        "nt2014091151312"
       ]
      },
      {
       "output_type": "stream",
       "stream": "stdout",
       "text": [
        " http://newtalk.tw/news/2014/09/11/51312.html\n",
        "nt2014091151309"
       ]
      },
      {
       "output_type": "stream",
       "stream": "stdout",
       "text": [
        " http://newtalk.tw/news/2014/09/11/51309.html\n",
        "nt2014091151299"
       ]
      },
      {
       "output_type": "stream",
       "stream": "stdout",
       "text": [
        " http://newtalk.tw/news/2014/09/11/51299.html\n",
        "nt2014091151301"
       ]
      },
      {
       "output_type": "stream",
       "stream": "stdout",
       "text": [
        " http://newtalk.tw/news/2014/09/11/51301.html\n",
        "nt2014091151297"
       ]
      },
      {
       "output_type": "stream",
       "stream": "stdout",
       "text": [
        " http://newtalk.tw/news/2014/09/11/51297.html\n",
        "nt2014091151298"
       ]
      },
      {
       "output_type": "stream",
       "stream": "stdout",
       "text": [
        " http://newtalk.tw/news/2014/09/11/51298.html\n",
        "nt2014091151295"
       ]
      },
      {
       "output_type": "stream",
       "stream": "stdout",
       "text": [
        " http://newtalk.tw/news/2014/09/11/51295.html\n",
        "nt2014091151291"
       ]
      },
      {
       "output_type": "stream",
       "stream": "stdout",
       "text": [
        " http://newtalk.tw/news/2014/09/11/51291.html\n",
        "nt2014091151288"
       ]
      },
      {
       "output_type": "stream",
       "stream": "stdout",
       "text": [
        " http://newtalk.tw/news/2014/09/11/51288.html\n",
        "nt2014091151286"
       ]
      },
      {
       "output_type": "stream",
       "stream": "stdout",
       "text": [
        " http://newtalk.tw/news/2014/09/11/51286.html\n",
        "nt2014091151283"
       ]
      },
      {
       "output_type": "stream",
       "stream": "stdout",
       "text": [
        " http://newtalk.tw/news/2014/09/11/51283.html\n",
        "http://newtalk.tw/news/2014/09/11/51278.html  image download failed, "
       ]
      },
      {
       "output_type": "stream",
       "stream": "stdout",
       "text": [
        " 'NoneType' object has no attribute 'find'\n",
        "nt2014091151278 http://newtalk.tw/news/2014/09/11/51278.html\n",
        "http://newtalk.tw/news/2014/09/10/51271.html  image download failed, "
       ]
      },
      {
       "output_type": "stream",
       "stream": "stdout",
       "text": [
        " 'NoneType' object has no attribute 'find'\n",
        "nt2014091051271 http://newtalk.tw/news/2014/09/10/51271.html\n",
        "nt2014091051258"
       ]
      },
      {
       "output_type": "stream",
       "stream": "stdout",
       "text": [
        " http://newtalk.tw/news/2014/09/10/51258.html\n",
        "nt2014091051268"
       ]
      },
      {
       "output_type": "stream",
       "stream": "stdout",
       "text": [
        " http://newtalk.tw/news/2014/09/10/51268.html\n",
        "nt2014091051266"
       ]
      },
      {
       "output_type": "stream",
       "stream": "stdout",
       "text": [
        " http://newtalk.tw/news/2014/09/10/51266.html\n",
        "nt2014091051269"
       ]
      },
      {
       "output_type": "stream",
       "stream": "stdout",
       "text": [
        " http://newtalk.tw/news/2014/09/10/51269.html\n",
        "nt2014091051267"
       ]
      },
      {
       "output_type": "stream",
       "stream": "stdout",
       "text": [
        " http://newtalk.tw/news/2014/09/10/51267.html\n",
        "20"
       ]
      },
      {
       "output_type": "stream",
       "stream": "stdout",
       "text": [
        "\n",
        "nt2014091051263"
       ]
      },
      {
       "output_type": "stream",
       "stream": "stdout",
       "text": [
        " http://newtalk.tw/news/2014/09/10/51263.html\n",
        "nt2014091051247"
       ]
      },
      {
       "output_type": "stream",
       "stream": "stdout",
       "text": [
        " http://newtalk.tw/news/2014/09/10/51247.html\n",
        "nt2014091051250"
       ]
      },
      {
       "output_type": "stream",
       "stream": "stdout",
       "text": [
        " http://newtalk.tw/news/2014/09/10/51250.html\n",
        "nt2014091051256"
       ]
      },
      {
       "output_type": "stream",
       "stream": "stdout",
       "text": [
        " http://newtalk.tw/news/2014/09/10/51256.html\n",
        "nt2014091051237"
       ]
      },
      {
       "output_type": "stream",
       "stream": "stdout",
       "text": [
        " http://newtalk.tw/news/2014/09/10/51237.html\n",
        "nt2014091051249"
       ]
      },
      {
       "output_type": "stream",
       "stream": "stdout",
       "text": [
        " http://newtalk.tw/news/2014/09/10/51249.html\n",
        "nt2014091051257"
       ]
      },
      {
       "output_type": "stream",
       "stream": "stdout",
       "text": [
        " http://newtalk.tw/news/2014/09/10/51257.html\n",
        "nt2014091051246"
       ]
      },
      {
       "output_type": "stream",
       "stream": "stdout",
       "text": [
        " http://newtalk.tw/news/2014/09/10/51246.html\n",
        "nt2014091051245"
       ]
      },
      {
       "output_type": "stream",
       "stream": "stdout",
       "text": [
        " http://newtalk.tw/news/2014/09/10/51245.html\n",
        "nt2014091051243"
       ]
      },
      {
       "output_type": "stream",
       "stream": "stdout",
       "text": [
        " http://newtalk.tw/news/2014/09/10/51243.html\n",
        "nt2014091051242"
       ]
      },
      {
       "output_type": "stream",
       "stream": "stdout",
       "text": [
        " http://newtalk.tw/news/2014/09/10/51242.html\n",
        "nt2014091051234"
       ]
      },
      {
       "output_type": "stream",
       "stream": "stdout",
       "text": [
        " http://newtalk.tw/news/2014/09/10/51234.html\n",
        "nt2014091051235"
       ]
      },
      {
       "output_type": "stream",
       "stream": "stdout",
       "text": [
        " http://newtalk.tw/news/2014/09/10/51235.html\n",
        "nt2014090951226"
       ]
      },
      {
       "output_type": "stream",
       "stream": "stdout",
       "text": [
        " http://newtalk.tw/news/2014/09/09/51226.html\n",
        "http://newtalk.tw/news/2014/09/09/51224.html  image download failed, "
       ]
      },
      {
       "output_type": "stream",
       "stream": "stdout",
       "text": [
        " 'NoneType' object has no attribute 'find'\n",
        "nt2014090951224 http://newtalk.tw/news/2014/09/09/51224.html\n",
        "nt2014090951222"
       ]
      },
      {
       "output_type": "stream",
       "stream": "stdout",
       "text": [
        " http://newtalk.tw/news/2014/09/09/51222.html\n",
        "nt2014090951219"
       ]
      },
      {
       "output_type": "stream",
       "stream": "stdout",
       "text": [
        " http://newtalk.tw/news/2014/09/09/51219.html\n",
        "nt2014090951213"
       ]
      },
      {
       "output_type": "stream",
       "stream": "stdout",
       "text": [
        " http://newtalk.tw/news/2014/09/09/51213.html\n",
        "nt2014090951205"
       ]
      },
      {
       "output_type": "stream",
       "stream": "stdout",
       "text": [
        " http://newtalk.tw/news/2014/09/09/51205.html\n",
        "nt2014090951204"
       ]
      },
      {
       "output_type": "stream",
       "stream": "stdout",
       "text": [
        " http://newtalk.tw/news/2014/09/09/51204.html\n",
        "20"
       ]
      },
      {
       "output_type": "stream",
       "stream": "stdout",
       "text": [
        "\n",
        "nt2014090951199"
       ]
      },
      {
       "output_type": "stream",
       "stream": "stdout",
       "text": [
        " http://newtalk.tw/news/2014/09/09/51199.html\n",
        "nt2014090951197"
       ]
      },
      {
       "output_type": "stream",
       "stream": "stdout",
       "text": [
        " http://newtalk.tw/news/2014/09/09/51197.html\n",
        "nt2014090951196"
       ]
      },
      {
       "output_type": "stream",
       "stream": "stdout",
       "text": [
        " http://newtalk.tw/news/2014/09/09/51196.html\n",
        "nt2014090951193"
       ]
      },
      {
       "output_type": "stream",
       "stream": "stdout",
       "text": [
        " http://newtalk.tw/news/2014/09/09/51193.html\n",
        "nt2014090951187"
       ]
      },
      {
       "output_type": "stream",
       "stream": "stdout",
       "text": [
        " http://newtalk.tw/news/2014/09/09/51187.html\n",
        "nt2014090851184"
       ]
      },
      {
       "output_type": "stream",
       "stream": "stdout",
       "text": [
        " http://newtalk.tw/news/2014/09/08/51184.html\n",
        "nt2014090851179"
       ]
      },
      {
       "output_type": "stream",
       "stream": "stdout",
       "text": [
        " http://newtalk.tw/news/2014/09/08/51179.html\n",
        "nt2014090851175"
       ]
      },
      {
       "output_type": "stream",
       "stream": "stdout",
       "text": [
        " http://newtalk.tw/news/2014/09/08/51175.html\n",
        "nt2014090851173"
       ]
      },
      {
       "output_type": "stream",
       "stream": "stdout",
       "text": [
        " http://newtalk.tw/news/2014/09/08/51173.html\n",
        "nt2014090851170"
       ]
      },
      {
       "output_type": "stream",
       "stream": "stdout",
       "text": [
        " http://newtalk.tw/news/2014/09/08/51170.html\n",
        "http://newtalk.tw/news/2014/09/07/51167.html  image download failed, "
       ]
      },
      {
       "output_type": "stream",
       "stream": "stdout",
       "text": [
        " 'NoneType' object has no attribute 'find'\n",
        "nt2014090751167 http://newtalk.tw/news/2014/09/07/51167.html\n",
        "nt2014090751165"
       ]
      },
      {
       "output_type": "stream",
       "stream": "stdout",
       "text": [
        " http://newtalk.tw/news/2014/09/07/51165.html\n",
        "nt2014090751162"
       ]
      },
      {
       "output_type": "stream",
       "stream": "stdout",
       "text": [
        " http://newtalk.tw/news/2014/09/07/51162.html\n",
        "nt2014090751159"
       ]
      },
      {
       "output_type": "stream",
       "stream": "stdout",
       "text": [
        " http://newtalk.tw/news/2014/09/07/51159.html\n",
        "nt2014090651158"
       ]
      },
      {
       "output_type": "stream",
       "stream": "stdout",
       "text": [
        " http://newtalk.tw/news/2014/09/06/51158.html\n",
        "http://newtalk.tw/news/2014/09/06/51156.html  image download failed, "
       ]
      },
      {
       "output_type": "stream",
       "stream": "stdout",
       "text": [
        " 'NoneType' object has no attribute 'find'\n",
        "nt2014090651156 http://newtalk.tw/news/2014/09/06/51156.html\n",
        "nt2014090651155"
       ]
      },
      {
       "output_type": "stream",
       "stream": "stdout",
       "text": [
        " http://newtalk.tw/news/2014/09/06/51155.html\n",
        "nt2014090651153"
       ]
      },
      {
       "output_type": "stream",
       "stream": "stdout",
       "text": [
        " http://newtalk.tw/news/2014/09/06/51153.html\n",
        "nt2014090651151"
       ]
      },
      {
       "output_type": "stream",
       "stream": "stdout",
       "text": [
        " http://newtalk.tw/news/2014/09/06/51151.html\n",
        "nt2014090651146"
       ]
      },
      {
       "output_type": "stream",
       "stream": "stdout",
       "text": [
        " http://newtalk.tw/news/2014/09/06/51146.html\n",
        "20"
       ]
      },
      {
       "output_type": "stream",
       "stream": "stdout",
       "text": [
        "\n",
        "nt2014090551143"
       ]
      },
      {
       "output_type": "stream",
       "stream": "stdout",
       "text": [
        " http://newtalk.tw/news/2014/09/05/51143.html\n",
        "nt2014090551140"
       ]
      },
      {
       "output_type": "stream",
       "stream": "stdout",
       "text": [
        " http://newtalk.tw/news/2014/09/05/51140.html\n",
        "nt2014090551119"
       ]
      },
      {
       "output_type": "stream",
       "stream": "stdout",
       "text": [
        " http://newtalk.tw/news/2014/09/05/51119.html\n",
        "nt2014090551128"
       ]
      },
      {
       "output_type": "stream",
       "stream": "stdout",
       "text": [
        " http://newtalk.tw/news/2014/09/05/51128.html\n",
        "nt2014090551123"
       ]
      },
      {
       "output_type": "stream",
       "stream": "stdout",
       "text": [
        " http://newtalk.tw/news/2014/09/05/51123.html\n",
        "nt2014090551126"
       ]
      },
      {
       "output_type": "stream",
       "stream": "stdout",
       "text": [
        " http://newtalk.tw/news/2014/09/05/51126.html\n",
        "nt2014090551122"
       ]
      },
      {
       "output_type": "stream",
       "stream": "stdout",
       "text": [
        " http://newtalk.tw/news/2014/09/05/51122.html\n",
        "nt2014090551120"
       ]
      },
      {
       "output_type": "stream",
       "stream": "stdout",
       "text": [
        " http://newtalk.tw/news/2014/09/05/51120.html\n",
        "nt2014090551118"
       ]
      },
      {
       "output_type": "stream",
       "stream": "stdout",
       "text": [
        " http://newtalk.tw/news/2014/09/05/51118.html\n",
        "nt2014090551114"
       ]
      },
      {
       "output_type": "stream",
       "stream": "stdout",
       "text": [
        " http://newtalk.tw/news/2014/09/05/51114.html\n",
        "nt2014090551107"
       ]
      },
      {
       "output_type": "stream",
       "stream": "stdout",
       "text": [
        " http://newtalk.tw/news/2014/09/05/51107.html\n",
        "nt2014090551103"
       ]
      },
      {
       "output_type": "stream",
       "stream": "stdout",
       "text": [
        " http://newtalk.tw/news/2014/09/05/51103.html\n",
        "nt2014090551099"
       ]
      },
      {
       "output_type": "stream",
       "stream": "stdout",
       "text": [
        " http://newtalk.tw/news/2014/09/05/51099.html\n",
        "nt2014090551096"
       ]
      },
      {
       "output_type": "stream",
       "stream": "stdout",
       "text": [
        " http://newtalk.tw/news/2014/09/05/51096.html\n",
        "nt2014090451092"
       ]
      },
      {
       "output_type": "stream",
       "stream": "stdout",
       "text": [
        " http://newtalk.tw/news/2014/09/04/51092.html\n",
        "nt2014090451091"
       ]
      },
      {
       "output_type": "stream",
       "stream": "stdout",
       "text": [
        " http://newtalk.tw/news/2014/09/04/51091.html\n",
        "nt2014090451089"
       ]
      },
      {
       "output_type": "stream",
       "stream": "stdout",
       "text": [
        " http://newtalk.tw/news/2014/09/04/51089.html\n",
        "nt2014090451077"
       ]
      },
      {
       "output_type": "stream",
       "stream": "stdout",
       "text": [
        " http://newtalk.tw/news/2014/09/04/51077.html\n",
        "nt2014090451073"
       ]
      },
      {
       "output_type": "stream",
       "stream": "stdout",
       "text": [
        " http://newtalk.tw/news/2014/09/04/51073.html\n",
        "nt2014090451067"
       ]
      },
      {
       "output_type": "stream",
       "stream": "stdout",
       "text": [
        " http://newtalk.tw/news/2014/09/04/51067.html\n",
        "20"
       ]
      },
      {
       "output_type": "stream",
       "stream": "stdout",
       "text": [
        "\n",
        "nt2014090451068"
       ]
      },
      {
       "output_type": "stream",
       "stream": "stdout",
       "text": [
        " http://newtalk.tw/news/2014/09/04/51068.html\n",
        "nt2014090451054"
       ]
      },
      {
       "output_type": "stream",
       "stream": "stdout",
       "text": [
        " http://newtalk.tw/news/2014/09/04/51054.html\n",
        "nt2014090351040"
       ]
      },
      {
       "output_type": "stream",
       "stream": "stdout",
       "text": [
        " http://newtalk.tw/news/2014/09/03/51040.html\n",
        "nt2014090351036"
       ]
      },
      {
       "output_type": "stream",
       "stream": "stdout",
       "text": [
        " http://newtalk.tw/news/2014/09/03/51036.html\n",
        "http://newtalk.tw/news/2014/09/03/51035.html  image download failed, "
       ]
      },
      {
       "output_type": "stream",
       "stream": "stdout",
       "text": [
        " 'NoneType' object has no attribute 'find'\n",
        "nt2014090351035 http://newtalk.tw/news/2014/09/03/51035.html\n",
        "nt2014090351026"
       ]
      },
      {
       "output_type": "stream",
       "stream": "stdout",
       "text": [
        " http://newtalk.tw/news/2014/09/03/51026.html\n",
        "nt2014090351019"
       ]
      },
      {
       "output_type": "stream",
       "stream": "stdout",
       "text": [
        " http://newtalk.tw/news/2014/09/03/51019.html\n",
        "nt2014090351012"
       ]
      },
      {
       "output_type": "stream",
       "stream": "stdout",
       "text": [
        " http://newtalk.tw/news/2014/09/03/51012.html\n",
        "http://newtalk.tw/news/2014/09/03/51013.html  page crawl failed, "
       ]
      },
      {
       "output_type": "stream",
       "stream": "stdout",
       "text": [
        " insertDocument :: caused by :: 11000 E11000 duplicate key error index: NewTalkDB.posts.$_id_  dup key: { : \"nt2014090351013\" }\n",
        "nt2014090351009"
       ]
      },
      {
       "output_type": "stream",
       "stream": "stdout",
       "text": [
        " http://newtalk.tw/news/2014/09/03/51009.html\n",
        "http://newtalk.tw/news/2014/09/02/51000.html  image download failed, "
       ]
      },
      {
       "output_type": "stream",
       "stream": "stdout",
       "text": [
        " 'NoneType' object has no attribute 'find'\n",
        "nt2014090251000 http://newtalk.tw/news/2014/09/02/51000.html\n",
        "nt2014090250992"
       ]
      },
      {
       "output_type": "stream",
       "stream": "stdout",
       "text": [
        " http://newtalk.tw/news/2014/09/02/50992.html\n",
        "http://newtalk.tw/news/2014/09/02/50995.html  image download failed, "
       ]
      },
      {
       "output_type": "stream",
       "stream": "stdout",
       "text": [
        " 'NoneType' object has no attribute 'find'\n",
        "nt2014090250995 http://newtalk.tw/news/2014/09/02/50995.html\n",
        "http://newtalk.tw/news/2014/09/02/50990.html  image download failed, "
       ]
      },
      {
       "output_type": "stream",
       "stream": "stdout",
       "text": [
        " 'NoneType' object has no attribute 'find'\n",
        "nt2014090250990 http://newtalk.tw/news/2014/09/02/50990.html\n",
        "nt2014090250988"
       ]
      },
      {
       "output_type": "stream",
       "stream": "stdout",
       "text": [
        " http://newtalk.tw/news/2014/09/02/50988.html\n",
        "nt2014090250983"
       ]
      },
      {
       "output_type": "stream",
       "stream": "stdout",
       "text": [
        " http://newtalk.tw/news/2014/09/02/50983.html\n",
        "nt2014090250980"
       ]
      },
      {
       "output_type": "stream",
       "stream": "stdout",
       "text": [
        " http://newtalk.tw/news/2014/09/02/50980.html\n",
        "nt2014090250975"
       ]
      },
      {
       "output_type": "stream",
       "stream": "stdout",
       "text": [
        " http://newtalk.tw/news/2014/09/02/50975.html\n",
        "nt2014090250973"
       ]
      },
      {
       "output_type": "stream",
       "stream": "stdout",
       "text": [
        " http://newtalk.tw/news/2014/09/02/50973.html\n",
        "nt2014090150957"
       ]
      },
      {
       "output_type": "stream",
       "stream": "stdout",
       "text": [
        " http://newtalk.tw/news/2014/09/01/50957.html\n",
        "20"
       ]
      },
      {
       "output_type": "stream",
       "stream": "stdout",
       "text": [
        "\n",
        "nt2014090150954"
       ]
      },
      {
       "output_type": "stream",
       "stream": "stdout",
       "text": [
        " http://newtalk.tw/news/2014/09/01/50954.html\n",
        "nt2014090150948"
       ]
      },
      {
       "output_type": "stream",
       "stream": "stdout",
       "text": [
        " http://newtalk.tw/news/2014/09/01/50948.html\n",
        "nt2014090150947"
       ]
      },
      {
       "output_type": "stream",
       "stream": "stdout",
       "text": [
        " http://newtalk.tw/news/2014/09/01/50947.html\n",
        "nt2014090150926"
       ]
      },
      {
       "output_type": "stream",
       "stream": "stdout",
       "text": [
        " http://newtalk.tw/news/2014/09/01/50926.html\n",
        "nt2014083150919"
       ]
      },
      {
       "output_type": "stream",
       "stream": "stdout",
       "text": [
        " http://newtalk.tw/news/2014/08/31/50919.html\n",
        "nt2014083150918"
       ]
      },
      {
       "output_type": "stream",
       "stream": "stdout",
       "text": [
        " http://newtalk.tw/news/2014/08/31/50918.html\n",
        "nt2014083150911"
       ]
      },
      {
       "output_type": "stream",
       "stream": "stdout",
       "text": [
        " http://newtalk.tw/news/2014/08/31/50911.html\n",
        "http://newtalk.tw/news/2014/08/30/50903.html  image download failed, "
       ]
      },
      {
       "output_type": "stream",
       "stream": "stdout",
       "text": [
        " 'NoneType' object has no attribute 'find'\n",
        "nt2014083050903 http://newtalk.tw/news/2014/08/30/50903.html\n",
        "nt2014083050902"
       ]
      },
      {
       "output_type": "stream",
       "stream": "stdout",
       "text": [
        " http://newtalk.tw/news/2014/08/30/50902.html\n",
        "nt2014082950883"
       ]
      },
      {
       "output_type": "stream",
       "stream": "stdout",
       "text": [
        " http://newtalk.tw/news/2014/08/29/50883.html\n",
        "nt2014082950884"
       ]
      },
      {
       "output_type": "stream",
       "stream": "stdout",
       "text": [
        " http://newtalk.tw/news/2014/08/29/50884.html\n",
        "nt2014082950880"
       ]
      },
      {
       "output_type": "stream",
       "stream": "stdout",
       "text": [
        " http://newtalk.tw/news/2014/08/29/50880.html\n",
        "http://newtalk.tw/news/2014/08/29/50875.html  image download failed, "
       ]
      },
      {
       "output_type": "stream",
       "stream": "stdout",
       "text": [
        " 'NoneType' object has no attribute 'find'\n",
        "nt2014082950875 http://newtalk.tw/news/2014/08/29/50875.html\n",
        "nt2014082950870"
       ]
      },
      {
       "output_type": "stream",
       "stream": "stdout",
       "text": [
        " http://newtalk.tw/news/2014/08/29/50870.html\n",
        "nt2014082950869"
       ]
      },
      {
       "output_type": "stream",
       "stream": "stdout",
       "text": [
        " http://newtalk.tw/news/2014/08/29/50869.html\n",
        "nt2014082850847"
       ]
      },
      {
       "output_type": "stream",
       "stream": "stdout",
       "text": [
        " http://newtalk.tw/news/2014/08/28/50847.html\n",
        "nt2014082850846"
       ]
      },
      {
       "output_type": "stream",
       "stream": "stdout",
       "text": [
        " http://newtalk.tw/news/2014/08/28/50846.html\n",
        "nt2014082850845"
       ]
      },
      {
       "output_type": "stream",
       "stream": "stdout",
       "text": [
        " http://newtalk.tw/news/2014/08/28/50845.html\n",
        "nt2014082850840"
       ]
      },
      {
       "output_type": "stream",
       "stream": "stdout",
       "text": [
        " http://newtalk.tw/news/2014/08/28/50840.html\n",
        "nt2014082850808"
       ]
      },
      {
       "output_type": "stream",
       "stream": "stdout",
       "text": [
        " http://newtalk.tw/news/2014/08/28/50808.html\n",
        "20"
       ]
      },
      {
       "output_type": "stream",
       "stream": "stdout",
       "text": [
        "\n",
        "nt2014082750798"
       ]
      },
      {
       "output_type": "stream",
       "stream": "stdout",
       "text": [
        " http://newtalk.tw/news/2014/08/27/50798.html\n",
        "nt2014082750802"
       ]
      },
      {
       "output_type": "stream",
       "stream": "stdout",
       "text": [
        " http://newtalk.tw/news/2014/08/27/50802.html\n",
        "nt2014082750787"
       ]
      },
      {
       "output_type": "stream",
       "stream": "stdout",
       "text": [
        " http://newtalk.tw/news/2014/08/27/50787.html\n",
        "nt2014082750789"
       ]
      },
      {
       "output_type": "stream",
       "stream": "stdout",
       "text": [
        " http://newtalk.tw/news/2014/08/27/50789.html\n",
        "nt2014082650779"
       ]
      },
      {
       "output_type": "stream",
       "stream": "stdout",
       "text": [
        " http://newtalk.tw/news/2014/08/26/50779.html\n",
        "nt2014082650772"
       ]
      },
      {
       "output_type": "stream",
       "stream": "stdout",
       "text": [
        " http://newtalk.tw/news/2014/08/26/50772.html\n",
        "nt2014082650771"
       ]
      },
      {
       "output_type": "stream",
       "stream": "stdout",
       "text": [
        " http://newtalk.tw/news/2014/08/26/50771.html\n",
        "nt2014082650765"
       ]
      },
      {
       "output_type": "stream",
       "stream": "stdout",
       "text": [
        " http://newtalk.tw/news/2014/08/26/50765.html\n",
        "nt2014082650761"
       ]
      },
      {
       "output_type": "stream",
       "stream": "stdout",
       "text": [
        " http://newtalk.tw/news/2014/08/26/50761.html\n",
        "nt2014082650750"
       ]
      },
      {
       "output_type": "stream",
       "stream": "stdout",
       "text": [
        " http://newtalk.tw/news/2014/08/26/50750.html\n",
        "nt2014082650746"
       ]
      },
      {
       "output_type": "stream",
       "stream": "stdout",
       "text": [
        " http://newtalk.tw/news/2014/08/26/50746.html\n",
        "nt2014082550735"
       ]
      },
      {
       "output_type": "stream",
       "stream": "stdout",
       "text": [
        " http://newtalk.tw/news/2014/08/25/50735.html\n",
        "nt2014082550728"
       ]
      },
      {
       "output_type": "stream",
       "stream": "stdout",
       "text": [
        " http://newtalk.tw/news/2014/08/25/50728.html\n",
        "nt2014082550721"
       ]
      },
      {
       "output_type": "stream",
       "stream": "stdout",
       "text": [
        " http://newtalk.tw/news/2014/08/25/50721.html\n",
        "nt2014082550725"
       ]
      },
      {
       "output_type": "stream",
       "stream": "stdout",
       "text": [
        " http://newtalk.tw/news/2014/08/25/50725.html\n",
        "nt2014082550716"
       ]
      },
      {
       "output_type": "stream",
       "stream": "stdout",
       "text": [
        " http://newtalk.tw/news/2014/08/25/50716.html\n",
        "nt2014082550708"
       ]
      },
      {
       "output_type": "stream",
       "stream": "stdout",
       "text": [
        " http://newtalk.tw/news/2014/08/25/50708.html\n",
        "nt2014082550704"
       ]
      },
      {
       "output_type": "stream",
       "stream": "stdout",
       "text": [
        " http://newtalk.tw/news/2014/08/25/50704.html\n",
        "nt2014082450700"
       ]
      },
      {
       "output_type": "stream",
       "stream": "stdout",
       "text": [
        " http://newtalk.tw/news/2014/08/24/50700.html\n",
        "nt2014082450695"
       ]
      },
      {
       "output_type": "stream",
       "stream": "stdout",
       "text": [
        " http://newtalk.tw/news/2014/08/24/50695.html\n",
        "1"
       ]
      },
      {
       "output_type": "stream",
       "stream": "stdout",
       "text": [
        "\n",
        "nt2014082350670"
       ]
      },
      {
       "output_type": "stream",
       "stream": "stdout",
       "text": [
        " http://newtalk.tw/news/2014/08/23/50670.html\n",
        "\u5a92\u9ad4"
       ]
      },
      {
       "output_type": "stream",
       "stream": "stdout",
       "text": [
        "\n",
        "['http://newtalk.tw/news_list.php?oid=6&p=1']\n",
        "17"
       ]
      },
      {
       "output_type": "stream",
       "stream": "stdout",
       "text": [
        "\n",
        "nt2014091851567"
       ]
      },
      {
       "output_type": "stream",
       "stream": "stdout",
       "text": [
        " http://newtalk.tw/news/2014/09/18/51567.html\n",
        "nt2014091151294"
       ]
      },
      {
       "output_type": "stream",
       "stream": "stdout",
       "text": [
        " http://newtalk.tw/news/2014/09/11/51294.html\n",
        "nt2014091151287"
       ]
      },
      {
       "output_type": "stream",
       "stream": "stdout",
       "text": [
        " http://newtalk.tw/news/2014/09/11/51287.html\n",
        "nt2014091051262"
       ]
      },
      {
       "output_type": "stream",
       "stream": "stdout",
       "text": [
        " http://newtalk.tw/news/2014/09/10/51262.html\n",
        "nt2014090451065"
       ]
      },
      {
       "output_type": "stream",
       "stream": "stdout",
       "text": [
        " http://newtalk.tw/news/2014/09/04/51065.html\n",
        "nt2014090451064"
       ]
      },
      {
       "output_type": "stream",
       "stream": "stdout",
       "text": [
        " http://newtalk.tw/news/2014/09/04/51064.html\n",
        "nt2014090351034"
       ]
      },
      {
       "output_type": "stream",
       "stream": "stdout",
       "text": [
        " http://newtalk.tw/news/2014/09/03/51034.html\n",
        "nt2014090250965"
       ]
      },
      {
       "output_type": "stream",
       "stream": "stdout",
       "text": [
        " http://newtalk.tw/news/2014/09/02/50965.html\n",
        "nt2014090250960"
       ]
      },
      {
       "output_type": "stream",
       "stream": "stdout",
       "text": [
        " http://newtalk.tw/news/2014/09/02/50960.html\n",
        "nt2014090150944"
       ]
      },
      {
       "output_type": "stream",
       "stream": "stdout",
       "text": [
        " http://newtalk.tw/news/2014/09/01/50944.html\n",
        "nt2014090150935"
       ]
      },
      {
       "output_type": "stream",
       "stream": "stdout",
       "text": [
        " http://newtalk.tw/news/2014/09/01/50935.html\n",
        "nt2014082750799"
       ]
      },
      {
       "output_type": "stream",
       "stream": "stdout",
       "text": [
        " http://newtalk.tw/news/2014/08/27/50799.html\n",
        "nt2014082750795"
       ]
      },
      {
       "output_type": "stream",
       "stream": "stdout",
       "text": [
        " http://newtalk.tw/news/2014/08/27/50795.html\n",
        "nt2014082750793"
       ]
      },
      {
       "output_type": "stream",
       "stream": "stdout",
       "text": [
        " http://newtalk.tw/news/2014/08/27/50793.html\n",
        "nt2014082750784"
       ]
      },
      {
       "output_type": "stream",
       "stream": "stdout",
       "text": [
        " http://newtalk.tw/news/2014/08/27/50784.html\n",
        "http://newtalk.tw/news/2014/08/26/50766.html  page crawl failed, "
       ]
      },
      {
       "output_type": "stream",
       "stream": "stdout",
       "text": [
        " insertDocument :: caused by :: 11000 E11000 duplicate key error index: NewTalkDB.posts.$_id_  dup key: { : \"nt2014082650766\" }\n",
        "nt2014082550715"
       ]
      },
      {
       "output_type": "stream",
       "stream": "stdout",
       "text": [
        " http://newtalk.tw/news/2014/08/25/50715.html\n",
        "\u4e2d\u570b"
       ]
      },
      {
       "output_type": "stream",
       "stream": "stdout",
       "text": [
        "\n",
        "['http://newtalk.tw/news_list.php?oid=7&p=1', 'http://newtalk.tw/news_list.php?oid=7&p=2']\n",
        "20"
       ]
      },
      {
       "output_type": "stream",
       "stream": "stdout",
       "text": [
        "\n",
        "nt2014091851568"
       ]
      },
      {
       "output_type": "stream",
       "stream": "stdout",
       "text": [
        " http://newtalk.tw/news/2014/09/18/51568.html\n",
        "nt2014091751521"
       ]
      },
      {
       "output_type": "stream",
       "stream": "stdout",
       "text": [
        " http://newtalk.tw/news/2014/09/17/51521.html\n",
        "nt2014091551426"
       ]
      },
      {
       "output_type": "stream",
       "stream": "stdout",
       "text": [
        " http://newtalk.tw/news/2014/09/15/51426.html\n",
        "http://newtalk.tw/news/2014/09/14/51403.html  image download failed, "
       ]
      },
      {
       "output_type": "stream",
       "stream": "stdout",
       "text": [
        " 'NoneType' object has no attribute 'find'\n",
        "nt2014091451403 http://newtalk.tw/news/2014/09/14/51403.html\n",
        "nt2014091351375"
       ]
      },
      {
       "output_type": "stream",
       "stream": "stdout",
       "text": [
        " http://newtalk.tw/news/2014/09/13/51375.html\n",
        "nt2014090951223"
       ]
      },
      {
       "output_type": "stream",
       "stream": "stdout",
       "text": [
        " http://newtalk.tw/news/2014/09/09/51223.html\n",
        "http://newtalk.tw/news/2014/09/09/51188.html  page crawl failed, "
       ]
      },
      {
       "output_type": "stream",
       "stream": "stdout",
       "text": [
        " insertDocument :: caused by :: 11000 E11000 duplicate key error index: NewTalkDB.posts.$_id_  dup key: { : \"nt2014090951188\" }\n",
        "nt2014090851174"
       ]
      },
      {
       "output_type": "stream",
       "stream": "stdout",
       "text": [
        " http://newtalk.tw/news/2014/09/08/51174.html\n",
        "http://newtalk.tw/news/2014/09/08/51170.html  page crawl failed, "
       ]
      },
      {
       "output_type": "stream",
       "stream": "stdout",
       "text": [
        " insertDocument :: caused by :: 11000 E11000 duplicate key error index: NewTalkDB.posts.$_id_  dup key: { : \"nt2014090851170\" }\n",
        "nt2014090551121"
       ]
      },
      {
       "output_type": "stream",
       "stream": "stdout",
       "text": [
        " http://newtalk.tw/news/2014/09/05/51121.html\n",
        "nt2014090551115"
       ]
      },
      {
       "output_type": "stream",
       "stream": "stdout",
       "text": [
        " http://newtalk.tw/news/2014/09/05/51115.html\n",
        "http://newtalk.tw/news/2014/09/04/51083.html  image download failed, "
       ]
      },
      {
       "output_type": "stream",
       "stream": "stdout",
       "text": [
        " 'NoneType' object has no attribute 'find'\n",
        "nt2014090451083 http://newtalk.tw/news/2014/09/04/51083.html\n",
        "http://newtalk.tw/news/2014/09/04/51074.html  image download failed, "
       ]
      },
      {
       "output_type": "stream",
       "stream": "stdout",
       "text": [
        " 'NoneType' object has no attribute 'find'\n",
        "nt2014090451074 http://newtalk.tw/news/2014/09/04/51074.html\n",
        "nt2014090451071"
       ]
      },
      {
       "output_type": "stream",
       "stream": "stdout",
       "text": [
        " http://newtalk.tw/news/2014/09/04/51071.html\n",
        "nt2014090451066"
       ]
      },
      {
       "output_type": "stream",
       "stream": "stdout",
       "text": [
        " http://newtalk.tw/news/2014/09/04/51066.html\n",
        "nt2014090351039"
       ]
      },
      {
       "output_type": "stream",
       "stream": "stdout",
       "text": [
        " http://newtalk.tw/news/2014/09/03/51039.html\n",
        "http://newtalk.tw/news/2014/09/03/51028.html  image download failed, "
       ]
      },
      {
       "output_type": "stream",
       "stream": "stdout",
       "text": [
        " 'NoneType' object has no attribute 'find'\n",
        "nt2014090351028 http://newtalk.tw/news/2014/09/03/51028.html\n",
        "nt2014090351015"
       ]
      },
      {
       "output_type": "stream",
       "stream": "stdout",
       "text": [
        " http://newtalk.tw/news/2014/09/03/51015.html\n",
        "nt2014090351003"
       ]
      },
      {
       "output_type": "stream",
       "stream": "stdout",
       "text": [
        " http://newtalk.tw/news/2014/09/03/51003.html\n",
        "nt2014090250982"
       ]
      },
      {
       "output_type": "stream",
       "stream": "stdout",
       "text": [
        " http://newtalk.tw/news/2014/09/02/50982.html\n",
        "20"
       ]
      },
      {
       "output_type": "stream",
       "stream": "stdout",
       "text": [
        "\n",
        "nt2014090250981"
       ]
      },
      {
       "output_type": "stream",
       "stream": "stdout",
       "text": [
        " http://newtalk.tw/news/2014/09/02/50981.html\n",
        "nt2014090150952"
       ]
      },
      {
       "output_type": "stream",
       "stream": "stdout",
       "text": [
        " http://newtalk.tw/news/2014/09/01/50952.html\n",
        "nt2014090150950"
       ]
      },
      {
       "output_type": "stream",
       "stream": "stdout",
       "text": [
        " http://newtalk.tw/news/2014/09/01/50950.html\n",
        "nt2014090150953"
       ]
      },
      {
       "output_type": "stream",
       "stream": "stdout",
       "text": [
        " http://newtalk.tw/news/2014/09/01/50953.html\n",
        "nt2014090150943"
       ]
      },
      {
       "output_type": "stream",
       "stream": "stdout",
       "text": [
        " http://newtalk.tw/news/2014/09/01/50943.html\n",
        "nt2014090150939"
       ]
      },
      {
       "output_type": "stream",
       "stream": "stdout",
       "text": [
        " http://newtalk.tw/news/2014/09/01/50939.html\n",
        "nt2014083150924"
       ]
      },
      {
       "output_type": "stream",
       "stream": "stdout",
       "text": [
        " http://newtalk.tw/news/2014/08/31/50924.html\n",
        "nt2014083150920"
       ]
      },
      {
       "output_type": "stream",
       "stream": "stdout",
       "text": [
        " http://newtalk.tw/news/2014/08/31/50920.html\n",
        "nt2014083150912"
       ]
      },
      {
       "output_type": "stream",
       "stream": "stdout",
       "text": [
        " http://newtalk.tw/news/2014/08/31/50912.html\n",
        "nt2014083050910"
       ]
      },
      {
       "output_type": "stream",
       "stream": "stdout",
       "text": [
        " http://newtalk.tw/news/2014/08/30/50910.html\n",
        "http://newtalk.tw/news/2014/08/30/50909.html  image download failed, "
       ]
      },
      {
       "output_type": "stream",
       "stream": "stdout",
       "text": [
        " 'NoneType' object has no attribute 'find'\n",
        "nt2014083050909 http://newtalk.tw/news/2014/08/30/50909.html\n",
        "nt2014082950888"
       ]
      },
      {
       "output_type": "stream",
       "stream": "stdout",
       "text": [
        " http://newtalk.tw/news/2014/08/29/50888.html\n",
        "nt2014082950871"
       ]
      },
      {
       "output_type": "stream",
       "stream": "stdout",
       "text": [
        " http://newtalk.tw/news/2014/08/29/50871.html\n",
        "nt2014082850844"
       ]
      },
      {
       "output_type": "stream",
       "stream": "stdout",
       "text": [
        " http://newtalk.tw/news/2014/08/28/50844.html\n",
        "nt2014082850818"
       ]
      },
      {
       "output_type": "stream",
       "stream": "stdout",
       "text": [
        " http://newtalk.tw/news/2014/08/28/50818.html\n",
        "http://newtalk.tw/news/2014/08/27/50807.html  image download failed, "
       ]
      },
      {
       "output_type": "stream",
       "stream": "stdout",
       "text": [
        " 'NoneType' object has no attribute 'find'\n",
        "nt2014082750807 http://newtalk.tw/news/2014/08/27/50807.html\n",
        "nt2014082750806"
       ]
      },
      {
       "output_type": "stream",
       "stream": "stdout",
       "text": [
        " http://newtalk.tw/news/2014/08/27/50806.html\n",
        "http://newtalk.tw/news/2014/08/26/50763.html  image download failed, "
       ]
      },
      {
       "output_type": "stream",
       "stream": "stdout",
       "text": [
        " 'NoneType' object has no attribute 'find'\n",
        "nt2014082650763 http://newtalk.tw/news/2014/08/26/50763.html\n",
        "nt2014082550730"
       ]
      },
      {
       "output_type": "stream",
       "stream": "stdout",
       "text": [
        " http://newtalk.tw/news/2014/08/25/50730.html\n",
        "http://newtalk.tw/news/2014/08/23/50684.html  page crawl failed, "
       ]
      },
      {
       "output_type": "stream",
       "stream": "stdout",
       "text": [
        " insertDocument :: caused by :: 11000 E11000 duplicate key error index: NewTalkDB.posts.$_id_  dup key: { : \"nt2014082350684\" }\n",
        "\u79d1\u6280"
       ]
      },
      {
       "output_type": "stream",
       "stream": "stdout",
       "text": [
        "\n",
        "['http://newtalk.tw/news_list.php?oid=8&p=1']\n",
        "19"
       ]
      },
      {
       "output_type": "stream",
       "stream": "stdout",
       "text": [
        "\n",
        "nt2014091851553"
       ]
      },
      {
       "output_type": "stream",
       "stream": "stdout",
       "text": [
        " http://newtalk.tw/news/2014/09/18/51553.html\n",
        "http://newtalk.tw/news/2014/09/17/51518.html  image download failed, "
       ]
      },
      {
       "output_type": "stream",
       "stream": "stdout",
       "text": [
        " 'NoneType' object has no attribute 'find'\n",
        "nt2014091751518 http://newtalk.tw/news/2014/09/17/51518.html\n",
        "http://newtalk.tw/news/2014/09/16/51443.html  image download failed, "
       ]
      },
      {
       "output_type": "stream",
       "stream": "stdout",
       "text": [
        " 'NoneType' object has no attribute 'find'\n",
        "nt2014091651443 http://newtalk.tw/news/2014/09/16/51443.html\n",
        "nt2014091251329"
       ]
      },
      {
       "output_type": "stream",
       "stream": "stdout",
       "text": [
        " http://newtalk.tw/news/2014/09/12/51329.html\n",
        "nt2014091151316"
       ]
      },
      {
       "output_type": "stream",
       "stream": "stdout",
       "text": [
        " http://newtalk.tw/news/2014/09/11/51316.html\n",
        "http://newtalk.tw/news/2014/09/10/51228.html  image download failed, "
       ]
      },
      {
       "output_type": "stream",
       "stream": "stdout",
       "text": [
        " 'NoneType' object has no attribute 'find'\n",
        "nt2014091051228 http://newtalk.tw/news/2014/09/10/51228.html\n",
        "http://newtalk.tw/news/2014/09/10/51227.html  image download failed, "
       ]
      },
      {
       "output_type": "stream",
       "stream": "stdout",
       "text": [
        " 'NoneType' object has no attribute 'find'\n",
        "nt2014091051227 http://newtalk.tw/news/2014/09/10/51227.html\n",
        "http://newtalk.tw/news/2014/09/09/51206.html  image download failed, "
       ]
      },
      {
       "output_type": "stream",
       "stream": "stdout",
       "text": [
        " 'NoneType' object has no attribute 'find'\n",
        "nt2014090951206 http://newtalk.tw/news/2014/09/09/51206.html\n",
        "nt2014090551116"
       ]
      },
      {
       "output_type": "stream",
       "stream": "stdout",
       "text": [
        " http://newtalk.tw/news/2014/09/05/51116.html\n",
        "http://newtalk.tw/news/2014/09/04/51076.html  image download failed, "
       ]
      },
      {
       "output_type": "stream",
       "stream": "stdout",
       "text": [
        " 'NoneType' object has no attribute 'find'\n",
        "nt2014090451076 http://newtalk.tw/news/2014/09/04/51076.html\n",
        "nt2014090351005"
       ]
      },
      {
       "output_type": "stream",
       "stream": "stdout",
       "text": [
        " http://newtalk.tw/news/2014/09/03/51005.html\n",
        "http://newtalk.tw/news/2014/09/02/50984.html  image download failed, "
       ]
      },
      {
       "output_type": "stream",
       "stream": "stdout",
       "text": [
        " 'NoneType' object has no attribute 'find'\n",
        "nt2014090250984 http://newtalk.tw/news/2014/09/02/50984.html\n",
        "nt2014090250966"
       ]
      },
      {
       "output_type": "stream",
       "stream": "stdout",
       "text": [
        " http://newtalk.tw/news/2014/09/02/50966.html\n",
        "nt2014090150946"
       ]
      },
      {
       "output_type": "stream",
       "stream": "stdout",
       "text": [
        " http://newtalk.tw/news/2014/09/01/50946.html\n",
        "nt2014090150928"
       ]
      },
      {
       "output_type": "stream",
       "stream": "stdout",
       "text": [
        " http://newtalk.tw/news/2014/09/01/50928.html\n",
        "http://newtalk.tw/news/2014/08/29/50877.html  image download failed, "
       ]
      },
      {
       "output_type": "stream",
       "stream": "stdout",
       "text": [
        " 'NoneType' object has no attribute 'find'\n",
        "nt2014082950877 http://newtalk.tw/news/2014/08/29/50877.html\n",
        "nt2014082950868"
       ]
      },
      {
       "output_type": "stream",
       "stream": "stdout",
       "text": [
        " http://newtalk.tw/news/2014/08/29/50868.html\n",
        "nt2014082950852"
       ]
      },
      {
       "output_type": "stream",
       "stream": "stdout",
       "text": [
        " http://newtalk.tw/news/2014/08/29/50852.html\n",
        "nt2014082850817"
       ]
      },
      {
       "output_type": "stream",
       "stream": "stdout",
       "text": [
        " http://newtalk.tw/news/2014/08/28/50817.html\n",
        "\u74b0\u4fdd"
       ]
      },
      {
       "output_type": "stream",
       "stream": "stdout",
       "text": [
        "\n",
        "['http://newtalk.tw/news_list.php?oid=9&p=1']\n",
        "14"
       ]
      },
      {
       "output_type": "stream",
       "stream": "stdout",
       "text": [
        "\n",
        "nt2014091851468"
       ]
      },
      {
       "output_type": "stream",
       "stream": "stdout",
       "text": [
        " http://newtalk.tw/news/2014/09/18/51468.html\n",
        "nt2014091651451"
       ]
      },
      {
       "output_type": "stream",
       "stream": "stdout",
       "text": [
        " http://newtalk.tw/news/2014/09/16/51451.html\n",
        "http://newtalk.tw/news/2014/09/11/51281.html  page crawl failed, "
       ]
      },
      {
       "output_type": "stream",
       "stream": "stdout",
       "text": [
        " insertDocument :: caused by :: 11000 E11000 duplicate key error index: NewTalkDB.posts.$_id_  dup key: { : \"nt2014091151281\" }\n",
        "nt2014091151279"
       ]
      },
      {
       "output_type": "stream",
       "stream": "stdout",
       "text": [
        " http://newtalk.tw/news/2014/09/11/51279.html\n",
        "nt2014091051230"
       ]
      },
      {
       "output_type": "stream",
       "stream": "stdout",
       "text": [
        " http://newtalk.tw/news/2014/09/10/51230.html\n",
        "nt2014090951216"
       ]
      },
      {
       "output_type": "stream",
       "stream": "stdout",
       "text": [
        " http://newtalk.tw/news/2014/09/09/51216.html\n",
        "http://newtalk.tw/news/2014/09/04/51070.html  image download failed, "
       ]
      },
      {
       "output_type": "stream",
       "stream": "stdout",
       "text": [
        " 'NoneType' object has no attribute 'find'\n",
        "nt2014090451070 http://newtalk.tw/news/2014/09/04/51070.html\n",
        "nt2014090451063"
       ]
      },
      {
       "output_type": "stream",
       "stream": "stdout",
       "text": [
        " http://newtalk.tw/news/2014/09/04/51063.html\n",
        "nt2014082950873"
       ]
      },
      {
       "output_type": "stream",
       "stream": "stdout",
       "text": [
        " http://newtalk.tw/news/2014/08/29/50873.html\n",
        "nt2014082850827"
       ]
      },
      {
       "output_type": "stream",
       "stream": "stdout",
       "text": [
        " http://newtalk.tw/news/2014/08/28/50827.html\n",
        "nt2014082850820"
       ]
      },
      {
       "output_type": "stream",
       "stream": "stdout",
       "text": [
        " http://newtalk.tw/news/2014/08/28/50820.html\n",
        "nt2014082650768"
       ]
      },
      {
       "output_type": "stream",
       "stream": "stdout",
       "text": [
        " http://newtalk.tw/news/2014/08/26/50768.html\n",
        "nt2014082650741"
       ]
      },
      {
       "output_type": "stream",
       "stream": "stdout",
       "text": [
        " http://newtalk.tw/news/2014/08/26/50741.html\n",
        "nt2014082450694"
       ]
      },
      {
       "output_type": "stream",
       "stream": "stdout",
       "text": [
        " http://newtalk.tw/news/2014/08/24/50694.html\n",
        "\u5a1b\u6a02"
       ]
      },
      {
       "output_type": "stream",
       "stream": "stdout",
       "text": [
        "\n",
        "['http://newtalk.tw/news_list.php?oid=10&p=1']\n",
        "0"
       ]
      },
      {
       "output_type": "stream",
       "stream": "stdout",
       "text": [
        "\n",
        "\u85dd\u6587"
       ]
      },
      {
       "output_type": "stream",
       "stream": "stdout",
       "text": [
        "\n",
        "['http://newtalk.tw/news_list.php?oid=11&p=1']\n",
        "13"
       ]
      },
      {
       "output_type": "stream",
       "stream": "stdout",
       "text": [
        "\n",
        "nt2014091851569"
       ]
      },
      {
       "output_type": "stream",
       "stream": "stdout",
       "text": [
        " http://newtalk.tw/news/2014/09/18/51569.html\n",
        "nt2014091851558"
       ]
      },
      {
       "output_type": "stream",
       "stream": "stdout",
       "text": [
        " http://newtalk.tw/news/2014/09/18/51558.html\n",
        "nt2014091851559"
       ]
      },
      {
       "output_type": "stream",
       "stream": "stdout",
       "text": [
        " http://newtalk.tw/news/2014/09/18/51559.html\n",
        "nt2014091851538"
       ]
      },
      {
       "output_type": "stream",
       "stream": "stdout",
       "text": [
        " http://newtalk.tw/news/2014/09/18/51538.html\n",
        "http://newtalk.tw/news/2014/09/15/51410.html  image download failed, "
       ]
      },
      {
       "output_type": "stream",
       "stream": "stdout",
       "text": [
        " 'NoneType' object has no attribute 'find'\n",
        "nt2014091551410 http://newtalk.tw/news/2014/09/15/51410.html\n",
        "nt2014091451405"
       ]
      },
      {
       "output_type": "stream",
       "stream": "stdout",
       "text": [
        " http://newtalk.tw/news/2014/09/14/51405.html\n",
        "nt2014091251366"
       ]
      },
      {
       "output_type": "stream",
       "stream": "stdout",
       "text": [
        " http://newtalk.tw/news/2014/09/12/51366.html\n",
        "nt2014091251330"
       ]
      },
      {
       "output_type": "stream",
       "stream": "stdout",
       "text": [
        " http://newtalk.tw/news/2014/09/12/51330.html\n",
        "nt2014091151311"
       ]
      },
      {
       "output_type": "stream",
       "stream": "stdout",
       "text": [
        " http://newtalk.tw/news/2014/09/11/51311.html\n",
        "nt2014091151293"
       ]
      },
      {
       "output_type": "stream",
       "stream": "stdout",
       "text": [
        " http://newtalk.tw/news/2014/09/11/51293.html\n",
        "nt2014090551098"
       ]
      },
      {
       "output_type": "stream",
       "stream": "stdout",
       "text": [
        " http://newtalk.tw/news/2014/09/05/51098.html\n",
        "nt2014083050908"
       ]
      },
      {
       "output_type": "stream",
       "stream": "stdout",
       "text": [
        " http://newtalk.tw/news/2014/08/30/50908.html\n",
        "nt2014082650754"
       ]
      },
      {
       "output_type": "stream",
       "stream": "stdout",
       "text": [
        " http://newtalk.tw/news/2014/08/26/50754.html\n",
        "\u5730\u65b9"
       ]
      },
      {
       "output_type": "stream",
       "stream": "stdout",
       "text": [
        "\n",
        "['http://newtalk.tw/news_list.php?oid=14&p=1', 'http://newtalk.tw/news_list.php?oid=14&p=2', 'http://newtalk.tw/news_list.php?oid=14&p=3', 'http://newtalk.tw/news_list.php?oid=14&p=4', 'http://newtalk.tw/news_list.php?oid=14&p=5', 'http://newtalk.tw/news_list.php?oid=14&p=6', 'http://newtalk.tw/news_list.php?oid=14&p=7', 'http://newtalk.tw/news_list.php?oid=14&p=8', 'http://newtalk.tw/news_list.php?oid=14&p=9', 'http://newtalk.tw/news_list.php?oid=14&p=10', 'http://newtalk.tw/news_list.php?oid=14&p=11', 'http://newtalk.tw/news_list.php?oid=14&p=12', 'http://newtalk.tw/news_list.php?oid=14&p=13', 'http://newtalk.tw/news_list.php?oid=14&p=14', 'http://newtalk.tw/news_list.php?oid=14&p=15']\n",
        "20"
       ]
      },
      {
       "output_type": "stream",
       "stream": "stdout",
       "text": [
        "\n",
        "nt2014091851572"
       ]
      },
      {
       "output_type": "stream",
       "stream": "stdout",
       "text": [
        " http://newtalk.tw/news/2014/09/18/51572.html\n",
        "nt2014091851571"
       ]
      },
      {
       "output_type": "stream",
       "stream": "stdout",
       "text": [
        " http://newtalk.tw/news/2014/09/18/51571.html\n",
        "nt2014091851570"
       ]
      },
      {
       "output_type": "stream",
       "stream": "stdout",
       "text": [
        " http://newtalk.tw/news/2014/09/18/51570.html\n",
        "nt2014091851562"
       ]
      },
      {
       "output_type": "stream",
       "stream": "stdout",
       "text": [
        " http://newtalk.tw/news/2014/09/18/51562.html\n",
        "nt2014091851563"
       ]
      },
      {
       "output_type": "stream",
       "stream": "stdout",
       "text": [
        " http://newtalk.tw/news/2014/09/18/51563.html\n",
        "nt2014091851560"
       ]
      },
      {
       "output_type": "stream",
       "stream": "stdout",
       "text": [
        " http://newtalk.tw/news/2014/09/18/51560.html\n",
        "nt2014091851554"
       ]
      },
      {
       "output_type": "stream",
       "stream": "stdout",
       "text": [
        " http://newtalk.tw/news/2014/09/18/51554.html\n",
        "nt2014091851550"
       ]
      },
      {
       "output_type": "stream",
       "stream": "stdout",
       "text": [
        " http://newtalk.tw/news/2014/09/18/51550.html\n",
        "nt2014091851548"
       ]
      },
      {
       "output_type": "stream",
       "stream": "stdout",
       "text": [
        " http://newtalk.tw/news/2014/09/18/51548.html\n",
        "nt2014091851547"
       ]
      },
      {
       "output_type": "stream",
       "stream": "stdout",
       "text": [
        " http://newtalk.tw/news/2014/09/18/51547.html\n",
        "nt2014091851543"
       ]
      },
      {
       "output_type": "stream",
       "stream": "stdout",
       "text": [
        " http://newtalk.tw/news/2014/09/18/51543.html\n",
        "nt2014091851544"
       ]
      },
      {
       "output_type": "stream",
       "stream": "stdout",
       "text": [
        " http://newtalk.tw/news/2014/09/18/51544.html\n",
        "nt2014091851537"
       ]
      },
      {
       "output_type": "stream",
       "stream": "stdout",
       "text": [
        " http://newtalk.tw/news/2014/09/18/51537.html\n",
        "nt2014091851534"
       ]
      },
      {
       "output_type": "stream",
       "stream": "stdout",
       "text": [
        " http://newtalk.tw/news/2014/09/18/51534.html\n",
        "nt2014091851529"
       ]
      },
      {
       "output_type": "stream",
       "stream": "stdout",
       "text": [
        " http://newtalk.tw/news/2014/09/18/51529.html\n",
        "nt2014091751527"
       ]
      },
      {
       "output_type": "stream",
       "stream": "stdout",
       "text": [
        " http://newtalk.tw/news/2014/09/17/51527.html\n",
        "nt2014091751526"
       ]
      },
      {
       "output_type": "stream",
       "stream": "stdout",
       "text": [
        " http://newtalk.tw/news/2014/09/17/51526.html\n",
        "nt2014091751524"
       ]
      },
      {
       "output_type": "stream",
       "stream": "stdout",
       "text": [
        " http://newtalk.tw/news/2014/09/17/51524.html\n",
        "nt2014091751523"
       ]
      },
      {
       "output_type": "stream",
       "stream": "stdout",
       "text": [
        " http://newtalk.tw/news/2014/09/17/51523.html\n",
        "http://newtalk.tw/news/2014/09/17/51522.html  page crawl failed, "
       ]
      },
      {
       "output_type": "stream",
       "stream": "stdout",
       "text": [
        " insertDocument :: caused by :: 11000 E11000 duplicate key error index: NewTalkDB.posts.$_id_  dup key: { : \"nt2014091751522\" }\n",
        "20"
       ]
      },
      {
       "output_type": "stream",
       "stream": "stdout",
       "text": [
        "\n",
        "nt2014091751510"
       ]
      },
      {
       "output_type": "stream",
       "stream": "stdout",
       "text": [
        " http://newtalk.tw/news/2014/09/17/51510.html\n",
        "nt2014091751506"
       ]
      },
      {
       "output_type": "stream",
       "stream": "stdout",
       "text": [
        " http://newtalk.tw/news/2014/09/17/51506.html\n",
        "nt2014091751493"
       ]
      },
      {
       "output_type": "stream",
       "stream": "stdout",
       "text": [
        " http://newtalk.tw/news/2014/09/17/51493.html\n",
        "nt2014091751502"
       ]
      },
      {
       "output_type": "stream",
       "stream": "stdout",
       "text": [
        " http://newtalk.tw/news/2014/09/17/51502.html\n",
        "nt2014091751498"
       ]
      },
      {
       "output_type": "stream",
       "stream": "stdout",
       "text": [
        " http://newtalk.tw/news/2014/09/17/51498.html\n",
        "nt2014091751500"
       ]
      },
      {
       "output_type": "stream",
       "stream": "stdout",
       "text": [
        " http://newtalk.tw/news/2014/09/17/51500.html\n",
        "nt2014091751495"
       ]
      },
      {
       "output_type": "stream",
       "stream": "stdout",
       "text": [
        " http://newtalk.tw/news/2014/09/17/51495.html\n",
        "http://newtalk.tw/news/2014/09/16/51482.html  image download failed, "
       ]
      },
      {
       "output_type": "stream",
       "stream": "stdout",
       "text": [
        " 'NoneType' object has no attribute 'find'\n",
        "nt2014091651482 http://newtalk.tw/news/2014/09/16/51482.html\n",
        "nt2014091651481"
       ]
      },
      {
       "output_type": "stream",
       "stream": "stdout",
       "text": [
        " http://newtalk.tw/news/2014/09/16/51481.html\n",
        "nt2014091651480"
       ]
      },
      {
       "output_type": "stream",
       "stream": "stdout",
       "text": [
        " http://newtalk.tw/news/2014/09/16/51480.html\n",
        "http://newtalk.tw/news/2014/09/16/51476.html  image download failed, "
       ]
      },
      {
       "output_type": "stream",
       "stream": "stdout",
       "text": [
        " 'NoneType' object has no attribute 'find'\n",
        "nt2014091651476 http://newtalk.tw/news/2014/09/16/51476.html\n",
        "nt2014091651477"
       ]
      },
      {
       "output_type": "stream",
       "stream": "stdout",
       "text": [
        " http://newtalk.tw/news/2014/09/16/51477.html\n",
        "nt2014091651475"
       ]
      },
      {
       "output_type": "stream",
       "stream": "stdout",
       "text": [
        " http://newtalk.tw/news/2014/09/16/51475.html\n",
        "nt2014091651463"
       ]
      },
      {
       "output_type": "stream",
       "stream": "stdout",
       "text": [
        " http://newtalk.tw/news/2014/09/16/51463.html\n",
        "nt2014091651464"
       ]
      },
      {
       "output_type": "stream",
       "stream": "stdout",
       "text": [
        " http://newtalk.tw/news/2014/09/16/51464.html\n",
        "nt2014091651459"
       ]
      },
      {
       "output_type": "stream",
       "stream": "stdout",
       "text": [
        " http://newtalk.tw/news/2014/09/16/51459.html\n",
        "nt2014091651458"
       ]
      },
      {
       "output_type": "stream",
       "stream": "stdout",
       "text": [
        " http://newtalk.tw/news/2014/09/16/51458.html\n",
        "nt2014091651455"
       ]
      },
      {
       "output_type": "stream",
       "stream": "stdout",
       "text": [
        " http://newtalk.tw/news/2014/09/16/51455.html\n",
        "nt2014091651454"
       ]
      },
      {
       "output_type": "stream",
       "stream": "stdout",
       "text": [
        " http://newtalk.tw/news/2014/09/16/51454.html\n",
        "nt2014091651452"
       ]
      },
      {
       "output_type": "stream",
       "stream": "stdout",
       "text": [
        " http://newtalk.tw/news/2014/09/16/51452.html\n",
        "20"
       ]
      },
      {
       "output_type": "stream",
       "stream": "stdout",
       "text": [
        "\n",
        "nt2014091651447"
       ]
      },
      {
       "output_type": "stream",
       "stream": "stdout",
       "text": [
        " http://newtalk.tw/news/2014/09/16/51447.html\n",
        "nt2014091651446"
       ]
      },
      {
       "output_type": "stream",
       "stream": "stdout",
       "text": [
        " http://newtalk.tw/news/2014/09/16/51446.html\n",
        "nt2014091651449"
       ]
      },
      {
       "output_type": "stream",
       "stream": "stdout",
       "text": [
        " http://newtalk.tw/news/2014/09/16/51449.html\n",
        "nt2014091551441"
       ]
      },
      {
       "output_type": "stream",
       "stream": "stdout",
       "text": [
        " http://newtalk.tw/news/2014/09/15/51441.html\n",
        "http://newtalk.tw/news/2014/09/15/51440.html  image download failed, "
       ]
      },
      {
       "output_type": "stream",
       "stream": "stdout",
       "text": [
        " 'NoneType' object has no attribute 'find'\n",
        "nt2014091551440 http://newtalk.tw/news/2014/09/15/51440.html\n",
        "nt2014091551439"
       ]
      },
      {
       "output_type": "stream",
       "stream": "stdout",
       "text": [
        " http://newtalk.tw/news/2014/09/15/51439.html\n",
        "nt2014091551438"
       ]
      },
      {
       "output_type": "stream",
       "stream": "stdout",
       "text": [
        " http://newtalk.tw/news/2014/09/15/51438.html\n",
        "nt2014091551429"
       ]
      },
      {
       "output_type": "stream",
       "stream": "stdout",
       "text": [
        " http://newtalk.tw/news/2014/09/15/51429.html\n",
        "nt2014091551430"
       ]
      },
      {
       "output_type": "stream",
       "stream": "stdout",
       "text": [
        " http://newtalk.tw/news/2014/09/15/51430.html\n",
        "nt2014091551424"
       ]
      },
      {
       "output_type": "stream",
       "stream": "stdout",
       "text": [
        " http://newtalk.tw/news/2014/09/15/51424.html\n",
        "nt2014091551420"
       ]
      },
      {
       "output_type": "stream",
       "stream": "stdout",
       "text": [
        " http://newtalk.tw/news/2014/09/15/51420.html\n",
        "nt2014091551415"
       ]
      },
      {
       "output_type": "stream",
       "stream": "stdout",
       "text": [
        " http://newtalk.tw/news/2014/09/15/51415.html\n",
        "nt2014091451407"
       ]
      },
      {
       "output_type": "stream",
       "stream": "stdout",
       "text": [
        " http://newtalk.tw/news/2014/09/14/51407.html\n",
        "nt2014091451402"
       ]
      },
      {
       "output_type": "stream",
       "stream": "stdout",
       "text": [
        " http://newtalk.tw/news/2014/09/14/51402.html\n",
        "nt2014091451401"
       ]
      },
      {
       "output_type": "stream",
       "stream": "stdout",
       "text": [
        " http://newtalk.tw/news/2014/09/14/51401.html\n",
        "http://newtalk.tw/news/2014/09/14/51395.html  image download failed, "
       ]
      },
      {
       "output_type": "stream",
       "stream": "stdout",
       "text": [
        " 'NoneType' object has no attribute 'find'\n",
        "nt2014091451395 http://newtalk.tw/news/2014/09/14/51395.html\n",
        "nt2014091451393"
       ]
      },
      {
       "output_type": "stream",
       "stream": "stdout",
       "text": [
        " http://newtalk.tw/news/2014/09/14/51393.html\n",
        "nt2014091451391"
       ]
      },
      {
       "output_type": "stream",
       "stream": "stdout",
       "text": [
        " http://newtalk.tw/news/2014/09/14/51391.html\n",
        "nt2014091351389"
       ]
      },
      {
       "output_type": "stream",
       "stream": "stdout",
       "text": [
        " http://newtalk.tw/news/2014/09/13/51389.html\n",
        "nt2014091351388"
       ]
      },
      {
       "output_type": "stream",
       "stream": "stdout",
       "text": [
        " http://newtalk.tw/news/2014/09/13/51388.html\n",
        "20"
       ]
      },
      {
       "output_type": "stream",
       "stream": "stdout",
       "text": [
        "\n",
        "nt2014091351385"
       ]
      },
      {
       "output_type": "stream",
       "stream": "stdout",
       "text": [
        " http://newtalk.tw/news/2014/09/13/51385.html\n",
        "nt2014091351380"
       ]
      },
      {
       "output_type": "stream",
       "stream": "stdout",
       "text": [
        " http://newtalk.tw/news/2014/09/13/51380.html\n",
        "nt2014091351378"
       ]
      },
      {
       "output_type": "stream",
       "stream": "stdout",
       "text": [
        " http://newtalk.tw/news/2014/09/13/51378.html\n",
        "nt2014091351373"
       ]
      },
      {
       "output_type": "stream",
       "stream": "stdout",
       "text": [
        " http://newtalk.tw/news/2014/09/13/51373.html\n",
        "nt2014091251371"
       ]
      },
      {
       "output_type": "stream",
       "stream": "stdout",
       "text": [
        " http://newtalk.tw/news/2014/09/12/51371.html\n",
        "nt2014091251370"
       ]
      },
      {
       "output_type": "stream",
       "stream": "stdout",
       "text": [
        " http://newtalk.tw/news/2014/09/12/51370.html\n",
        "nt2014091251355"
       ]
      },
      {
       "output_type": "stream",
       "stream": "stdout",
       "text": [
        " http://newtalk.tw/news/2014/09/12/51355.html\n",
        "nt2014091251352"
       ]
      },
      {
       "output_type": "stream",
       "stream": "stdout",
       "text": [
        " http://newtalk.tw/news/2014/09/12/51352.html\n",
        "nt2014091251351"
       ]
      },
      {
       "output_type": "stream",
       "stream": "stdout",
       "text": [
        " http://newtalk.tw/news/2014/09/12/51351.html\n",
        "nt2014091251339"
       ]
      },
      {
       "output_type": "stream",
       "stream": "stdout",
       "text": [
        " http://newtalk.tw/news/2014/09/12/51339.html\n",
        "nt2014091251347"
       ]
      },
      {
       "output_type": "stream",
       "stream": "stdout",
       "text": [
        " http://newtalk.tw/news/2014/09/12/51347.html\n",
        "nt2014091251334"
       ]
      },
      {
       "output_type": "stream",
       "stream": "stdout",
       "text": [
        " http://newtalk.tw/news/2014/09/12/51334.html\n",
        "nt2014091251344"
       ]
      },
      {
       "output_type": "stream",
       "stream": "stdout",
       "text": [
        " http://newtalk.tw/news/2014/09/12/51344.html\n",
        "nt2014091251336"
       ]
      },
      {
       "output_type": "stream",
       "stream": "stdout",
       "text": [
        " http://newtalk.tw/news/2014/09/12/51336.html\n",
        "nt2014091251337"
       ]
      },
      {
       "output_type": "stream",
       "stream": "stdout",
       "text": [
        " http://newtalk.tw/news/2014/09/12/51337.html\n",
        "nt2014091251338"
       ]
      },
      {
       "output_type": "stream",
       "stream": "stdout",
       "text": [
        " http://newtalk.tw/news/2014/09/12/51338.html\n",
        "http://newtalk.tw/news/2014/09/12/51333.html  image download failed, "
       ]
      },
      {
       "output_type": "stream",
       "stream": "stdout",
       "text": [
        " 'NoneType' object has no attribute 'find'\n",
        "http://newtalk.tw/news/2014/09/12/51333.html  page crawl failed,  insertDocument :: caused by :: 11000 E11000 duplicate key error index: NewTalkDB.posts.$_id_  dup key: { : \"nt2014091251333\" }\n",
        "nt2014091251328"
       ]
      },
      {
       "output_type": "stream",
       "stream": "stdout",
       "text": [
        " http://newtalk.tw/news/2014/09/12/51328.html\n",
        "nt2014091251326"
       ]
      },
      {
       "output_type": "stream",
       "stream": "stdout",
       "text": [
        " http://newtalk.tw/news/2014/09/12/51326.html\n",
        "nt2014091151325"
       ]
      },
      {
       "output_type": "stream",
       "stream": "stdout",
       "text": [
        " http://newtalk.tw/news/2014/09/11/51325.html\n",
        "20"
       ]
      },
      {
       "output_type": "stream",
       "stream": "stdout",
       "text": [
        "\n",
        "http://newtalk.tw/news/2014/09/11/51323.html  image download failed, "
       ]
      },
      {
       "output_type": "stream",
       "stream": "stdout",
       "text": [
        " 'NoneType' object has no attribute 'find'\n",
        "nt2014091151323 http://newtalk.tw/news/2014/09/11/51323.html\n",
        "nt2014091151322"
       ]
      },
      {
       "output_type": "stream",
       "stream": "stdout",
       "text": [
        " http://newtalk.tw/news/2014/09/11/51322.html\n",
        "http://newtalk.tw/news/2014/09/11/51319.html  image download failed, "
       ]
      },
      {
       "output_type": "stream",
       "stream": "stdout",
       "text": [
        " 'NoneType' object has no attribute 'find'\n",
        "nt2014091151319 http://newtalk.tw/news/2014/09/11/51319.html\n",
        "nt2014091151315"
       ]
      },
      {
       "output_type": "stream",
       "stream": "stdout",
       "text": [
        " http://newtalk.tw/news/2014/09/11/51315.html\n",
        "nt2014091151313"
       ]
      },
      {
       "output_type": "stream",
       "stream": "stdout",
       "text": [
        " http://newtalk.tw/news/2014/09/11/51313.html\n",
        "nt2014091151308"
       ]
      },
      {
       "output_type": "stream",
       "stream": "stdout",
       "text": [
        " http://newtalk.tw/news/2014/09/11/51308.html\n",
        "nt2014091151307"
       ]
      },
      {
       "output_type": "stream",
       "stream": "stdout",
       "text": [
        " http://newtalk.tw/news/2014/09/11/51307.html\n",
        "nt2014091151302"
       ]
      },
      {
       "output_type": "stream",
       "stream": "stdout",
       "text": [
        " http://newtalk.tw/news/2014/09/11/51302.html\n",
        "nt2014091151303"
       ]
      },
      {
       "output_type": "stream",
       "stream": "stdout",
       "text": [
        " http://newtalk.tw/news/2014/09/11/51303.html\n",
        "nt2014091151296"
       ]
      },
      {
       "output_type": "stream",
       "stream": "stdout",
       "text": [
        " http://newtalk.tw/news/2014/09/11/51296.html\n",
        "http://newtalk.tw/news/2014/09/11/51292.html  image download failed, "
       ]
      },
      {
       "output_type": "stream",
       "stream": "stdout",
       "text": [
        " 'NoneType' object has no attribute 'find'\n",
        "nt2014091151292 http://newtalk.tw/news/2014/09/11/51292.html\n",
        "nt2014091151290"
       ]
      },
      {
       "output_type": "stream",
       "stream": "stdout",
       "text": [
        " http://newtalk.tw/news/2014/09/11/51290.html\n",
        "nt2014091151289"
       ]
      },
      {
       "output_type": "stream",
       "stream": "stdout",
       "text": [
        " http://newtalk.tw/news/2014/09/11/51289.html\n",
        "nt2014091151284"
       ]
      },
      {
       "output_type": "stream",
       "stream": "stdout",
       "text": [
        " http://newtalk.tw/news/2014/09/11/51284.html\n",
        "http://newtalk.tw/news/2014/09/11/51277.html  image download failed, "
       ]
      },
      {
       "output_type": "stream",
       "stream": "stdout",
       "text": [
        " 'NoneType' object has no attribute 'find'\n",
        "nt2014091151277 http://newtalk.tw/news/2014/09/11/51277.html\n",
        "nt2014091051276"
       ]
      },
      {
       "output_type": "stream",
       "stream": "stdout",
       "text": [
        " http://newtalk.tw/news/2014/09/10/51276.html\n",
        "http://newtalk.tw/news/2014/09/10/51273.html  image download failed, "
       ]
      },
      {
       "output_type": "stream",
       "stream": "stdout",
       "text": [
        " 'NoneType' object has no attribute 'find'\n",
        "nt2014091051273 http://newtalk.tw/news/2014/09/10/51273.html\n",
        "http://newtalk.tw/news/2014/09/10/51275.html  image download failed, "
       ]
      },
      {
       "output_type": "stream",
       "stream": "stdout",
       "text": [
        " 'NoneType' object has no attribute 'find'\n",
        "nt2014091051275 http://newtalk.tw/news/2014/09/10/51275.html\n",
        "nt2014091051274"
       ]
      },
      {
       "output_type": "stream",
       "stream": "stdout",
       "text": [
        " http://newtalk.tw/news/2014/09/10/51274.html\n",
        "http://newtalk.tw/news/2014/09/10/51270.html  image download failed, "
       ]
      },
      {
       "output_type": "stream",
       "stream": "stdout",
       "text": [
        " 'NoneType' object has no attribute 'find'\n",
        "nt2014091051270 http://newtalk.tw/news/2014/09/10/51270.html\n",
        "20"
       ]
      },
      {
       "output_type": "stream",
       "stream": "stdout",
       "text": [
        "\n",
        "nt2014091051260"
       ]
      },
      {
       "output_type": "stream",
       "stream": "stdout",
       "text": [
        " http://newtalk.tw/news/2014/09/10/51260.html\n",
        "nt2014091051261"
       ]
      },
      {
       "output_type": "stream",
       "stream": "stdout",
       "text": [
        " http://newtalk.tw/news/2014/09/10/51261.html\n",
        "nt2014091051253"
       ]
      },
      {
       "output_type": "stream",
       "stream": "stdout",
       "text": [
        " http://newtalk.tw/news/2014/09/10/51253.html\n",
        "nt2014091051254"
       ]
      },
      {
       "output_type": "stream",
       "stream": "stdout",
       "text": [
        " http://newtalk.tw/news/2014/09/10/51254.html\n",
        "nt2014091051239"
       ]
      },
      {
       "output_type": "stream",
       "stream": "stdout",
       "text": [
        " http://newtalk.tw/news/2014/09/10/51239.html\n",
        "nt2014091051241"
       ]
      },
      {
       "output_type": "stream",
       "stream": "stdout",
       "text": [
        " http://newtalk.tw/news/2014/09/10/51241.html\n",
        "nt2014091051236"
       ]
      },
      {
       "output_type": "stream",
       "stream": "stdout",
       "text": [
        " http://newtalk.tw/news/2014/09/10/51236.html\n",
        "nt2014091051238"
       ]
      },
      {
       "output_type": "stream",
       "stream": "stdout",
       "text": [
        " http://newtalk.tw/news/2014/09/10/51238.html\n",
        "nt2014091051232"
       ]
      },
      {
       "output_type": "stream",
       "stream": "stdout",
       "text": [
        " http://newtalk.tw/news/2014/09/10/51232.html\n",
        "nt2014090951225"
       ]
      },
      {
       "output_type": "stream",
       "stream": "stdout",
       "text": [
        " http://newtalk.tw/news/2014/09/09/51225.html\n",
        "nt2014090951221"
       ]
      },
      {
       "output_type": "stream",
       "stream": "stdout",
       "text": [
        " http://newtalk.tw/news/2014/09/09/51221.html\n",
        "nt2014090951220"
       ]
      },
      {
       "output_type": "stream",
       "stream": "stdout",
       "text": [
        " http://newtalk.tw/news/2014/09/09/51220.html\n",
        "nt2014090951215"
       ]
      },
      {
       "output_type": "stream",
       "stream": "stdout",
       "text": [
        " http://newtalk.tw/news/2014/09/09/51215.html\n",
        "nt2014090951212"
       ]
      },
      {
       "output_type": "stream",
       "stream": "stdout",
       "text": [
        " http://newtalk.tw/news/2014/09/09/51212.html\n",
        "nt2014090951203"
       ]
      },
      {
       "output_type": "stream",
       "stream": "stdout",
       "text": [
        " http://newtalk.tw/news/2014/09/09/51203.html\n",
        "nt2014090951207"
       ]
      },
      {
       "output_type": "stream",
       "stream": "stdout",
       "text": [
        " http://newtalk.tw/news/2014/09/09/51207.html\n",
        "nt2014090951202"
       ]
      },
      {
       "output_type": "stream",
       "stream": "stdout",
       "text": [
        " http://newtalk.tw/news/2014/09/09/51202.html\n",
        "nt2014090951198"
       ]
      },
      {
       "output_type": "stream",
       "stream": "stdout",
       "text": [
        " http://newtalk.tw/news/2014/09/09/51198.html\n",
        "http://newtalk.tw/news/2014/09/09/51197.html  page crawl failed, "
       ]
      },
      {
       "output_type": "stream",
       "stream": "stdout",
       "text": [
        " insertDocument :: caused by :: 11000 E11000 duplicate key error index: NewTalkDB.posts.$_id_  dup key: { : \"nt2014090951197\" }\n",
        "nt2014090951192"
       ]
      },
      {
       "output_type": "stream",
       "stream": "stdout",
       "text": [
        " http://newtalk.tw/news/2014/09/09/51192.html\n",
        "20"
       ]
      },
      {
       "output_type": "stream",
       "stream": "stdout",
       "text": [
        "\n",
        "http://newtalk.tw/news/2014/09/08/51182.html  image download failed, "
       ]
      },
      {
       "output_type": "stream",
       "stream": "stdout",
       "text": [
        " 'NoneType' object has no attribute 'find'\n",
        "nt2014090851182 http://newtalk.tw/news/2014/09/08/51182.html\n",
        "nt2014090851183"
       ]
      },
      {
       "output_type": "stream",
       "stream": "stdout",
       "text": [
        " http://newtalk.tw/news/2014/09/08/51183.html\n",
        "nt2014090851181"
       ]
      },
      {
       "output_type": "stream",
       "stream": "stdout",
       "text": [
        " http://newtalk.tw/news/2014/09/08/51181.html\n",
        "nt2014090851180"
       ]
      },
      {
       "output_type": "stream",
       "stream": "stdout",
       "text": [
        " http://newtalk.tw/news/2014/09/08/51180.html\n",
        "http://newtalk.tw/news/2014/09/08/51178.html  image download failed, "
       ]
      },
      {
       "output_type": "stream",
       "stream": "stdout",
       "text": [
        " 'NoneType' object has no attribute 'find'\n",
        "nt2014090851178 http://newtalk.tw/news/2014/09/08/51178.html\n",
        "nt2014090851176"
       ]
      },
      {
       "output_type": "stream",
       "stream": "stdout",
       "text": [
        " http://newtalk.tw/news/2014/09/08/51176.html\n",
        "nt2014090851171"
       ]
      },
      {
       "output_type": "stream",
       "stream": "stdout",
       "text": [
        " http://newtalk.tw/news/2014/09/08/51171.html\n",
        "nt2014090751169"
       ]
      },
      {
       "output_type": "stream",
       "stream": "stdout",
       "text": [
        " http://newtalk.tw/news/2014/09/07/51169.html\n",
        "http://newtalk.tw/news/2014/09/07/51166.html  image download failed, "
       ]
      },
      {
       "output_type": "stream",
       "stream": "stdout",
       "text": [
        " 'NoneType' object has no attribute 'find'\n",
        "nt2014090751166 http://newtalk.tw/news/2014/09/07/51166.html\n",
        "http://newtalk.tw/news/2014/09/07/51165.html  page crawl failed, "
       ]
      },
      {
       "output_type": "stream",
       "stream": "stdout",
       "text": [
        " insertDocument :: caused by :: 11000 E11000 duplicate key error index: NewTalkDB.posts.$_id_  dup key: { : \"nt2014090751165\" }\n",
        "nt2014090751164"
       ]
      },
      {
       "output_type": "stream",
       "stream": "stdout",
       "text": [
        " http://newtalk.tw/news/2014/09/07/51164.html\n",
        "nt2014090751163"
       ]
      },
      {
       "output_type": "stream",
       "stream": "stdout",
       "text": [
        " http://newtalk.tw/news/2014/09/07/51163.html\n",
        "nt2014090751161"
       ]
      },
      {
       "output_type": "stream",
       "stream": "stdout",
       "text": [
        " http://newtalk.tw/news/2014/09/07/51161.html\n",
        "nt2014090751160"
       ]
      },
      {
       "output_type": "stream",
       "stream": "stdout",
       "text": [
        " http://newtalk.tw/news/2014/09/07/51160.html\n",
        "nt2014090651157"
       ]
      },
      {
       "output_type": "stream",
       "stream": "stdout",
       "text": [
        " http://newtalk.tw/news/2014/09/06/51157.html\n",
        "nt2014090651152"
       ]
      },
      {
       "output_type": "stream",
       "stream": "stdout",
       "text": [
        " http://newtalk.tw/news/2014/09/06/51152.html\n",
        "nt2014090651150"
       ]
      },
      {
       "output_type": "stream",
       "stream": "stdout",
       "text": [
        " http://newtalk.tw/news/2014/09/06/51150.html\n",
        "nt2014090651149"
       ]
      },
      {
       "output_type": "stream",
       "stream": "stdout",
       "text": [
        " http://newtalk.tw/news/2014/09/06/51149.html\n",
        "nt2014090651147"
       ]
      },
      {
       "output_type": "stream",
       "stream": "stdout",
       "text": [
        " http://newtalk.tw/news/2014/09/06/51147.html\n",
        "nt2014090651148"
       ]
      },
      {
       "output_type": "stream",
       "stream": "stdout",
       "text": [
        " http://newtalk.tw/news/2014/09/06/51148.html\n",
        "20"
       ]
      },
      {
       "output_type": "stream",
       "stream": "stdout",
       "text": [
        "\n",
        "nt2014090551144"
       ]
      },
      {
       "output_type": "stream",
       "stream": "stdout",
       "text": [
        " http://newtalk.tw/news/2014/09/05/51144.html\n",
        "nt2014090551142"
       ]
      },
      {
       "output_type": "stream",
       "stream": "stdout",
       "text": [
        " http://newtalk.tw/news/2014/09/05/51142.html\n",
        "nt2014090551139"
       ]
      },
      {
       "output_type": "stream",
       "stream": "stdout",
       "text": [
        " http://newtalk.tw/news/2014/09/05/51139.html\n",
        "nt2014090551138"
       ]
      },
      {
       "output_type": "stream",
       "stream": "stdout",
       "text": [
        " http://newtalk.tw/news/2014/09/05/51138.html\n",
        "nt2014090551136"
       ]
      },
      {
       "output_type": "stream",
       "stream": "stdout",
       "text": [
        " http://newtalk.tw/news/2014/09/05/51136.html\n",
        "nt2014090551135"
       ]
      },
      {
       "output_type": "stream",
       "stream": "stdout",
       "text": [
        " http://newtalk.tw/news/2014/09/05/51135.html\n",
        "nt2014090551134"
       ]
      },
      {
       "output_type": "stream",
       "stream": "stdout",
       "text": [
        " http://newtalk.tw/news/2014/09/05/51134.html\n",
        "nt2014090551133"
       ]
      },
      {
       "output_type": "stream",
       "stream": "stdout",
       "text": [
        " http://newtalk.tw/news/2014/09/05/51133.html\n",
        "nt2014090551124"
       ]
      },
      {
       "output_type": "stream",
       "stream": "stdout",
       "text": [
        " http://newtalk.tw/news/2014/09/05/51124.html\n",
        "nt2014090551129"
       ]
      },
      {
       "output_type": "stream",
       "stream": "stdout",
       "text": [
        " http://newtalk.tw/news/2014/09/05/51129.html\n",
        "http://newtalk.tw/news/2014/09/05/51128.html  page crawl failed, "
       ]
      },
      {
       "output_type": "stream",
       "stream": "stdout",
       "text": [
        " insertDocument :: caused by :: 11000 E11000 duplicate key error index: NewTalkDB.posts.$_id_  dup key: { : \"nt2014090551128\" }\n",
        "nt2014090551125"
       ]
      },
      {
       "output_type": "stream",
       "stream": "stdout",
       "text": [
        " http://newtalk.tw/news/2014/09/05/51125.html\n",
        "nt2014090551117"
       ]
      },
      {
       "output_type": "stream",
       "stream": "stdout",
       "text": [
        " http://newtalk.tw/news/2014/09/05/51117.html\n",
        "http://newtalk.tw/news/2014/09/05/51114.html  page crawl failed, "
       ]
      },
      {
       "output_type": "stream",
       "stream": "stdout",
       "text": [
        " insertDocument :: caused by :: 11000 E11000 duplicate key error index: NewTalkDB.posts.$_id_  dup key: { : \"nt2014090551114\" }\n",
        "nt2014090551111"
       ]
      },
      {
       "output_type": "stream",
       "stream": "stdout",
       "text": [
        " http://newtalk.tw/news/2014/09/05/51111.html\n",
        "nt2014090551112"
       ]
      },
      {
       "output_type": "stream",
       "stream": "stdout",
       "text": [
        " http://newtalk.tw/news/2014/09/05/51112.html\n",
        "nt2014090551109"
       ]
      },
      {
       "output_type": "stream",
       "stream": "stdout",
       "text": [
        " http://newtalk.tw/news/2014/09/05/51109.html\n",
        "nt2014090551102"
       ]
      },
      {
       "output_type": "stream",
       "stream": "stdout",
       "text": [
        " http://newtalk.tw/news/2014/09/05/51102.html\n",
        "nt2014090551105"
       ]
      },
      {
       "output_type": "stream",
       "stream": "stdout",
       "text": [
        " http://newtalk.tw/news/2014/09/05/51105.html\n",
        "nt2014090551108"
       ]
      },
      {
       "output_type": "stream",
       "stream": "stdout",
       "text": [
        " http://newtalk.tw/news/2014/09/05/51108.html\n",
        "20"
       ]
      },
      {
       "output_type": "stream",
       "stream": "stdout",
       "text": [
        "\n",
        "nt2014090451095"
       ]
      },
      {
       "output_type": "stream",
       "stream": "stdout",
       "text": [
        " http://newtalk.tw/news/2014/09/04/51095.html\n",
        "nt2014090451093"
       ]
      },
      {
       "output_type": "stream",
       "stream": "stdout",
       "text": [
        " http://newtalk.tw/news/2014/09/04/51093.html\n",
        "nt2014090451087"
       ]
      },
      {
       "output_type": "stream",
       "stream": "stdout",
       "text": [
        " http://newtalk.tw/news/2014/09/04/51087.html\n",
        "nt2014090451085"
       ]
      },
      {
       "output_type": "stream",
       "stream": "stdout",
       "text": [
        " http://newtalk.tw/news/2014/09/04/51085.html\n",
        "http://newtalk.tw/news/2014/09/04/51086.html  page crawl failed, "
       ]
      },
      {
       "output_type": "stream",
       "stream": "stdout",
       "text": [
        " insertDocument :: caused by :: 11000 E11000 duplicate key error index: NewTalkDB.posts.$_id_  dup key: { : \"nt2014090451086\" }\n",
        "nt2014090451081"
       ]
      },
      {
       "output_type": "stream",
       "stream": "stdout",
       "text": [
        " http://newtalk.tw/news/2014/09/04/51081.html\n",
        "nt2014090451075"
       ]
      },
      {
       "output_type": "stream",
       "stream": "stdout",
       "text": [
        " http://newtalk.tw/news/2014/09/04/51075.html\n",
        "nt2014090451072"
       ]
      },
      {
       "output_type": "stream",
       "stream": "stdout",
       "text": [
        " http://newtalk.tw/news/2014/09/04/51072.html\n",
        "nt2014090451059"
       ]
      },
      {
       "output_type": "stream",
       "stream": "stdout",
       "text": [
        " http://newtalk.tw/news/2014/09/04/51059.html\n",
        "nt2014090451060"
       ]
      },
      {
       "output_type": "stream",
       "stream": "stdout",
       "text": [
        " http://newtalk.tw/news/2014/09/04/51060.html\n",
        "nt2014090451056"
       ]
      },
      {
       "output_type": "stream",
       "stream": "stdout",
       "text": [
        " http://newtalk.tw/news/2014/09/04/51056.html\n",
        "nt2014090451055"
       ]
      },
      {
       "output_type": "stream",
       "stream": "stdout",
       "text": [
        " http://newtalk.tw/news/2014/09/04/51055.html\n",
        "nt2014090451052"
       ]
      },
      {
       "output_type": "stream",
       "stream": "stdout",
       "text": [
        " http://newtalk.tw/news/2014/09/04/51052.html\n",
        "nt2014090451045"
       ]
      },
      {
       "output_type": "stream",
       "stream": "stdout",
       "text": [
        " http://newtalk.tw/news/2014/09/04/51045.html\n",
        "nt2014090351044"
       ]
      },
      {
       "output_type": "stream",
       "stream": "stdout",
       "text": [
        " http://newtalk.tw/news/2014/09/03/51044.html\n",
        "nt2014090351043"
       ]
      },
      {
       "output_type": "stream",
       "stream": "stdout",
       "text": [
        " http://newtalk.tw/news/2014/09/03/51043.html\n",
        "nt2014090351042"
       ]
      },
      {
       "output_type": "stream",
       "stream": "stdout",
       "text": [
        " http://newtalk.tw/news/2014/09/03/51042.html\n",
        "nt2014090351038"
       ]
      },
      {
       "output_type": "stream",
       "stream": "stdout",
       "text": [
        " http://newtalk.tw/news/2014/09/03/51038.html\n",
        "http://newtalk.tw/news/2014/09/03/51032.html  page crawl failed, "
       ]
      },
      {
       "output_type": "stream",
       "stream": "stdout",
       "text": [
        " insertDocument :: caused by :: 11000 E11000 duplicate key error index: NewTalkDB.posts.$_id_  dup key: { : \"nt2014090351032\" }\n",
        "nt2014090351037"
       ]
      },
      {
       "output_type": "stream",
       "stream": "stdout",
       "text": [
        " http://newtalk.tw/news/2014/09/03/51037.html\n",
        "20"
       ]
      },
      {
       "output_type": "stream",
       "stream": "stdout",
       "text": [
        "\n",
        "nt2014090351030"
       ]
      },
      {
       "output_type": "stream",
       "stream": "stdout",
       "text": [
        " http://newtalk.tw/news/2014/09/03/51030.html\n",
        "nt2014090351025"
       ]
      },
      {
       "output_type": "stream",
       "stream": "stdout",
       "text": [
        " http://newtalk.tw/news/2014/09/03/51025.html\n",
        "nt2014090351021"
       ]
      },
      {
       "output_type": "stream",
       "stream": "stdout",
       "text": [
        " http://newtalk.tw/news/2014/09/03/51021.html\n",
        "nt2014090351022"
       ]
      },
      {
       "output_type": "stream",
       "stream": "stdout",
       "text": [
        " http://newtalk.tw/news/2014/09/03/51022.html\n",
        "nt2014090351018"
       ]
      },
      {
       "output_type": "stream",
       "stream": "stdout",
       "text": [
        " http://newtalk.tw/news/2014/09/03/51018.html\n",
        "nt2014090351016"
       ]
      },
      {
       "output_type": "stream",
       "stream": "stdout",
       "text": [
        " http://newtalk.tw/news/2014/09/03/51016.html\n",
        "nt2014090351010"
       ]
      },
      {
       "output_type": "stream",
       "stream": "stdout",
       "text": [
        " http://newtalk.tw/news/2014/09/03/51010.html\n",
        "nt2014090251002"
       ]
      },
      {
       "output_type": "stream",
       "stream": "stdout",
       "text": [
        " http://newtalk.tw/news/2014/09/02/51002.html\n",
        "nt2014090251001"
       ]
      },
      {
       "output_type": "stream",
       "stream": "stdout",
       "text": [
        " http://newtalk.tw/news/2014/09/02/51001.html\n",
        "nt2014090250999"
       ]
      },
      {
       "output_type": "stream",
       "stream": "stdout",
       "text": [
        " http://newtalk.tw/news/2014/09/02/50999.html\n",
        "nt2014090250998"
       ]
      },
      {
       "output_type": "stream",
       "stream": "stdout",
       "text": [
        " http://newtalk.tw/news/2014/09/02/50998.html\n",
        "nt2014090250996"
       ]
      },
      {
       "output_type": "stream",
       "stream": "stdout",
       "text": [
        " http://newtalk.tw/news/2014/09/02/50996.html\n",
        "nt2014090250985"
       ]
      },
      {
       "output_type": "stream",
       "stream": "stdout",
       "text": [
        " http://newtalk.tw/news/2014/09/02/50985.html\n",
        "nt2014090250993"
       ]
      },
      {
       "output_type": "stream",
       "stream": "stdout",
       "text": [
        " http://newtalk.tw/news/2014/09/02/50993.html\n",
        "nt2014090250991"
       ]
      },
      {
       "output_type": "stream",
       "stream": "stdout",
       "text": [
        " http://newtalk.tw/news/2014/09/02/50991.html\n",
        "nt2014090250987"
       ]
      },
      {
       "output_type": "stream",
       "stream": "stdout",
       "text": [
        " http://newtalk.tw/news/2014/09/02/50987.html\n",
        "nt2014090250979"
       ]
      },
      {
       "output_type": "stream",
       "stream": "stdout",
       "text": [
        " http://newtalk.tw/news/2014/09/02/50979.html\n",
        "nt2014090250978"
       ]
      },
      {
       "output_type": "stream",
       "stream": "stdout",
       "text": [
        " http://newtalk.tw/news/2014/09/02/50978.html\n",
        "nt2014090250977"
       ]
      },
      {
       "output_type": "stream",
       "stream": "stdout",
       "text": [
        " http://newtalk.tw/news/2014/09/02/50977.html\n",
        "nt2014090250974"
       ]
      },
      {
       "output_type": "stream",
       "stream": "stdout",
       "text": [
        " http://newtalk.tw/news/2014/09/02/50974.html\n",
        "20"
       ]
      },
      {
       "output_type": "stream",
       "stream": "stdout",
       "text": [
        "\n",
        "nt2014090250972"
       ]
      },
      {
       "output_type": "stream",
       "stream": "stdout",
       "text": [
        " http://newtalk.tw/news/2014/09/02/50972.html\n",
        "nt2014090250968"
       ]
      },
      {
       "output_type": "stream",
       "stream": "stdout",
       "text": [
        " http://newtalk.tw/news/2014/09/02/50968.html\n",
        "nt2014090250964"
       ]
      },
      {
       "output_type": "stream",
       "stream": "stdout",
       "text": [
        " http://newtalk.tw/news/2014/09/02/50964.html\n",
        "nt2014090150963"
       ]
      },
      {
       "output_type": "stream",
       "stream": "stdout",
       "text": [
        " http://newtalk.tw/news/2014/09/01/50963.html\n",
        "nt2014090150962"
       ]
      },
      {
       "output_type": "stream",
       "stream": "stdout",
       "text": [
        " http://newtalk.tw/news/2014/09/01/50962.html\n",
        "nt2014090150961"
       ]
      },
      {
       "output_type": "stream",
       "stream": "stdout",
       "text": [
        " http://newtalk.tw/news/2014/09/01/50961.html\n",
        "nt2014090150959"
       ]
      },
      {
       "output_type": "stream",
       "stream": "stdout",
       "text": [
        " http://newtalk.tw/news/2014/09/01/50959.html\n",
        "nt2014090150949"
       ]
      },
      {
       "output_type": "stream",
       "stream": "stdout",
       "text": [
        " http://newtalk.tw/news/2014/09/01/50949.html\n",
        "nt2014090150945"
       ]
      },
      {
       "output_type": "stream",
       "stream": "stdout",
       "text": [
        " http://newtalk.tw/news/2014/09/01/50945.html\n",
        "nt2014090150942"
       ]
      },
      {
       "output_type": "stream",
       "stream": "stdout",
       "text": [
        " http://newtalk.tw/news/2014/09/01/50942.html\n",
        "nt2014090150938"
       ]
      },
      {
       "output_type": "stream",
       "stream": "stdout",
       "text": [
        " http://newtalk.tw/news/2014/09/01/50938.html\n",
        "nt2014090150932"
       ]
      },
      {
       "output_type": "stream",
       "stream": "stdout",
       "text": [
        " http://newtalk.tw/news/2014/09/01/50932.html\n",
        "http://newtalk.tw/news/2014/08/31/50925.html  image download failed, "
       ]
      },
      {
       "output_type": "stream",
       "stream": "stdout",
       "text": [
        " 'NoneType' object has no attribute 'find'\n",
        "nt2014083150925 http://newtalk.tw/news/2014/08/31/50925.html\n",
        "http://newtalk.tw/news/2014/08/31/50923.html  image download failed, "
       ]
      },
      {
       "output_type": "stream",
       "stream": "stdout",
       "text": [
        " 'NoneType' object has no attribute 'find'\n",
        "nt2014083150923 http://newtalk.tw/news/2014/08/31/50923.html\n",
        "nt2014083150922"
       ]
      },
      {
       "output_type": "stream",
       "stream": "stdout",
       "text": [
        " http://newtalk.tw/news/2014/08/31/50922.html\n",
        "nt2014083150921"
       ]
      },
      {
       "output_type": "stream",
       "stream": "stdout",
       "text": [
        " http://newtalk.tw/news/2014/08/31/50921.html\n",
        "nt2014083150917"
       ]
      },
      {
       "output_type": "stream",
       "stream": "stdout",
       "text": [
        " http://newtalk.tw/news/2014/08/31/50917.html\n",
        "nt2014083150916"
       ]
      },
      {
       "output_type": "stream",
       "stream": "stdout",
       "text": [
        " http://newtalk.tw/news/2014/08/31/50916.html\n",
        "nt2014083150915"
       ]
      },
      {
       "output_type": "stream",
       "stream": "stdout",
       "text": [
        " http://newtalk.tw/news/2014/08/31/50915.html\n",
        "nt2014083150914"
       ]
      },
      {
       "output_type": "stream",
       "stream": "stdout",
       "text": [
        " http://newtalk.tw/news/2014/08/31/50914.html\n",
        "20"
       ]
      },
      {
       "output_type": "stream",
       "stream": "stdout",
       "text": [
        "\n",
        "nt2014083150913"
       ]
      },
      {
       "output_type": "stream",
       "stream": "stdout",
       "text": [
        " http://newtalk.tw/news/2014/08/31/50913.html\n",
        "nt2014083050907"
       ]
      },
      {
       "output_type": "stream",
       "stream": "stdout",
       "text": [
        " http://newtalk.tw/news/2014/08/30/50907.html\n",
        "nt2014083050905"
       ]
      },
      {
       "output_type": "stream",
       "stream": "stdout",
       "text": [
        " http://newtalk.tw/news/2014/08/30/50905.html\n",
        "nt2014083050904"
       ]
      },
      {
       "output_type": "stream",
       "stream": "stdout",
       "text": [
        " http://newtalk.tw/news/2014/08/30/50904.html\n",
        "nt2014083050901"
       ]
      },
      {
       "output_type": "stream",
       "stream": "stdout",
       "text": [
        " http://newtalk.tw/news/2014/08/30/50901.html\n",
        "nt2014083050898"
       ]
      },
      {
       "output_type": "stream",
       "stream": "stdout",
       "text": [
        " http://newtalk.tw/news/2014/08/30/50898.html\n",
        "nt2014083050897"
       ]
      },
      {
       "output_type": "stream",
       "stream": "stdout",
       "text": [
        " http://newtalk.tw/news/2014/08/30/50897.html\n",
        "nt2014083050896"
       ]
      },
      {
       "output_type": "stream",
       "stream": "stdout",
       "text": [
        " http://newtalk.tw/news/2014/08/30/50896.html\n",
        "nt2014083050895"
       ]
      },
      {
       "output_type": "stream",
       "stream": "stdout",
       "text": [
        " http://newtalk.tw/news/2014/08/30/50895.html\n",
        "nt2014082950891"
       ]
      },
      {
       "output_type": "stream",
       "stream": "stdout",
       "text": [
        " http://newtalk.tw/news/2014/08/29/50891.html\n",
        "nt2014082950890"
       ]
      },
      {
       "output_type": "stream",
       "stream": "stdout",
       "text": [
        " http://newtalk.tw/news/2014/08/29/50890.html\n",
        "http://newtalk.tw/news/2014/08/29/50887.html  image download failed, "
       ]
      },
      {
       "output_type": "stream",
       "stream": "stdout",
       "text": [
        " 'NoneType' object has no attribute 'find'\n",
        "nt2014082950887 http://newtalk.tw/news/2014/08/29/50887.html\n",
        "nt2014082950881"
       ]
      },
      {
       "output_type": "stream",
       "stream": "stdout",
       "text": [
        " http://newtalk.tw/news/2014/08/29/50881.html\n",
        "http://newtalk.tw/news/2014/08/29/50878.html  page crawl failed, "
       ]
      },
      {
       "output_type": "stream",
       "stream": "stdout",
       "text": [
        " insertDocument :: caused by :: 11000 E11000 duplicate key error index: NewTalkDB.posts.$_id_  dup key: { : \"nt2014082950878\" }\n",
        "nt2014082950876"
       ]
      },
      {
       "output_type": "stream",
       "stream": "stdout",
       "text": [
        " http://newtalk.tw/news/2014/08/29/50876.html\n",
        "nt2014082950863"
       ]
      },
      {
       "output_type": "stream",
       "stream": "stdout",
       "text": [
        " http://newtalk.tw/news/2014/08/29/50863.html\n",
        "nt2014082950862"
       ]
      },
      {
       "output_type": "stream",
       "stream": "stdout",
       "text": [
        " http://newtalk.tw/news/2014/08/29/50862.html\n",
        "nt2014082850836"
       ]
      },
      {
       "output_type": "stream",
       "stream": "stdout",
       "text": [
        " http://newtalk.tw/news/2014/08/28/50836.html\n",
        "nt2014082850834"
       ]
      },
      {
       "output_type": "stream",
       "stream": "stdout",
       "text": [
        " http://newtalk.tw/news/2014/08/28/50834.html\n",
        "nt2014082850833"
       ]
      },
      {
       "output_type": "stream",
       "stream": "stdout",
       "text": [
        " http://newtalk.tw/news/2014/08/28/50833.html\n",
        "20"
       ]
      },
      {
       "output_type": "stream",
       "stream": "stdout",
       "text": [
        "\n",
        "nt2014082850826"
       ]
      },
      {
       "output_type": "stream",
       "stream": "stdout",
       "text": [
        " http://newtalk.tw/news/2014/08/28/50826.html\n",
        "nt2014082850828"
       ]
      },
      {
       "output_type": "stream",
       "stream": "stdout",
       "text": [
        " http://newtalk.tw/news/2014/08/28/50828.html\n",
        "nt2014082850822"
       ]
      },
      {
       "output_type": "stream",
       "stream": "stdout",
       "text": [
        " http://newtalk.tw/news/2014/08/28/50822.html\n",
        "nt2014082750815"
       ]
      },
      {
       "output_type": "stream",
       "stream": "stdout",
       "text": [
        " http://newtalk.tw/news/2014/08/27/50815.html\n",
        "nt2014082750814"
       ]
      },
      {
       "output_type": "stream",
       "stream": "stdout",
       "text": [
        " http://newtalk.tw/news/2014/08/27/50814.html\n",
        "nt2014082750813"
       ]
      },
      {
       "output_type": "stream",
       "stream": "stdout",
       "text": [
        " http://newtalk.tw/news/2014/08/27/50813.html\n",
        "nt2014082750804"
       ]
      },
      {
       "output_type": "stream",
       "stream": "stdout",
       "text": [
        " http://newtalk.tw/news/2014/08/27/50804.html\n",
        "http://newtalk.tw/news/2014/08/27/50803.html  image download failed, "
       ]
      },
      {
       "output_type": "stream",
       "stream": "stdout",
       "text": [
        " 'NoneType' object has no attribute 'find'\n",
        "nt2014082750803 http://newtalk.tw/news/2014/08/27/50803.html\n",
        "nt2014082750791"
       ]
      },
      {
       "output_type": "stream",
       "stream": "stdout",
       "text": [
        " http://newtalk.tw/news/2014/08/27/50791.html\n",
        "nt2014082750786"
       ]
      },
      {
       "output_type": "stream",
       "stream": "stdout",
       "text": [
        " http://newtalk.tw/news/2014/08/27/50786.html\n",
        "nt2014082650778"
       ]
      },
      {
       "output_type": "stream",
       "stream": "stdout",
       "text": [
        " http://newtalk.tw/news/2014/08/26/50778.html\n",
        "nt2014082650777"
       ]
      },
      {
       "output_type": "stream",
       "stream": "stdout",
       "text": [
        " http://newtalk.tw/news/2014/08/26/50777.html\n",
        "nt2014082650776"
       ]
      },
      {
       "output_type": "stream",
       "stream": "stdout",
       "text": [
        " http://newtalk.tw/news/2014/08/26/50776.html\n",
        "http://newtalk.tw/news/2014/08/26/50775.html  image download failed, "
       ]
      },
      {
       "output_type": "stream",
       "stream": "stdout",
       "text": [
        " 'NoneType' object has no attribute 'find'\n",
        "nt2014082650775 http://newtalk.tw/news/2014/08/26/50775.html\n",
        "nt2014082650774"
       ]
      },
      {
       "output_type": "stream",
       "stream": "stdout",
       "text": [
        " http://newtalk.tw/news/2014/08/26/50774.html\n",
        "nt2014082650764"
       ]
      },
      {
       "output_type": "stream",
       "stream": "stdout",
       "text": [
        " http://newtalk.tw/news/2014/08/26/50764.html\n",
        "nt2014082650769"
       ]
      },
      {
       "output_type": "stream",
       "stream": "stdout",
       "text": [
        " http://newtalk.tw/news/2014/08/26/50769.html\n",
        "nt2014082650756"
       ]
      },
      {
       "output_type": "stream",
       "stream": "stdout",
       "text": [
        " http://newtalk.tw/news/2014/08/26/50756.html\n",
        "nt2014082650759"
       ]
      },
      {
       "output_type": "stream",
       "stream": "stdout",
       "text": [
        " http://newtalk.tw/news/2014/08/26/50759.html\n",
        "nt2014082650757"
       ]
      },
      {
       "output_type": "stream",
       "stream": "stdout",
       "text": [
        " http://newtalk.tw/news/2014/08/26/50757.html\n",
        "20"
       ]
      },
      {
       "output_type": "stream",
       "stream": "stdout",
       "text": [
        "\n",
        "nt2014082650758"
       ]
      },
      {
       "output_type": "stream",
       "stream": "stdout",
       "text": [
        " http://newtalk.tw/news/2014/08/26/50758.html\n",
        "nt2014082650752"
       ]
      },
      {
       "output_type": "stream",
       "stream": "stdout",
       "text": [
        " http://newtalk.tw/news/2014/08/26/50752.html\n",
        "nt2014082650755"
       ]
      },
      {
       "output_type": "stream",
       "stream": "stdout",
       "text": [
        " http://newtalk.tw/news/2014/08/26/50755.html\n",
        "nt2014082650748"
       ]
      },
      {
       "output_type": "stream",
       "stream": "stdout",
       "text": [
        " http://newtalk.tw/news/2014/08/26/50748.html\n",
        "nt2014082650753"
       ]
      },
      {
       "output_type": "stream",
       "stream": "stdout",
       "text": [
        " http://newtalk.tw/news/2014/08/26/50753.html\n",
        "nt2014082650749"
       ]
      },
      {
       "output_type": "stream",
       "stream": "stdout",
       "text": [
        " http://newtalk.tw/news/2014/08/26/50749.html\n",
        "nt2014082650742"
       ]
      },
      {
       "output_type": "stream",
       "stream": "stdout",
       "text": [
        " http://newtalk.tw/news/2014/08/26/50742.html\n",
        "nt2014082650747"
       ]
      },
      {
       "output_type": "stream",
       "stream": "stdout",
       "text": [
        " http://newtalk.tw/news/2014/08/26/50747.html\n",
        "nt2014082550736"
       ]
      },
      {
       "output_type": "stream",
       "stream": "stdout",
       "text": [
        " http://newtalk.tw/news/2014/08/25/50736.html\n",
        "nt2014082550733"
       ]
      },
      {
       "output_type": "stream",
       "stream": "stdout",
       "text": [
        " http://newtalk.tw/news/2014/08/25/50733.html\n",
        "nt2014082550720"
       ]
      },
      {
       "output_type": "stream",
       "stream": "stdout",
       "text": [
        " http://newtalk.tw/news/2014/08/25/50720.html\n",
        "nt2014082550712"
       ]
      },
      {
       "output_type": "stream",
       "stream": "stdout",
       "text": [
        " http://newtalk.tw/news/2014/08/25/50712.html\n",
        "nt2014082550711"
       ]
      },
      {
       "output_type": "stream",
       "stream": "stdout",
       "text": [
        " http://newtalk.tw/news/2014/08/25/50711.html\n",
        "nt2014082450703"
       ]
      },
      {
       "output_type": "stream",
       "stream": "stdout",
       "text": [
        " http://newtalk.tw/news/2014/08/24/50703.html\n",
        "nt2014082450702"
       ]
      },
      {
       "output_type": "stream",
       "stream": "stdout",
       "text": [
        " http://newtalk.tw/news/2014/08/24/50702.html\n",
        "nt2014082450701"
       ]
      },
      {
       "output_type": "stream",
       "stream": "stdout",
       "text": [
        " http://newtalk.tw/news/2014/08/24/50701.html\n",
        "nt2014082450699"
       ]
      },
      {
       "output_type": "stream",
       "stream": "stdout",
       "text": [
        " http://newtalk.tw/news/2014/08/24/50699.html\n",
        "nt2014082450698"
       ]
      },
      {
       "output_type": "stream",
       "stream": "stdout",
       "text": [
        " http://newtalk.tw/news/2014/08/24/50698.html\n",
        "nt2014082450697"
       ]
      },
      {
       "output_type": "stream",
       "stream": "stdout",
       "text": [
        " http://newtalk.tw/news/2014/08/24/50697.html\n",
        "nt2014082450696"
       ]
      },
      {
       "output_type": "stream",
       "stream": "stdout",
       "text": [
        " http://newtalk.tw/news/2014/08/24/50696.html\n",
        "10"
       ]
      },
      {
       "output_type": "stream",
       "stream": "stdout",
       "text": [
        "\n",
        "http://newtalk.tw/news/2014/08/24/50691.html  image download failed, "
       ]
      },
      {
       "output_type": "stream",
       "stream": "stdout",
       "text": [
        " 'NoneType' object has no attribute 'find'\n",
        "nt2014082450691 http://newtalk.tw/news/2014/08/24/50691.html\n",
        "http://newtalk.tw/news/2014/08/24/50689.html  image download failed, "
       ]
      },
      {
       "output_type": "stream",
       "stream": "stdout",
       "text": [
        " 'NoneType' object has no attribute 'find'\n",
        "nt2014082450689 http://newtalk.tw/news/2014/08/24/50689.html\n",
        "nt2014082450687"
       ]
      },
      {
       "output_type": "stream",
       "stream": "stdout",
       "text": [
        " http://newtalk.tw/news/2014/08/24/50687.html\n",
        "nt2014082350682"
       ]
      },
      {
       "output_type": "stream",
       "stream": "stdout",
       "text": [
        " http://newtalk.tw/news/2014/08/23/50682.html\n",
        "nt2014082350681"
       ]
      },
      {
       "output_type": "stream",
       "stream": "stdout",
       "text": [
        " http://newtalk.tw/news/2014/08/23/50681.html\n",
        "nt2014082350678"
       ]
      },
      {
       "output_type": "stream",
       "stream": "stdout",
       "text": [
        " http://newtalk.tw/news/2014/08/23/50678.html\n",
        "nt2014082350677"
       ]
      },
      {
       "output_type": "stream",
       "stream": "stdout",
       "text": [
        " http://newtalk.tw/news/2014/08/23/50677.html\n",
        "nt2014082350676"
       ]
      },
      {
       "output_type": "stream",
       "stream": "stdout",
       "text": [
        " http://newtalk.tw/news/2014/08/23/50676.html\n",
        "http://newtalk.tw/news/2014/08/23/50673.html  image download failed, "
       ]
      },
      {
       "output_type": "stream",
       "stream": "stdout",
       "text": [
        " 'NoneType' object has no attribute 'find'\n",
        "nt2014082350673 http://newtalk.tw/news/2014/08/23/50673.html\n",
        "nt2014082350672"
       ]
      },
      {
       "output_type": "stream",
       "stream": "stdout",
       "text": [
        " http://newtalk.tw/news/2014/08/23/50672.html\n"
       ]
      }
     ],
     "prompt_number": 1
    },
    {
     "cell_type": "code",
     "collapsed": false,
     "input": [],
     "language": "python",
     "metadata": {},
     "outputs": []
    }
   ],
   "metadata": {}
  }
 ]
}